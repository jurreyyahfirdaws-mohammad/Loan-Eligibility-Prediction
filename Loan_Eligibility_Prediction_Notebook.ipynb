{
  "cells": [
    {
      "cell_type": "markdown",
      "id": "d52b5b1f",
      "metadata": {
        "id": "d52b5b1f"
      },
      "source": [
        "## Following the problem we are trying to solve:\n",
        "\n",
        "### The Dream Housing Finance Company works with several types of mortgages. They run some targeted marketing activities in order to be able to forecast if a potential consumer will be qualified for a loan or not. They would search for a model that most precisely forecasts qualified clients in order to accomplish this. As a result, the model that correctly predicts \"Y\" as \"Y\" should be chosen. The most accurate model is the one in question."
      ]
    },
    {
      "cell_type": "markdown",
      "id": "e9bc334a",
      "metadata": {
        "papermill": {
          "duration": 0.032343,
          "end_time": "2022-12-28T02:42:55.217732",
          "exception": false,
          "start_time": "2022-12-28T02:42:55.185389",
          "status": "completed"
        },
        "tags": [],
        "id": "e9bc334a"
      },
      "source": [
        "# Import Libraries"
      ]
    },
    {
      "cell_type": "code",
      "execution_count": 1,
      "id": "316b4fa7",
      "metadata": {
        "execution": {
          "iopub.execute_input": "2022-12-28T02:42:55.286839Z",
          "iopub.status.busy": "2022-12-28T02:42:55.285799Z",
          "iopub.status.idle": "2022-12-28T02:42:57.140575Z",
          "shell.execute_reply": "2022-12-28T02:42:57.138947Z"
        },
        "papermill": {
          "duration": 1.893422,
          "end_time": "2022-12-28T02:42:57.143820",
          "exception": false,
          "start_time": "2022-12-28T02:42:55.250398",
          "status": "completed"
        },
        "tags": [],
        "id": "316b4fa7"
      },
      "outputs": [],
      "source": [
        "import numpy as np\n",
        "import pandas as pd\n",
        "import seaborn as sns\n",
        "import matplotlib.pyplot as plt\n",
        "from sklearn import svm\n",
        "from sklearn.model_selection import train_test_split\n",
        "from sklearn.metrics import f1_score, confusion_matrix, accuracy_score, precision_score, recall_score, roc_auc_score, classification_report, roc_curve\n",
        "import scipy.stats as stats\n",
        "from sklearn.model_selection import GridSearchCV\n",
        "from sklearn.linear_model import LogisticRegression\n",
        "from sklearn.ensemble import BaggingClassifier, RandomForestClassifier, GradientBoostingClassifier, AdaBoostClassifier\n",
        "from xgboost import XGBClassifier\n",
        "from sklearn.svm import SVC\n",
        "from sklearn.metrics import accuracy_score, confusion_matrix, classification_report, roc_auc_score, roc_curve"
      ]
    },
    {
      "cell_type": "markdown",
      "id": "94634380",
      "metadata": {
        "papermill": {
          "duration": 0.031142,
          "end_time": "2022-12-28T02:42:57.207347",
          "exception": false,
          "start_time": "2022-12-28T02:42:57.176205",
          "status": "completed"
        },
        "tags": [],
        "id": "94634380"
      },
      "source": [
        "# Load Data"
      ]
    },
    {
      "cell_type": "code",
      "execution_count": 2,
      "id": "3d5f62e8",
      "metadata": {
        "execution": {
          "iopub.execute_input": "2022-12-28T02:42:57.335357Z",
          "iopub.status.busy": "2022-12-28T02:42:57.334702Z",
          "iopub.status.idle": "2022-12-28T02:42:57.357222Z",
          "shell.execute_reply": "2022-12-28T02:42:57.356285Z"
        },
        "papermill": {
          "duration": 0.0577,
          "end_time": "2022-12-28T02:42:57.359809",
          "exception": false,
          "start_time": "2022-12-28T02:42:57.302109",
          "status": "completed"
        },
        "tags": [],
        "id": "3d5f62e8"
      },
      "outputs": [],
      "source": [
        "loan_data = pd.read_csv('Loan_Data.csv')"
      ]
    },
    {
      "cell_type": "code",
      "execution_count": 3,
      "id": "c9648ee6",
      "metadata": {
        "execution": {
          "iopub.execute_input": "2022-12-28T02:42:57.485305Z",
          "iopub.status.busy": "2022-12-28T02:42:57.484620Z",
          "iopub.status.idle": "2022-12-28T02:42:57.515248Z",
          "shell.execute_reply": "2022-12-28T02:42:57.513737Z"
        },
        "papermill": {
          "duration": 0.066465,
          "end_time": "2022-12-28T02:42:57.518738",
          "exception": false,
          "start_time": "2022-12-28T02:42:57.452273",
          "status": "completed"
        },
        "tags": [],
        "colab": {
          "base_uri": "https://localhost:8080/"
        },
        "id": "c9648ee6",
        "outputId": "f8d09298-27b8-4d04-ec3f-b3c93aa8e790"
      },
      "outputs": [
        {
          "output_type": "stream",
          "name": "stdout",
          "text": [
            "<class 'pandas.core.frame.DataFrame'>\n",
            "RangeIndex: 614 entries, 0 to 613\n",
            "Data columns (total 13 columns):\n",
            " #   Column             Non-Null Count  Dtype  \n",
            "---  ------             --------------  -----  \n",
            " 0   Loan_ID            614 non-null    object \n",
            " 1   Gender             601 non-null    object \n",
            " 2   Married            611 non-null    object \n",
            " 3   Dependents         599 non-null    object \n",
            " 4   Education          614 non-null    object \n",
            " 5   Self_Employed      582 non-null    object \n",
            " 6   ApplicantIncome    614 non-null    int64  \n",
            " 7   CoapplicantIncome  614 non-null    float64\n",
            " 8   LoanAmount         592 non-null    float64\n",
            " 9   Loan_Amount_Term   600 non-null    float64\n",
            " 10  Credit_History     564 non-null    float64\n",
            " 11  Property_Area      614 non-null    object \n",
            " 12  Loan_Status        614 non-null    object \n",
            "dtypes: float64(4), int64(1), object(8)\n",
            "memory usage: 62.5+ KB\n"
          ]
        }
      ],
      "source": [
        "loan_data.info()"
      ]
    },
    {
      "cell_type": "code",
      "execution_count": 4,
      "id": "a1a80fb4",
      "metadata": {
        "execution": {
          "iopub.execute_input": "2022-12-28T02:42:57.586963Z",
          "iopub.status.busy": "2022-12-28T02:42:57.585678Z",
          "iopub.status.idle": "2022-12-28T02:42:57.615037Z",
          "shell.execute_reply": "2022-12-28T02:42:57.614076Z"
        },
        "papermill": {
          "duration": 0.064757,
          "end_time": "2022-12-28T02:42:57.617339",
          "exception": false,
          "start_time": "2022-12-28T02:42:57.552582",
          "status": "completed"
        },
        "tags": [],
        "colab": {
          "base_uri": "https://localhost:8080/",
          "height": 288
        },
        "id": "a1a80fb4",
        "outputId": "53ad1193-bc8c-40eb-bf39-ffc347153505"
      },
      "outputs": [
        {
          "output_type": "execute_result",
          "data": {
            "text/plain": [
              "    Loan_ID Gender Married Dependents     Education Self_Employed  \\\n",
              "0  LP001002   Male      No          0      Graduate            No   \n",
              "1  LP001003   Male     Yes          1      Graduate            No   \n",
              "2  LP001005   Male     Yes          0      Graduate           Yes   \n",
              "3  LP001006   Male     Yes          0  Not Graduate            No   \n",
              "4  LP001008   Male      No          0      Graduate            No   \n",
              "\n",
              "   ApplicantIncome  CoapplicantIncome  LoanAmount  Loan_Amount_Term  \\\n",
              "0             5849                0.0         NaN             360.0   \n",
              "1             4583             1508.0       128.0             360.0   \n",
              "2             3000                0.0        66.0             360.0   \n",
              "3             2583             2358.0       120.0             360.0   \n",
              "4             6000                0.0       141.0             360.0   \n",
              "\n",
              "   Credit_History Property_Area Loan_Status  \n",
              "0             1.0         Urban           Y  \n",
              "1             1.0         Rural           N  \n",
              "2             1.0         Urban           Y  \n",
              "3             1.0         Urban           Y  \n",
              "4             1.0         Urban           Y  "
            ],
            "text/html": [
              "\n",
              "  <div id=\"df-1efbddab-cd09-4a81-b1b4-aae0fb320613\">\n",
              "    <div class=\"colab-df-container\">\n",
              "      <div>\n",
              "<style scoped>\n",
              "    .dataframe tbody tr th:only-of-type {\n",
              "        vertical-align: middle;\n",
              "    }\n",
              "\n",
              "    .dataframe tbody tr th {\n",
              "        vertical-align: top;\n",
              "    }\n",
              "\n",
              "    .dataframe thead th {\n",
              "        text-align: right;\n",
              "    }\n",
              "</style>\n",
              "<table border=\"1\" class=\"dataframe\">\n",
              "  <thead>\n",
              "    <tr style=\"text-align: right;\">\n",
              "      <th></th>\n",
              "      <th>Loan_ID</th>\n",
              "      <th>Gender</th>\n",
              "      <th>Married</th>\n",
              "      <th>Dependents</th>\n",
              "      <th>Education</th>\n",
              "      <th>Self_Employed</th>\n",
              "      <th>ApplicantIncome</th>\n",
              "      <th>CoapplicantIncome</th>\n",
              "      <th>LoanAmount</th>\n",
              "      <th>Loan_Amount_Term</th>\n",
              "      <th>Credit_History</th>\n",
              "      <th>Property_Area</th>\n",
              "      <th>Loan_Status</th>\n",
              "    </tr>\n",
              "  </thead>\n",
              "  <tbody>\n",
              "    <tr>\n",
              "      <th>0</th>\n",
              "      <td>LP001002</td>\n",
              "      <td>Male</td>\n",
              "      <td>No</td>\n",
              "      <td>0</td>\n",
              "      <td>Graduate</td>\n",
              "      <td>No</td>\n",
              "      <td>5849</td>\n",
              "      <td>0.0</td>\n",
              "      <td>NaN</td>\n",
              "      <td>360.0</td>\n",
              "      <td>1.0</td>\n",
              "      <td>Urban</td>\n",
              "      <td>Y</td>\n",
              "    </tr>\n",
              "    <tr>\n",
              "      <th>1</th>\n",
              "      <td>LP001003</td>\n",
              "      <td>Male</td>\n",
              "      <td>Yes</td>\n",
              "      <td>1</td>\n",
              "      <td>Graduate</td>\n",
              "      <td>No</td>\n",
              "      <td>4583</td>\n",
              "      <td>1508.0</td>\n",
              "      <td>128.0</td>\n",
              "      <td>360.0</td>\n",
              "      <td>1.0</td>\n",
              "      <td>Rural</td>\n",
              "      <td>N</td>\n",
              "    </tr>\n",
              "    <tr>\n",
              "      <th>2</th>\n",
              "      <td>LP001005</td>\n",
              "      <td>Male</td>\n",
              "      <td>Yes</td>\n",
              "      <td>0</td>\n",
              "      <td>Graduate</td>\n",
              "      <td>Yes</td>\n",
              "      <td>3000</td>\n",
              "      <td>0.0</td>\n",
              "      <td>66.0</td>\n",
              "      <td>360.0</td>\n",
              "      <td>1.0</td>\n",
              "      <td>Urban</td>\n",
              "      <td>Y</td>\n",
              "    </tr>\n",
              "    <tr>\n",
              "      <th>3</th>\n",
              "      <td>LP001006</td>\n",
              "      <td>Male</td>\n",
              "      <td>Yes</td>\n",
              "      <td>0</td>\n",
              "      <td>Not Graduate</td>\n",
              "      <td>No</td>\n",
              "      <td>2583</td>\n",
              "      <td>2358.0</td>\n",
              "      <td>120.0</td>\n",
              "      <td>360.0</td>\n",
              "      <td>1.0</td>\n",
              "      <td>Urban</td>\n",
              "      <td>Y</td>\n",
              "    </tr>\n",
              "    <tr>\n",
              "      <th>4</th>\n",
              "      <td>LP001008</td>\n",
              "      <td>Male</td>\n",
              "      <td>No</td>\n",
              "      <td>0</td>\n",
              "      <td>Graduate</td>\n",
              "      <td>No</td>\n",
              "      <td>6000</td>\n",
              "      <td>0.0</td>\n",
              "      <td>141.0</td>\n",
              "      <td>360.0</td>\n",
              "      <td>1.0</td>\n",
              "      <td>Urban</td>\n",
              "      <td>Y</td>\n",
              "    </tr>\n",
              "  </tbody>\n",
              "</table>\n",
              "</div>\n",
              "      <button class=\"colab-df-convert\" onclick=\"convertToInteractive('df-1efbddab-cd09-4a81-b1b4-aae0fb320613')\"\n",
              "              title=\"Convert this dataframe to an interactive table.\"\n",
              "              style=\"display:none;\">\n",
              "        \n",
              "  <svg xmlns=\"http://www.w3.org/2000/svg\" height=\"24px\"viewBox=\"0 0 24 24\"\n",
              "       width=\"24px\">\n",
              "    <path d=\"M0 0h24v24H0V0z\" fill=\"none\"/>\n",
              "    <path d=\"M18.56 5.44l.94 2.06.94-2.06 2.06-.94-2.06-.94-.94-2.06-.94 2.06-2.06.94zm-11 1L8.5 8.5l.94-2.06 2.06-.94-2.06-.94L8.5 2.5l-.94 2.06-2.06.94zm10 10l.94 2.06.94-2.06 2.06-.94-2.06-.94-.94-2.06-.94 2.06-2.06.94z\"/><path d=\"M17.41 7.96l-1.37-1.37c-.4-.4-.92-.59-1.43-.59-.52 0-1.04.2-1.43.59L10.3 9.45l-7.72 7.72c-.78.78-.78 2.05 0 2.83L4 21.41c.39.39.9.59 1.41.59.51 0 1.02-.2 1.41-.59l7.78-7.78 2.81-2.81c.8-.78.8-2.07 0-2.86zM5.41 20L4 18.59l7.72-7.72 1.47 1.35L5.41 20z\"/>\n",
              "  </svg>\n",
              "      </button>\n",
              "      \n",
              "  <style>\n",
              "    .colab-df-container {\n",
              "      display:flex;\n",
              "      flex-wrap:wrap;\n",
              "      gap: 12px;\n",
              "    }\n",
              "\n",
              "    .colab-df-convert {\n",
              "      background-color: #E8F0FE;\n",
              "      border: none;\n",
              "      border-radius: 50%;\n",
              "      cursor: pointer;\n",
              "      display: none;\n",
              "      fill: #1967D2;\n",
              "      height: 32px;\n",
              "      padding: 0 0 0 0;\n",
              "      width: 32px;\n",
              "    }\n",
              "\n",
              "    .colab-df-convert:hover {\n",
              "      background-color: #E2EBFA;\n",
              "      box-shadow: 0px 1px 2px rgba(60, 64, 67, 0.3), 0px 1px 3px 1px rgba(60, 64, 67, 0.15);\n",
              "      fill: #174EA6;\n",
              "    }\n",
              "\n",
              "    [theme=dark] .colab-df-convert {\n",
              "      background-color: #3B4455;\n",
              "      fill: #D2E3FC;\n",
              "    }\n",
              "\n",
              "    [theme=dark] .colab-df-convert:hover {\n",
              "      background-color: #434B5C;\n",
              "      box-shadow: 0px 1px 3px 1px rgba(0, 0, 0, 0.15);\n",
              "      filter: drop-shadow(0px 1px 2px rgba(0, 0, 0, 0.3));\n",
              "      fill: #FFFFFF;\n",
              "    }\n",
              "  </style>\n",
              "\n",
              "      <script>\n",
              "        const buttonEl =\n",
              "          document.querySelector('#df-1efbddab-cd09-4a81-b1b4-aae0fb320613 button.colab-df-convert');\n",
              "        buttonEl.style.display =\n",
              "          google.colab.kernel.accessAllowed ? 'block' : 'none';\n",
              "\n",
              "        async function convertToInteractive(key) {\n",
              "          const element = document.querySelector('#df-1efbddab-cd09-4a81-b1b4-aae0fb320613');\n",
              "          const dataTable =\n",
              "            await google.colab.kernel.invokeFunction('convertToInteractive',\n",
              "                                                     [key], {});\n",
              "          if (!dataTable) return;\n",
              "\n",
              "          const docLinkHtml = 'Like what you see? Visit the ' +\n",
              "            '<a target=\"_blank\" href=https://colab.research.google.com/notebooks/data_table.ipynb>data table notebook</a>'\n",
              "            + ' to learn more about interactive tables.';\n",
              "          element.innerHTML = '';\n",
              "          dataTable['output_type'] = 'display_data';\n",
              "          await google.colab.output.renderOutput(dataTable, element);\n",
              "          const docLink = document.createElement('div');\n",
              "          docLink.innerHTML = docLinkHtml;\n",
              "          element.appendChild(docLink);\n",
              "        }\n",
              "      </script>\n",
              "    </div>\n",
              "  </div>\n",
              "  "
            ]
          },
          "metadata": {},
          "execution_count": 4
        }
      ],
      "source": [
        "loan_data.head()"
      ]
    },
    {
      "cell_type": "markdown",
      "id": "53584bfc",
      "metadata": {
        "papermill": {
          "duration": 0.030696,
          "end_time": "2022-12-28T02:42:57.681735",
          "exception": false,
          "start_time": "2022-12-28T02:42:57.651039",
          "status": "completed"
        },
        "tags": [],
        "id": "53584bfc"
      },
      "source": [
        "### Below the features in the CSV file, for which there is some missing data:\n",
        "\n",
        "#### - Gender\n",
        "#### - Married\n",
        "#### - Dependents\n",
        "#### - Self_Employed\n",
        "#### - LoanAmount\n",
        "#### - Loan_Amount_Term\n",
        "#### - Credit_History"
      ]
    },
    {
      "cell_type": "markdown",
      "id": "d88969bc",
      "metadata": {
        "papermill": {
          "duration": 0.034875,
          "end_time": "2022-12-28T02:42:57.748585",
          "exception": false,
          "start_time": "2022-12-28T02:42:57.713710",
          "status": "completed"
        },
        "tags": [],
        "id": "d88969bc"
      },
      "source": [
        "### Below the features in the CSV file, for which there is a mix of categorical and numerical data:\n",
        "\n",
        "- Numerical Variables:\n",
        "    - ApplicantIncome\n",
        "    - CoapplicantIncome\n",
        "    - LoanAmount\n",
        "    - Loan_Amount_Term\n",
        "- Categorical Variables:\n",
        "    - Dependents\n",
        "    - Gender\n",
        "    - Married\n",
        "    - Education\n",
        "    - Self_Employed\n",
        "    - Credit_History\n",
        "    - Property_Area"
      ]
    },
    {
      "cell_type": "markdown",
      "id": "5501b04e",
      "metadata": {
        "papermill": {
          "duration": 0.031956,
          "end_time": "2022-12-28T02:42:57.811402",
          "exception": false,
          "start_time": "2022-12-28T02:42:57.779446",
          "status": "completed"
        },
        "tags": [],
        "id": "5501b04e"
      },
      "source": [
        "### Our Target column is the Loan_Status"
      ]
    },
    {
      "cell_type": "code",
      "execution_count": 5,
      "id": "10c992f9",
      "metadata": {
        "execution": {
          "iopub.execute_input": "2022-12-28T02:42:57.878426Z",
          "iopub.status.busy": "2022-12-28T02:42:57.877686Z",
          "iopub.status.idle": "2022-12-28T02:42:57.884884Z",
          "shell.execute_reply": "2022-12-28T02:42:57.883868Z"
        },
        "papermill": {
          "duration": 0.042453,
          "end_time": "2022-12-28T02:42:57.887360",
          "exception": false,
          "start_time": "2022-12-28T02:42:57.844907",
          "status": "completed"
        },
        "tags": [],
        "id": "10c992f9"
      },
      "outputs": [],
      "source": [
        "# drop Index\n",
        "data = loan_data.drop(columns = ['Loan_ID'], inplace = False)"
      ]
    },
    {
      "cell_type": "code",
      "execution_count": 6,
      "id": "e8a4b8c8",
      "metadata": {
        "execution": {
          "iopub.execute_input": "2022-12-28T02:42:57.954904Z",
          "iopub.status.busy": "2022-12-28T02:42:57.953973Z",
          "iopub.status.idle": "2022-12-28T02:42:57.968345Z",
          "shell.execute_reply": "2022-12-28T02:42:57.967091Z"
        },
        "papermill": {
          "duration": 0.051359,
          "end_time": "2022-12-28T02:42:57.971264",
          "exception": false,
          "start_time": "2022-12-28T02:42:57.919905",
          "status": "completed"
        },
        "tags": [],
        "colab": {
          "base_uri": "https://localhost:8080/"
        },
        "id": "e8a4b8c8",
        "outputId": "7c23bed6-37de-4232-87cd-7f63fb111aaf"
      },
      "outputs": [
        {
          "output_type": "execute_result",
          "data": {
            "text/plain": [
              "Gender                 2\n",
              "Married                2\n",
              "Dependents             4\n",
              "Education              2\n",
              "Self_Employed          2\n",
              "ApplicantIncome      505\n",
              "CoapplicantIncome    287\n",
              "LoanAmount           203\n",
              "Loan_Amount_Term      10\n",
              "Credit_History         2\n",
              "Property_Area          3\n",
              "Loan_Status            2\n",
              "dtype: int64"
            ]
          },
          "metadata": {},
          "execution_count": 6
        }
      ],
      "source": [
        "data.nunique()"
      ]
    },
    {
      "cell_type": "markdown",
      "id": "a8e67f81",
      "metadata": {
        "papermill": {
          "duration": 0.033104,
          "end_time": "2022-12-28T02:42:58.035521",
          "exception": false,
          "start_time": "2022-12-28T02:42:58.002417",
          "status": "completed"
        },
        "tags": [],
        "id": "a8e67f81"
      },
      "source": [
        "# Exploratory Data Analysis (EDA)"
      ]
    },
    {
      "cell_type": "code",
      "execution_count": 7,
      "id": "d9cfa649",
      "metadata": {
        "execution": {
          "iopub.execute_input": "2022-12-28T02:42:58.101726Z",
          "iopub.status.busy": "2022-12-28T02:42:58.101039Z",
          "iopub.status.idle": "2022-12-28T02:42:58.139794Z",
          "shell.execute_reply": "2022-12-28T02:42:58.138176Z"
        },
        "papermill": {
          "duration": 0.075839,
          "end_time": "2022-12-28T02:42:58.142817",
          "exception": false,
          "start_time": "2022-12-28T02:42:58.066978",
          "status": "completed"
        },
        "tags": [],
        "colab": {
          "base_uri": "https://localhost:8080/",
          "height": 206
        },
        "id": "d9cfa649",
        "outputId": "6b031d26-8915-4f17-f7dc-da52637bbd8a"
      },
      "outputs": [
        {
          "output_type": "execute_result",
          "data": {
            "text/plain": [
              "                   count         mean          std    min     25%     50%  \\\n",
              "ApplicantIncome    614.0  5403.459283  6109.041673  150.0  2877.5  3812.5   \n",
              "CoapplicantIncome  614.0  1621.245798  2926.248369    0.0     0.0  1188.5   \n",
              "LoanAmount         592.0   146.412162    85.587325    9.0   100.0   128.0   \n",
              "Loan_Amount_Term   600.0   342.000000    65.120410   12.0   360.0   360.0   \n",
              "Credit_History     564.0     0.842199     0.364878    0.0     1.0     1.0   \n",
              "\n",
              "                       75%      max  \n",
              "ApplicantIncome    5795.00  81000.0  \n",
              "CoapplicantIncome  2297.25  41667.0  \n",
              "LoanAmount          168.00    700.0  \n",
              "Loan_Amount_Term    360.00    480.0  \n",
              "Credit_History        1.00      1.0  "
            ],
            "text/html": [
              "\n",
              "  <div id=\"df-29ae6e10-2aa5-4d13-958b-bc3c2b7e28ad\">\n",
              "    <div class=\"colab-df-container\">\n",
              "      <div>\n",
              "<style scoped>\n",
              "    .dataframe tbody tr th:only-of-type {\n",
              "        vertical-align: middle;\n",
              "    }\n",
              "\n",
              "    .dataframe tbody tr th {\n",
              "        vertical-align: top;\n",
              "    }\n",
              "\n",
              "    .dataframe thead th {\n",
              "        text-align: right;\n",
              "    }\n",
              "</style>\n",
              "<table border=\"1\" class=\"dataframe\">\n",
              "  <thead>\n",
              "    <tr style=\"text-align: right;\">\n",
              "      <th></th>\n",
              "      <th>count</th>\n",
              "      <th>mean</th>\n",
              "      <th>std</th>\n",
              "      <th>min</th>\n",
              "      <th>25%</th>\n",
              "      <th>50%</th>\n",
              "      <th>75%</th>\n",
              "      <th>max</th>\n",
              "    </tr>\n",
              "  </thead>\n",
              "  <tbody>\n",
              "    <tr>\n",
              "      <th>ApplicantIncome</th>\n",
              "      <td>614.0</td>\n",
              "      <td>5403.459283</td>\n",
              "      <td>6109.041673</td>\n",
              "      <td>150.0</td>\n",
              "      <td>2877.5</td>\n",
              "      <td>3812.5</td>\n",
              "      <td>5795.00</td>\n",
              "      <td>81000.0</td>\n",
              "    </tr>\n",
              "    <tr>\n",
              "      <th>CoapplicantIncome</th>\n",
              "      <td>614.0</td>\n",
              "      <td>1621.245798</td>\n",
              "      <td>2926.248369</td>\n",
              "      <td>0.0</td>\n",
              "      <td>0.0</td>\n",
              "      <td>1188.5</td>\n",
              "      <td>2297.25</td>\n",
              "      <td>41667.0</td>\n",
              "    </tr>\n",
              "    <tr>\n",
              "      <th>LoanAmount</th>\n",
              "      <td>592.0</td>\n",
              "      <td>146.412162</td>\n",
              "      <td>85.587325</td>\n",
              "      <td>9.0</td>\n",
              "      <td>100.0</td>\n",
              "      <td>128.0</td>\n",
              "      <td>168.00</td>\n",
              "      <td>700.0</td>\n",
              "    </tr>\n",
              "    <tr>\n",
              "      <th>Loan_Amount_Term</th>\n",
              "      <td>600.0</td>\n",
              "      <td>342.000000</td>\n",
              "      <td>65.120410</td>\n",
              "      <td>12.0</td>\n",
              "      <td>360.0</td>\n",
              "      <td>360.0</td>\n",
              "      <td>360.00</td>\n",
              "      <td>480.0</td>\n",
              "    </tr>\n",
              "    <tr>\n",
              "      <th>Credit_History</th>\n",
              "      <td>564.0</td>\n",
              "      <td>0.842199</td>\n",
              "      <td>0.364878</td>\n",
              "      <td>0.0</td>\n",
              "      <td>1.0</td>\n",
              "      <td>1.0</td>\n",
              "      <td>1.00</td>\n",
              "      <td>1.0</td>\n",
              "    </tr>\n",
              "  </tbody>\n",
              "</table>\n",
              "</div>\n",
              "      <button class=\"colab-df-convert\" onclick=\"convertToInteractive('df-29ae6e10-2aa5-4d13-958b-bc3c2b7e28ad')\"\n",
              "              title=\"Convert this dataframe to an interactive table.\"\n",
              "              style=\"display:none;\">\n",
              "        \n",
              "  <svg xmlns=\"http://www.w3.org/2000/svg\" height=\"24px\"viewBox=\"0 0 24 24\"\n",
              "       width=\"24px\">\n",
              "    <path d=\"M0 0h24v24H0V0z\" fill=\"none\"/>\n",
              "    <path d=\"M18.56 5.44l.94 2.06.94-2.06 2.06-.94-2.06-.94-.94-2.06-.94 2.06-2.06.94zm-11 1L8.5 8.5l.94-2.06 2.06-.94-2.06-.94L8.5 2.5l-.94 2.06-2.06.94zm10 10l.94 2.06.94-2.06 2.06-.94-2.06-.94-.94-2.06-.94 2.06-2.06.94z\"/><path d=\"M17.41 7.96l-1.37-1.37c-.4-.4-.92-.59-1.43-.59-.52 0-1.04.2-1.43.59L10.3 9.45l-7.72 7.72c-.78.78-.78 2.05 0 2.83L4 21.41c.39.39.9.59 1.41.59.51 0 1.02-.2 1.41-.59l7.78-7.78 2.81-2.81c.8-.78.8-2.07 0-2.86zM5.41 20L4 18.59l7.72-7.72 1.47 1.35L5.41 20z\"/>\n",
              "  </svg>\n",
              "      </button>\n",
              "      \n",
              "  <style>\n",
              "    .colab-df-container {\n",
              "      display:flex;\n",
              "      flex-wrap:wrap;\n",
              "      gap: 12px;\n",
              "    }\n",
              "\n",
              "    .colab-df-convert {\n",
              "      background-color: #E8F0FE;\n",
              "      border: none;\n",
              "      border-radius: 50%;\n",
              "      cursor: pointer;\n",
              "      display: none;\n",
              "      fill: #1967D2;\n",
              "      height: 32px;\n",
              "      padding: 0 0 0 0;\n",
              "      width: 32px;\n",
              "    }\n",
              "\n",
              "    .colab-df-convert:hover {\n",
              "      background-color: #E2EBFA;\n",
              "      box-shadow: 0px 1px 2px rgba(60, 64, 67, 0.3), 0px 1px 3px 1px rgba(60, 64, 67, 0.15);\n",
              "      fill: #174EA6;\n",
              "    }\n",
              "\n",
              "    [theme=dark] .colab-df-convert {\n",
              "      background-color: #3B4455;\n",
              "      fill: #D2E3FC;\n",
              "    }\n",
              "\n",
              "    [theme=dark] .colab-df-convert:hover {\n",
              "      background-color: #434B5C;\n",
              "      box-shadow: 0px 1px 3px 1px rgba(0, 0, 0, 0.15);\n",
              "      filter: drop-shadow(0px 1px 2px rgba(0, 0, 0, 0.3));\n",
              "      fill: #FFFFFF;\n",
              "    }\n",
              "  </style>\n",
              "\n",
              "      <script>\n",
              "        const buttonEl =\n",
              "          document.querySelector('#df-29ae6e10-2aa5-4d13-958b-bc3c2b7e28ad button.colab-df-convert');\n",
              "        buttonEl.style.display =\n",
              "          google.colab.kernel.accessAllowed ? 'block' : 'none';\n",
              "\n",
              "        async function convertToInteractive(key) {\n",
              "          const element = document.querySelector('#df-29ae6e10-2aa5-4d13-958b-bc3c2b7e28ad');\n",
              "          const dataTable =\n",
              "            await google.colab.kernel.invokeFunction('convertToInteractive',\n",
              "                                                     [key], {});\n",
              "          if (!dataTable) return;\n",
              "\n",
              "          const docLinkHtml = 'Like what you see? Visit the ' +\n",
              "            '<a target=\"_blank\" href=https://colab.research.google.com/notebooks/data_table.ipynb>data table notebook</a>'\n",
              "            + ' to learn more about interactive tables.';\n",
              "          element.innerHTML = '';\n",
              "          dataTable['output_type'] = 'display_data';\n",
              "          await google.colab.output.renderOutput(dataTable, element);\n",
              "          const docLink = document.createElement('div');\n",
              "          docLink.innerHTML = docLinkHtml;\n",
              "          element.appendChild(docLink);\n",
              "        }\n",
              "      </script>\n",
              "    </div>\n",
              "  </div>\n",
              "  "
            ]
          },
          "metadata": {},
          "execution_count": 7
        }
      ],
      "source": [
        "data.describe().T"
      ]
    },
    {
      "cell_type": "markdown",
      "id": "8d452772",
      "metadata": {
        "papermill": {
          "duration": 0.032282,
          "end_time": "2022-12-28T02:42:58.272634",
          "exception": false,
          "start_time": "2022-12-28T02:42:58.240352",
          "status": "completed"
        },
        "tags": [],
        "id": "8d452772"
      },
      "source": [
        "# Numerical Features - Univariate Analysis"
      ]
    },
    {
      "cell_type": "markdown",
      "id": "536868d5",
      "metadata": {
        "papermill": {
          "duration": 0.03405,
          "end_time": "2022-12-28T02:42:58.338326",
          "exception": false,
          "start_time": "2022-12-28T02:42:58.304276",
          "status": "completed"
        },
        "tags": [],
        "id": "536868d5"
      },
      "source": [
        "## Boxplot & Histogram"
      ]
    },
    {
      "cell_type": "markdown",
      "id": "2430556c",
      "metadata": {
        "papermill": {
          "duration": 0.031377,
          "end_time": "2022-12-28T02:42:58.402080",
          "exception": false,
          "start_time": "2022-12-28T02:42:58.370703",
          "status": "completed"
        },
        "tags": [],
        "id": "2430556c"
      },
      "source": [
        "### ApplicantIncome"
      ]
    },
    {
      "cell_type": "code",
      "execution_count": 54,
      "id": "47e609a6",
      "metadata": {
        "execution": {
          "iopub.execute_input": "2022-12-28T02:42:58.467333Z",
          "iopub.status.busy": "2022-12-28T02:42:58.466319Z",
          "iopub.status.idle": "2022-12-28T02:42:58.704041Z",
          "shell.execute_reply": "2022-12-28T02:42:58.702474Z"
        },
        "papermill": {
          "duration": 0.272972,
          "end_time": "2022-12-28T02:42:58.706878",
          "exception": false,
          "start_time": "2022-12-28T02:42:58.433906",
          "status": "completed"
        },
        "tags": [],
        "colab": {
          "base_uri": "https://localhost:8080/",
          "height": 467
        },
        "id": "47e609a6",
        "outputId": "cd94fe66-9fc6-4be5-c510-92b59b8e21fa"
      },
      "outputs": [
        {
          "output_type": "execute_result",
          "data": {
            "text/plain": [
              "<Axes: xlabel='ApplicantIncome'>"
            ]
          },
          "metadata": {},
          "execution_count": 54
        },
        {
          "output_type": "display_data",
          "data": {
            "text/plain": [
              "<Figure size 640x480 with 1 Axes>"
            ],
            "image/png": "[encoded data removed]"
          },
          "metadata": {}
        }
      ],
      "source": [
        "sns.boxplot(x=data['ApplicantIncome'])"
      ]
    },
    {
      "cell_type": "code",
      "execution_count": 55,
      "id": "99f742f2",
      "metadata": {
        "execution": {
          "iopub.execute_input": "2022-12-28T02:42:58.772887Z",
          "iopub.status.busy": "2022-12-28T02:42:58.772437Z",
          "iopub.status.idle": "2022-12-28T02:42:59.042324Z",
          "shell.execute_reply": "2022-12-28T02:42:59.040953Z"
        },
        "papermill": {
          "duration": 0.306478,
          "end_time": "2022-12-28T02:42:59.044868",
          "exception": false,
          "start_time": "2022-12-28T02:42:58.738390",
          "status": "completed"
        },
        "tags": [],
        "colab": {
          "base_uri": "https://localhost:8080/",
          "height": 448
        },
        "id": "99f742f2",
        "outputId": "da3d0923-4e53-42bc-a9e5-aa364ee1ceef"
      },
      "outputs": [
        {
          "output_type": "execute_result",
          "data": {
            "text/plain": [
              "<matplotlib.lines.Line2D at 0x7fc2501072b0>"
            ]
          },
          "metadata": {},
          "execution_count": 55
        },
        {
          "output_type": "display_data",
          "data": {
            "text/plain": [
              "<Figure size 640x480 with 1 Axes>"
            ],
            "image/png": "[encoded data removed]"
          },
          "metadata": {}
        }
      ],
      "source": [
        "import matplotlib.pyplot as plt\n",
        "hist = plt.hist(x=data['ApplicantIncome'], density = True)\n",
        "# Draw a vertical line in the histogram to visualize mean value of the numerical feature (NaNs will be ignored when calculating the mean)\n",
        "plt.axvline(data['ApplicantIncome'].mean(), color = 'red', linestyle='--')\n",
        "# Draw another vertical line in the histogram to visualize median value of the numerical feature (NaNs will be ignored when calculating the median)\n",
        "plt.axvline(data['ApplicantIncome'].median(), color = 'black', linestyle='-')"
      ]
    },
    {
      "cell_type": "markdown",
      "id": "3005bad9",
      "metadata": {
        "papermill": {
          "duration": 0.031461,
          "end_time": "2022-12-28T02:42:59.108994",
          "exception": false,
          "start_time": "2022-12-28T02:42:59.077533",
          "status": "completed"
        },
        "tags": [],
        "id": "3005bad9"
      },
      "source": [
        "### Inference:\n",
        "\n",
        "- Positiveky skewed distribution\n",
        "- Outliers on right hand side, but expected with Income\n",
        "- Median aligns with the Mean"
      ]
    },
    {
      "cell_type": "markdown",
      "id": "2a7909f9",
      "metadata": {
        "papermill": {
          "duration": 0.032269,
          "end_time": "2022-12-28T02:42:59.175032",
          "exception": false,
          "start_time": "2022-12-28T02:42:59.142763",
          "status": "completed"
        },
        "tags": [],
        "id": "2a7909f9"
      },
      "source": [
        "### CoapplicantIncome - feature in the data"
      ]
    },
    {
      "cell_type": "code",
      "execution_count": 56,
      "id": "6ca6fab9",
      "metadata": {
        "execution": {
          "iopub.execute_input": "2022-12-28T02:42:59.243308Z",
          "iopub.status.busy": "2022-12-28T02:42:59.242877Z",
          "iopub.status.idle": "2022-12-28T02:42:59.435230Z",
          "shell.execute_reply": "2022-12-28T02:42:59.433758Z"
        },
        "papermill": {
          "duration": 0.230925,
          "end_time": "2022-12-28T02:42:59.438551",
          "exception": false,
          "start_time": "2022-12-28T02:42:59.207626",
          "status": "completed"
        },
        "tags": [],
        "colab": {
          "base_uri": "https://localhost:8080/",
          "height": 467
        },
        "id": "6ca6fab9",
        "outputId": "65e758c8-6b80-4225-b1a0-74842597be35"
      },
      "outputs": [
        {
          "output_type": "execute_result",
          "data": {
            "text/plain": [
              "<Axes: xlabel='CoapplicantIncome'>"
            ]
          },
          "metadata": {},
          "execution_count": 56
        },
        {
          "output_type": "display_data",
          "data": {
            "text/plain": [
              "<Figure size 640x480 with 1 Axes>"
            ],
            "image/png": "[encoded data removed]"
          },
          "metadata": {}
        }
      ],
      "source": [
        "sns.boxplot(x=data['CoapplicantIncome'])"
      ]
    },
    {
      "cell_type": "code",
      "execution_count": 57,
      "id": "e3414cc3",
      "metadata": {
        "execution": {
          "iopub.execute_input": "2022-12-28T02:42:59.507239Z",
          "iopub.status.busy": "2022-12-28T02:42:59.506493Z",
          "iopub.status.idle": "2022-12-28T02:42:59.740191Z",
          "shell.execute_reply": "2022-12-28T02:42:59.738995Z"
        },
        "papermill": {
          "duration": 0.270434,
          "end_time": "2022-12-28T02:42:59.742856",
          "exception": false,
          "start_time": "2022-12-28T02:42:59.472422",
          "status": "completed"
        },
        "tags": [],
        "colab": {
          "base_uri": "https://localhost:8080/",
          "height": 448
        },
        "id": "e3414cc3",
        "outputId": "4be3bc09-c053-4810-8e6e-8af678db731c"
      },
      "outputs": [
        {
          "output_type": "execute_result",
          "data": {
            "text/plain": [
              "<matplotlib.lines.Line2D at 0x7fc24ffa0580>"
            ]
          },
          "metadata": {},
          "execution_count": 57
        },
        {
          "output_type": "display_data",
          "data": {
            "text/plain": [
              "<Figure size 640x480 with 1 Axes>"
            ],
            "image/png": "[encoded data removed]"
          },
          "metadata": {}
        }
      ],
      "source": [
        "hist = plt.hist(x=data['CoapplicantIncome'], density = True)\n",
        "# Draw a vertical line in the histogram to visualize mean value of the numerical feature (NaNs will be ignored when calculating the mean)\n",
        "plt.axvline(data['CoapplicantIncome'].mean(), color = 'red', linestyle='--')\n",
        "# Draw another vertical line in the histogram to visualize median value of the numerical feature (NaNs will be ignored when calculating the median)\n",
        "plt.axvline(data['CoapplicantIncome'].median(), color = 'black', linestyle='-')"
      ]
    },
    {
      "cell_type": "markdown",
      "id": "83ac9482",
      "metadata": {
        "papermill": {
          "duration": 0.033093,
          "end_time": "2022-12-28T02:42:59.811603",
          "exception": false,
          "start_time": "2022-12-28T02:42:59.778510",
          "status": "completed"
        },
        "tags": [],
        "id": "83ac9482"
      },
      "source": [
        "Inference:\n",
        "- Positiveky skewed distribution\n",
        "- Outliers on right hand side, but expected with Income\n",
        "- Median aligns with the Mean"
      ]
    },
    {
      "cell_type": "markdown",
      "id": "50f5ef1e",
      "metadata": {
        "papermill": {
          "duration": 0.032608,
          "end_time": "2022-12-28T02:42:59.877104",
          "exception": false,
          "start_time": "2022-12-28T02:42:59.844496",
          "status": "completed"
        },
        "tags": [],
        "id": "50f5ef1e"
      },
      "source": [
        "### Similarly for the 'LoanAmount' feature"
      ]
    },
    {
      "cell_type": "code",
      "execution_count": 58,
      "id": "425a3d9a",
      "metadata": {
        "execution": {
          "iopub.execute_input": "2022-12-28T02:42:59.946093Z",
          "iopub.status.busy": "2022-12-28T02:42:59.945653Z",
          "iopub.status.idle": "2022-12-28T02:43:00.150383Z",
          "shell.execute_reply": "2022-12-28T02:43:00.148942Z"
        },
        "papermill": {
          "duration": 0.243234,
          "end_time": "2022-12-28T02:43:00.153265",
          "exception": false,
          "start_time": "2022-12-28T02:42:59.910031",
          "status": "completed"
        },
        "tags": [],
        "colab": {
          "base_uri": "https://localhost:8080/",
          "height": 467
        },
        "id": "425a3d9a",
        "outputId": "0a42c72c-ea89-4dc9-89b7-bddff6454abc"
      },
      "outputs": [
        {
          "output_type": "execute_result",
          "data": {
            "text/plain": [
              "<Axes: xlabel='LoanAmount'>"
            ]
          },
          "metadata": {},
          "execution_count": 58
        },
        {
          "output_type": "display_data",
          "data": {
            "text/plain": [
              "<Figure size 640x480 with 1 Axes>"
            ],
            "image/png": "[encoded data removed]"
          },
          "metadata": {}
        }
      ],
      "source": [
        "sns.boxplot(x=data['LoanAmount'])"
      ]
    },
    {
      "cell_type": "code",
      "execution_count": 59,
      "id": "e96e6314",
      "metadata": {
        "execution": {
          "iopub.execute_input": "2022-12-28T02:43:00.222530Z",
          "iopub.status.busy": "2022-12-28T02:43:00.221572Z",
          "iopub.status.idle": "2022-12-28T02:43:00.489541Z",
          "shell.execute_reply": "2022-12-28T02:43:00.488106Z"
        },
        "papermill": {
          "duration": 0.306053,
          "end_time": "2022-12-28T02:43:00.492563",
          "exception": false,
          "start_time": "2022-12-28T02:43:00.186510",
          "status": "completed"
        },
        "tags": [],
        "colab": {
          "base_uri": "https://localhost:8080/",
          "height": 448
        },
        "id": "e96e6314",
        "outputId": "6b026e86-ec7a-46e0-fa9d-651bcf0144bf"
      },
      "outputs": [
        {
          "output_type": "execute_result",
          "data": {
            "text/plain": [
              "<matplotlib.lines.Line2D at 0x7fc24fe9e250>"
            ]
          },
          "metadata": {},
          "execution_count": 59
        },
        {
          "output_type": "display_data",
          "data": {
            "text/plain": [
              "<Figure size 640x480 with 1 Axes>"
            ],
            "image/png": "[encoded data removed]"
          },
          "metadata": {}
        }
      ],
      "source": [
        "hist = plt.hist(x=data['LoanAmount'], density = True)\n",
        "# Draw a vertical line in the histogram to visualize mean value of the numerical feature (NaNs will be ignored when calculating the mean)\n",
        "plt.axvline(data['LoanAmount'].mean(), color = 'red', linestyle='--')\n",
        "# Draw another vertical line in the histogram to visualize median value of the numerical feature (NaNs will be ignored when calculating the median)\n",
        "plt.axvline(data['LoanAmount'].median(), color = 'black', linestyle='-')"
      ]
    },
    {
      "cell_type": "markdown",
      "id": "4aa68393",
      "metadata": {
        "papermill": {
          "duration": 0.036153,
          "end_time": "2022-12-28T02:43:00.564712",
          "exception": false,
          "start_time": "2022-12-28T02:43:00.528559",
          "status": "completed"
        },
        "tags": [],
        "id": "4aa68393"
      },
      "source": [
        "Inference:\n",
        "\n",
        "- Slightly positiveky skewed distribution\n",
        "- Outliers on right hand side, which may need to be treated\n",
        "- Median aligns with the Mean"
      ]
    },
    {
      "cell_type": "markdown",
      "id": "7e71b1cc",
      "metadata": {
        "papermill": {
          "duration": 0.035371,
          "end_time": "2022-12-28T02:43:00.633872",
          "exception": false,
          "start_time": "2022-12-28T02:43:00.598501",
          "status": "completed"
        },
        "tags": [],
        "id": "7e71b1cc"
      },
      "source": [
        "# Univariate Analysis"
      ]
    },
    {
      "cell_type": "markdown",
      "id": "492738bb",
      "metadata": {
        "papermill": {
          "duration": 0.032814,
          "end_time": "2022-12-28T02:43:00.703033",
          "exception": false,
          "start_time": "2022-12-28T02:43:00.670219",
          "status": "completed"
        },
        "tags": [],
        "id": "492738bb"
      },
      "source": [
        "### Feature - Dependents"
      ]
    },
    {
      "cell_type": "code",
      "execution_count": 60,
      "id": "fed18563",
      "metadata": {
        "execution": {
          "iopub.execute_input": "2022-12-28T02:43:00.774855Z",
          "iopub.status.busy": "2022-12-28T02:43:00.774397Z",
          "iopub.status.idle": "2022-12-28T02:43:01.001572Z",
          "shell.execute_reply": "2022-12-28T02:43:01.000361Z"
        },
        "papermill": {
          "duration": 0.265147,
          "end_time": "2022-12-28T02:43:01.004224",
          "exception": false,
          "start_time": "2022-12-28T02:43:00.739077",
          "status": "completed"
        },
        "scrolled": true,
        "tags": [],
        "colab": {
          "base_uri": "https://localhost:8080/",
          "height": 0
        },
        "id": "fed18563",
        "outputId": "59f1e308-e526-452e-fde1-ce31845b6b41"
      },
      "outputs": [
        {
          "output_type": "execute_result",
          "data": {
            "text/plain": [
              "(array([0, 1, 2, 3]),\n",
              " [Text(0, 0, '0'), Text(1, 0, '1'), Text(2, 0, '2'), Text(3, 0, '3+')])"
            ]
          },
          "metadata": {},
          "execution_count": 60
        },
        {
          "output_type": "display_data",
          "data": {
            "text/plain": [
              "<Figure size 640x480 with 1 Axes>"
            ],
            "image/png": "[encoded data removed]"
          },
          "metadata": {}
        }
      ],
      "source": [
        "data['Dependents'].value_counts(normalize = True).plot.bar()\n",
        "plt.xticks(rotation = 0)"
      ]
    },
    {
      "cell_type": "markdown",
      "id": "b7f296e5",
      "metadata": {
        "papermill": {
          "duration": 0.033576,
          "end_time": "2022-12-28T02:43:01.072050",
          "exception": false,
          "start_time": "2022-12-28T02:43:01.038474",
          "status": "completed"
        },
        "tags": [],
        "id": "b7f296e5"
      },
      "source": [
        "Inference:\n",
        "- Almost 60% of population has 0 dependents"
      ]
    },
    {
      "cell_type": "markdown",
      "id": "47158c56",
      "metadata": {
        "papermill": {
          "duration": 0.034064,
          "end_time": "2022-12-28T02:43:01.140074",
          "exception": false,
          "start_time": "2022-12-28T02:43:01.106010",
          "status": "completed"
        },
        "tags": [],
        "id": "47158c56"
      },
      "source": [
        "### Feature -  Gender"
      ]
    },
    {
      "cell_type": "code",
      "execution_count": 61,
      "id": "e52f6143",
      "metadata": {
        "execution": {
          "iopub.execute_input": "2022-12-28T02:43:01.210686Z",
          "iopub.status.busy": "2022-12-28T02:43:01.209734Z",
          "iopub.status.idle": "2022-12-28T02:43:01.411885Z",
          "shell.execute_reply": "2022-12-28T02:43:01.410657Z"
        },
        "papermill": {
          "duration": 0.240159,
          "end_time": "2022-12-28T02:43:01.414533",
          "exception": false,
          "start_time": "2022-12-28T02:43:01.174374",
          "status": "completed"
        },
        "scrolled": true,
        "tags": [],
        "colab": {
          "base_uri": "https://localhost:8080/",
          "height": 0
        },
        "id": "e52f6143",
        "outputId": "24105704-d6df-4664-9b9c-291c8cddbfbe"
      },
      "outputs": [
        {
          "output_type": "execute_result",
          "data": {
            "text/plain": [
              "(array([0, 1]), [Text(0, 0, 'Male'), Text(1, 0, 'Female')])"
            ]
          },
          "metadata": {},
          "execution_count": 61
        },
        {
          "output_type": "display_data",
          "data": {
            "text/plain": [
              "<Figure size 640x480 with 1 Axes>"
            ],
            "image/png": "[encoded data removed]"
          },
          "metadata": {}
        }
      ],
      "source": [
        "data['Gender'].value_counts(normalize = True).plot.bar()\n",
        "plt.xticks(rotation = 0)"
      ]
    },
    {
      "cell_type": "markdown",
      "id": "fb1c83c8",
      "metadata": {
        "papermill": {
          "duration": 0.034965,
          "end_time": "2022-12-28T02:43:01.483994",
          "exception": false,
          "start_time": "2022-12-28T02:43:01.449029",
          "status": "completed"
        },
        "tags": [],
        "id": "fb1c83c8"
      },
      "source": [
        "Inference:\n",
        "- Almost 80% of population is Male"
      ]
    },
    {
      "cell_type": "markdown",
      "id": "ebb5eec1",
      "metadata": {
        "papermill": {
          "duration": 0.033566,
          "end_time": "2022-12-28T02:43:01.551778",
          "exception": false,
          "start_time": "2022-12-28T02:43:01.518212",
          "status": "completed"
        },
        "tags": [],
        "id": "ebb5eec1"
      },
      "source": [
        "### Feature - Married"
      ]
    },
    {
      "cell_type": "code",
      "execution_count": 62,
      "id": "490884fd",
      "metadata": {
        "execution": {
          "iopub.execute_input": "2022-12-28T02:43:01.620453Z",
          "iopub.status.busy": "2022-12-28T02:43:01.620017Z",
          "iopub.status.idle": "2022-12-28T02:43:01.816141Z",
          "shell.execute_reply": "2022-12-28T02:43:01.815167Z"
        },
        "papermill": {
          "duration": 0.233384,
          "end_time": "2022-12-28T02:43:01.818717",
          "exception": false,
          "start_time": "2022-12-28T02:43:01.585333",
          "status": "completed"
        },
        "scrolled": true,
        "tags": [],
        "colab": {
          "base_uri": "https://localhost:8080/",
          "height": 0
        },
        "id": "490884fd",
        "outputId": "82bb5f0c-d3af-4508-c346-09f6540a84c1"
      },
      "outputs": [
        {
          "output_type": "execute_result",
          "data": {
            "text/plain": [
              "(array([0, 1]), [Text(0, 0, 'Yes'), Text(1, 0, 'No')])"
            ]
          },
          "metadata": {},
          "execution_count": 62
        },
        {
          "output_type": "display_data",
          "data": {
            "text/plain": [
              "<Figure size 640x480 with 1 Axes>"
            ],
            "image/png": "[encoded data removed]"
          },
          "metadata": {}
        }
      ],
      "source": [
        "data['Married'].value_counts(normalize = True).plot.bar()\n",
        "plt.xticks(rotation = 0)"
      ]
    },
    {
      "cell_type": "markdown",
      "id": "4e9c5250",
      "metadata": {
        "papermill": {
          "duration": 0.03482,
          "end_time": "2022-12-28T02:43:01.890023",
          "exception": false,
          "start_time": "2022-12-28T02:43:01.855203",
          "status": "completed"
        },
        "tags": [],
        "id": "4e9c5250"
      },
      "source": [
        "Inference:\n",
        "- Alittle over 60% of population is Married"
      ]
    },
    {
      "cell_type": "markdown",
      "id": "f7a54322",
      "metadata": {
        "papermill": {
          "duration": 0.034814,
          "end_time": "2022-12-28T02:43:01.959784",
          "exception": false,
          "start_time": "2022-12-28T02:43:01.924970",
          "status": "completed"
        },
        "tags": [],
        "id": "f7a54322"
      },
      "source": [
        "### Feature - Education"
      ]
    },
    {
      "cell_type": "code",
      "execution_count": 63,
      "id": "25a61c66",
      "metadata": {
        "execution": {
          "iopub.execute_input": "2022-12-28T02:43:02.033234Z",
          "iopub.status.busy": "2022-12-28T02:43:02.032047Z",
          "iopub.status.idle": "2022-12-28T02:43:02.248205Z",
          "shell.execute_reply": "2022-12-28T02:43:02.246746Z"
        },
        "papermill": {
          "duration": 0.256299,
          "end_time": "2022-12-28T02:43:02.251042",
          "exception": false,
          "start_time": "2022-12-28T02:43:01.994743",
          "status": "completed"
        },
        "scrolled": true,
        "tags": [],
        "colab": {
          "base_uri": "https://localhost:8080/",
          "height": 0
        },
        "id": "25a61c66",
        "outputId": "19e453f0-ff3a-454b-a981-ba77f49b917a"
      },
      "outputs": [
        {
          "output_type": "execute_result",
          "data": {
            "text/plain": [
              "(array([0, 1]), [Text(0, 0, 'Graduate'), Text(1, 0, 'Not Graduate')])"
            ]
          },
          "metadata": {},
          "execution_count": 63
        },
        {
          "output_type": "display_data",
          "data": {
            "text/plain": [
              "<Figure size 640x480 with 1 Axes>"
            ],
            "image/png": "[encoded data removed]"
          },
          "metadata": {}
        }
      ],
      "source": [
        "data['Education'].value_counts(normalize = True).plot.bar()\n",
        "plt.xticks(rotation = 0)"
      ]
    },
    {
      "cell_type": "markdown",
      "id": "6d2e9673",
      "metadata": {
        "papermill": {
          "duration": 0.035364,
          "end_time": "2022-12-28T02:43:02.321430",
          "exception": false,
          "start_time": "2022-12-28T02:43:02.286066",
          "status": "completed"
        },
        "tags": [],
        "id": "6d2e9673"
      },
      "source": [
        "Inference:\n",
        "- Almost 80% of population is Graduate"
      ]
    },
    {
      "cell_type": "markdown",
      "id": "64e05de2",
      "metadata": {
        "papermill": {
          "duration": 0.034289,
          "end_time": "2022-12-28T02:43:02.391421",
          "exception": false,
          "start_time": "2022-12-28T02:43:02.357132",
          "status": "completed"
        },
        "tags": [],
        "id": "64e05de2"
      },
      "source": [
        "### Feature - Self_Employed"
      ]
    },
    {
      "cell_type": "code",
      "execution_count": 64,
      "id": "bf3d0898",
      "metadata": {
        "execution": {
          "iopub.execute_input": "2022-12-28T02:43:02.464620Z",
          "iopub.status.busy": "2022-12-28T02:43:02.464226Z",
          "iopub.status.idle": "2022-12-28T02:43:02.658270Z",
          "shell.execute_reply": "2022-12-28T02:43:02.656947Z"
        },
        "papermill": {
          "duration": 0.234206,
          "end_time": "2022-12-28T02:43:02.660835",
          "exception": false,
          "start_time": "2022-12-28T02:43:02.426629",
          "status": "completed"
        },
        "scrolled": true,
        "tags": [],
        "colab": {
          "base_uri": "https://localhost:8080/",
          "height": 0
        },
        "id": "bf3d0898",
        "outputId": "8e93e35a-0581-4d0d-895d-f99a978c7821"
      },
      "outputs": [
        {
          "output_type": "execute_result",
          "data": {
            "text/plain": [
              "(array([0, 1]), [Text(0, 0, 'No'), Text(1, 0, 'Yes')])"
            ]
          },
          "metadata": {},
          "execution_count": 64
        },
        {
          "output_type": "display_data",
          "data": {
            "text/plain": [
              "<Figure size 640x480 with 1 Axes>"
            ],
            "image/png": "[encoded data removed]"
          },
          "metadata": {}
        }
      ],
      "source": [
        "data['Self_Employed'].value_counts(normalize = True).plot.bar()\n",
        "plt.xticks(rotation = 0)"
      ]
    },
    {
      "cell_type": "markdown",
      "id": "9e9863ce",
      "metadata": {
        "papermill": {
          "duration": 0.035097,
          "end_time": "2022-12-28T02:43:02.730650",
          "exception": false,
          "start_time": "2022-12-28T02:43:02.695553",
          "status": "completed"
        },
        "tags": [],
        "id": "9e9863ce"
      },
      "source": [
        "Inference:\n",
        "- Almost 80% of population is salaried"
      ]
    },
    {
      "cell_type": "markdown",
      "id": "befd7ca9",
      "metadata": {
        "papermill": {
          "duration": 0.034295,
          "end_time": "2022-12-28T02:43:02.800707",
          "exception": false,
          "start_time": "2022-12-28T02:43:02.766412",
          "status": "completed"
        },
        "tags": [],
        "id": "befd7ca9"
      },
      "source": [
        "### Feature - Credit_History"
      ]
    },
    {
      "cell_type": "code",
      "execution_count": 65,
      "id": "97fc87e3",
      "metadata": {
        "execution": {
          "iopub.execute_input": "2022-12-28T02:43:02.874709Z",
          "iopub.status.busy": "2022-12-28T02:43:02.874249Z",
          "iopub.status.idle": "2022-12-28T02:43:03.077437Z",
          "shell.execute_reply": "2022-12-28T02:43:03.076552Z"
        },
        "papermill": {
          "duration": 0.241662,
          "end_time": "2022-12-28T02:43:03.079844",
          "exception": false,
          "start_time": "2022-12-28T02:43:02.838182",
          "status": "completed"
        },
        "scrolled": true,
        "tags": [],
        "colab": {
          "base_uri": "https://localhost:8080/",
          "height": 0
        },
        "id": "97fc87e3",
        "outputId": "4847fd5a-5a41-4678-e648-d3909b8991e4"
      },
      "outputs": [
        {
          "output_type": "execute_result",
          "data": {
            "text/plain": [
              "(array([0, 1]), [Text(0, 0, '1.0'), Text(1, 0, '0.0')])"
            ]
          },
          "metadata": {},
          "execution_count": 65
        },
        {
          "output_type": "display_data",
          "data": {
            "text/plain": [
              "<Figure size 640x480 with 1 Axes>"
            ],
            "image/png": "[encoded data removed]"
          },
          "metadata": {}
        }
      ],
      "source": [
        "data['Credit_History'].value_counts(normalize = True).plot.bar()\n",
        "plt.xticks(rotation = 0)"
      ]
    },
    {
      "cell_type": "markdown",
      "id": "c746fd62",
      "metadata": {
        "papermill": {
          "duration": 0.035274,
          "end_time": "2022-12-28T02:43:03.150766",
          "exception": false,
          "start_time": "2022-12-28T02:43:03.115492",
          "status": "completed"
        },
        "tags": [],
        "id": "c746fd62"
      },
      "source": [
        "Inference:\n",
        "- Almost 80% of population has a credit history"
      ]
    },
    {
      "cell_type": "markdown",
      "id": "0f6be869",
      "metadata": {
        "papermill": {
          "duration": 0.034779,
          "end_time": "2022-12-28T02:43:03.220572",
          "exception": false,
          "start_time": "2022-12-28T02:43:03.185793",
          "status": "completed"
        },
        "tags": [],
        "id": "0f6be869"
      },
      "source": [
        "### Feature - Property_Area"
      ]
    },
    {
      "cell_type": "code",
      "execution_count": 66,
      "id": "45133b99",
      "metadata": {
        "execution": {
          "iopub.execute_input": "2022-12-28T02:43:03.296013Z",
          "iopub.status.busy": "2022-12-28T02:43:03.294428Z",
          "iopub.status.idle": "2022-12-28T02:43:03.521950Z",
          "shell.execute_reply": "2022-12-28T02:43:03.520494Z"
        },
        "papermill": {
          "duration": 0.268122,
          "end_time": "2022-12-28T02:43:03.524760",
          "exception": false,
          "start_time": "2022-12-28T02:43:03.256638",
          "status": "completed"
        },
        "scrolled": true,
        "tags": [],
        "colab": {
          "base_uri": "https://localhost:8080/",
          "height": 0
        },
        "id": "45133b99",
        "outputId": "e81b7a58-5946-4c13-d38e-98332e7d7505"
      },
      "outputs": [
        {
          "output_type": "execute_result",
          "data": {
            "text/plain": [
              "(array([0, 1, 2]),\n",
              " [Text(0, 0, 'Semiurban'), Text(1, 0, 'Urban'), Text(2, 0, 'Rural')])"
            ]
          },
          "metadata": {},
          "execution_count": 66
        },
        {
          "output_type": "display_data",
          "data": {
            "text/plain": [
              "<Figure size 640x480 with 1 Axes>"
            ],
            "image/png": "[encoded data removed]"
          },
          "metadata": {}
        }
      ],
      "source": [
        "data['Property_Area'].value_counts(normalize = True).plot.bar()\n",
        "plt.xticks(rotation = 0)"
      ]
    },
    {
      "cell_type": "markdown",
      "id": "9fc9abae",
      "metadata": {
        "papermill": {
          "duration": 0.036082,
          "end_time": "2022-12-28T02:43:03.597456",
          "exception": false,
          "start_time": "2022-12-28T02:43:03.561374",
          "status": "completed"
        },
        "tags": [],
        "id": "9fc9abae"
      },
      "source": [
        "Observation:\n",
        "- Majority of population resides in Urban / Semi-Urban areas"
      ]
    },
    {
      "cell_type": "markdown",
      "id": "acf24e9f",
      "metadata": {
        "papermill": {
          "duration": 0.036855,
          "end_time": "2022-12-28T02:43:03.673228",
          "exception": false,
          "start_time": "2022-12-28T02:43:03.636373",
          "status": "completed"
        },
        "tags": [],
        "id": "acf24e9f"
      },
      "source": [
        "# Bivariate / Multivariate Analysis"
      ]
    },
    {
      "cell_type": "code",
      "execution_count": 67,
      "id": "2da0b61e",
      "metadata": {
        "execution": {
          "iopub.execute_input": "2022-12-28T02:43:03.755981Z",
          "iopub.status.busy": "2022-12-28T02:43:03.755510Z",
          "iopub.status.idle": "2022-12-28T02:43:11.553633Z",
          "shell.execute_reply": "2022-12-28T02:43:11.552735Z"
        },
        "papermill": {
          "duration": 7.846144,
          "end_time": "2022-12-28T02:43:11.557296",
          "exception": false,
          "start_time": "2022-12-28T02:43:03.711152",
          "status": "completed"
        },
        "scrolled": true,
        "tags": [],
        "colab": {
          "base_uri": "https://localhost:8080/",
          "height": 1000
        },
        "id": "2da0b61e",
        "outputId": "eb9b095f-1b77-4450-b0fb-f58779900786"
      },
      "outputs": [
        {
          "output_type": "execute_result",
          "data": {
            "text/plain": [
              "<seaborn.axisgrid.PairGrid at 0x7fc24fc05910>"
            ]
          },
          "metadata": {},
          "execution_count": 67
        },
        {
          "output_type": "display_data",
          "data": {
            "text/plain": [
              "<Figure size 1345.74x1250 with 30 Axes>"
            ],
            "image/png": "[encoded data removed]"
          },
          "metadata": {}
        }
      ],
      "source": [
        "sns.pairplot(loan_data, diag_kind= 'kde', hue = 'Loan_Status')"
      ]
    },
    {
      "cell_type": "markdown",
      "id": "be75d215",
      "metadata": {
        "id": "be75d215"
      },
      "source": [
        "### This above plot describes the distribution of all the data points across all the dependent featuresm, in their respective data ranges. It creates a pairwise scatter plot of the variables in the loan_data dataset, with kernel density estimates (KDEs) of the distribution on the diagonal, and differentiating the points according to the entire data using different colors."
      ]
    },
    {
      "cell_type": "code",
      "execution_count": 28,
      "id": "85c1b2e4",
      "metadata": {
        "execution": {
          "iopub.execute_input": "2022-12-28T02:43:11.637684Z",
          "iopub.status.busy": "2022-12-28T02:43:11.636944Z",
          "iopub.status.idle": "2022-12-28T02:43:11.650540Z",
          "shell.execute_reply": "2022-12-28T02:43:11.649404Z"
        },
        "papermill": {
          "duration": 0.056802,
          "end_time": "2022-12-28T02:43:11.653011",
          "exception": false,
          "start_time": "2022-12-28T02:43:11.596209",
          "status": "completed"
        },
        "tags": [],
        "colab": {
          "base_uri": "https://localhost:8080/",
          "height": 262
        },
        "id": "85c1b2e4",
        "outputId": "6b7ad76b-0067-4cd0-d1fb-32840414b386"
      },
      "outputs": [
        {
          "output_type": "stream",
          "name": "stderr",
          "text": [
            "<ipython-input-28-fd3e9124074a>:2: FutureWarning: The default value of numeric_only in DataFrame.corr is deprecated. In a future version, it will default to False. Select only valid columns or specify the value of numeric_only to silence this warning.\n",
            "  data.corr()\n"
          ]
        },
        {
          "output_type": "execute_result",
          "data": {
            "text/plain": [
              "                   ApplicantIncome  CoapplicantIncome  LoanAmount  \\\n",
              "ApplicantIncome           1.000000          -0.116605    0.570909   \n",
              "CoapplicantIncome        -0.116605           1.000000    0.188619   \n",
              "LoanAmount                0.570909           0.188619    1.000000   \n",
              "Loan_Amount_Term         -0.045306          -0.059878    0.039447   \n",
              "Credit_History           -0.014715          -0.002056   -0.008433   \n",
              "\n",
              "                   Loan_Amount_Term  Credit_History  \n",
              "ApplicantIncome           -0.045306       -0.014715  \n",
              "CoapplicantIncome         -0.059878       -0.002056  \n",
              "LoanAmount                 0.039447       -0.008433  \n",
              "Loan_Amount_Term           1.000000        0.001470  \n",
              "Credit_History             0.001470        1.000000  "
            ],
            "text/html": [
              "\n",
              "  <div id=\"df-dcacb778-6c9c-4d47-845a-46b2a29f7dfb\">\n",
              "    <div class=\"colab-df-container\">\n",
              "      <div>\n",
              "<style scoped>\n",
              "    .dataframe tbody tr th:only-of-type {\n",
              "        vertical-align: middle;\n",
              "    }\n",
              "\n",
              "    .dataframe tbody tr th {\n",
              "        vertical-align: top;\n",
              "    }\n",
              "\n",
              "    .dataframe thead th {\n",
              "        text-align: right;\n",
              "    }\n",
              "</style>\n",
              "<table border=\"1\" class=\"dataframe\">\n",
              "  <thead>\n",
              "    <tr style=\"text-align: right;\">\n",
              "      <th></th>\n",
              "      <th>ApplicantIncome</th>\n",
              "      <th>CoapplicantIncome</th>\n",
              "      <th>LoanAmount</th>\n",
              "      <th>Loan_Amount_Term</th>\n",
              "      <th>Credit_History</th>\n",
              "    </tr>\n",
              "  </thead>\n",
              "  <tbody>\n",
              "    <tr>\n",
              "      <th>ApplicantIncome</th>\n",
              "      <td>1.000000</td>\n",
              "      <td>-0.116605</td>\n",
              "      <td>0.570909</td>\n",
              "      <td>-0.045306</td>\n",
              "      <td>-0.014715</td>\n",
              "    </tr>\n",
              "    <tr>\n",
              "      <th>CoapplicantIncome</th>\n",
              "      <td>-0.116605</td>\n",
              "      <td>1.000000</td>\n",
              "      <td>0.188619</td>\n",
              "      <td>-0.059878</td>\n",
              "      <td>-0.002056</td>\n",
              "    </tr>\n",
              "    <tr>\n",
              "      <th>LoanAmount</th>\n",
              "      <td>0.570909</td>\n",
              "      <td>0.188619</td>\n",
              "      <td>1.000000</td>\n",
              "      <td>0.039447</td>\n",
              "      <td>-0.008433</td>\n",
              "    </tr>\n",
              "    <tr>\n",
              "      <th>Loan_Amount_Term</th>\n",
              "      <td>-0.045306</td>\n",
              "      <td>-0.059878</td>\n",
              "      <td>0.039447</td>\n",
              "      <td>1.000000</td>\n",
              "      <td>0.001470</td>\n",
              "    </tr>\n",
              "    <tr>\n",
              "      <th>Credit_History</th>\n",
              "      <td>-0.014715</td>\n",
              "      <td>-0.002056</td>\n",
              "      <td>-0.008433</td>\n",
              "      <td>0.001470</td>\n",
              "      <td>1.000000</td>\n",
              "    </tr>\n",
              "  </tbody>\n",
              "</table>\n",
              "</div>\n",
              "      <button class=\"colab-df-convert\" onclick=\"convertToInteractive('df-dcacb778-6c9c-4d47-845a-46b2a29f7dfb')\"\n",
              "              title=\"Convert this dataframe to an interactive table.\"\n",
              "              style=\"display:none;\">\n",
              "        \n",
              "  <svg xmlns=\"http://www.w3.org/2000/svg\" height=\"24px\"viewBox=\"0 0 24 24\"\n",
              "       width=\"24px\">\n",
              "    <path d=\"M0 0h24v24H0V0z\" fill=\"none\"/>\n",
              "    <path d=\"M18.56 5.44l.94 2.06.94-2.06 2.06-.94-2.06-.94-.94-2.06-.94 2.06-2.06.94zm-11 1L8.5 8.5l.94-2.06 2.06-.94-2.06-.94L8.5 2.5l-.94 2.06-2.06.94zm10 10l.94 2.06.94-2.06 2.06-.94-2.06-.94-.94-2.06-.94 2.06-2.06.94z\"/><path d=\"M17.41 7.96l-1.37-1.37c-.4-.4-.92-.59-1.43-.59-.52 0-1.04.2-1.43.59L10.3 9.45l-7.72 7.72c-.78.78-.78 2.05 0 2.83L4 21.41c.39.39.9.59 1.41.59.51 0 1.02-.2 1.41-.59l7.78-7.78 2.81-2.81c.8-.78.8-2.07 0-2.86zM5.41 20L4 18.59l7.72-7.72 1.47 1.35L5.41 20z\"/>\n",
              "  </svg>\n",
              "      </button>\n",
              "      \n",
              "  <style>\n",
              "    .colab-df-container {\n",
              "      display:flex;\n",
              "      flex-wrap:wrap;\n",
              "      gap: 12px;\n",
              "    }\n",
              "\n",
              "    .colab-df-convert {\n",
              "      background-color: #E8F0FE;\n",
              "      border: none;\n",
              "      border-radius: 50%;\n",
              "      cursor: pointer;\n",
              "      display: none;\n",
              "      fill: #1967D2;\n",
              "      height: 32px;\n",
              "      padding: 0 0 0 0;\n",
              "      width: 32px;\n",
              "    }\n",
              "\n",
              "    .colab-df-convert:hover {\n",
              "      background-color: #E2EBFA;\n",
              "      box-shadow: 0px 1px 2px rgba(60, 64, 67, 0.3), 0px 1px 3px 1px rgba(60, 64, 67, 0.15);\n",
              "      fill: #174EA6;\n",
              "    }\n",
              "\n",
              "    [theme=dark] .colab-df-convert {\n",
              "      background-color: #3B4455;\n",
              "      fill: #D2E3FC;\n",
              "    }\n",
              "\n",
              "    [theme=dark] .colab-df-convert:hover {\n",
              "      background-color: #434B5C;\n",
              "      box-shadow: 0px 1px 3px 1px rgba(0, 0, 0, 0.15);\n",
              "      filter: drop-shadow(0px 1px 2px rgba(0, 0, 0, 0.3));\n",
              "      fill: #FFFFFF;\n",
              "    }\n",
              "  </style>\n",
              "\n",
              "      <script>\n",
              "        const buttonEl =\n",
              "          document.querySelector('#df-dcacb778-6c9c-4d47-845a-46b2a29f7dfb button.colab-df-convert');\n",
              "        buttonEl.style.display =\n",
              "          google.colab.kernel.accessAllowed ? 'block' : 'none';\n",
              "\n",
              "        async function convertToInteractive(key) {\n",
              "          const element = document.querySelector('#df-dcacb778-6c9c-4d47-845a-46b2a29f7dfb');\n",
              "          const dataTable =\n",
              "            await google.colab.kernel.invokeFunction('convertToInteractive',\n",
              "                                                     [key], {});\n",
              "          if (!dataTable) return;\n",
              "\n",
              "          const docLinkHtml = 'Like what you see? Visit the ' +\n",
              "            '<a target=\"_blank\" href=https://colab.research.google.com/notebooks/data_table.ipynb>data table notebook</a>'\n",
              "            + ' to learn more about interactive tables.';\n",
              "          element.innerHTML = '';\n",
              "          dataTable['output_type'] = 'display_data';\n",
              "          await google.colab.output.renderOutput(dataTable, element);\n",
              "          const docLink = document.createElement('div');\n",
              "          docLink.innerHTML = docLinkHtml;\n",
              "          element.appendChild(docLink);\n",
              "        }\n",
              "      </script>\n",
              "    </div>\n",
              "  </div>\n",
              "  "
            ]
          },
          "metadata": {},
          "execution_count": 28
        }
      ],
      "source": [
        "# Identify Correlation\n",
        "data.corr()"
      ]
    },
    {
      "cell_type": "code",
      "execution_count": 68,
      "id": "24818307",
      "metadata": {
        "execution": {
          "iopub.execute_input": "2022-12-28T02:43:11.732041Z",
          "iopub.status.busy": "2022-12-28T02:43:11.731341Z",
          "iopub.status.idle": "2022-12-28T02:43:11.751687Z",
          "shell.execute_reply": "2022-12-28T02:43:11.750566Z"
        },
        "papermill": {
          "duration": 0.062772,
          "end_time": "2022-12-28T02:43:11.754212",
          "exception": false,
          "start_time": "2022-12-28T02:43:11.691440",
          "status": "completed"
        },
        "tags": [],
        "colab": {
          "base_uri": "https://localhost:8080/",
          "height": 262
        },
        "id": "24818307",
        "outputId": "d05052b6-3ebe-47a8-905a-10c53c57d39d"
      },
      "outputs": [
        {
          "output_type": "stream",
          "name": "stderr",
          "text": [
            "<ipython-input-68-509fb0a1e79f>:1: FutureWarning: The default value of numeric_only in DataFrame.corr is deprecated. In a future version, it will default to False. Select only valid columns or specify the value of numeric_only to silence this warning.\n",
            "  data.corr(method = 'spearman')\n"
          ]
        },
        {
          "output_type": "execute_result",
          "data": {
            "text/plain": [
              "                   ApplicantIncome  CoapplicantIncome  LoanAmount  \\\n",
              "ApplicantIncome           1.000000          -0.320056    0.515397   \n",
              "CoapplicantIncome        -0.320056           1.000000    0.240719   \n",
              "LoanAmount                0.515397           0.240719    1.000000   \n",
              "Loan_Amount_Term         -0.040111          -0.013747    0.041486   \n",
              "Credit_History            0.043241          -0.007458   -0.002361   \n",
              "\n",
              "                   Loan_Amount_Term  Credit_History  \n",
              "ApplicantIncome           -0.040111        0.043241  \n",
              "CoapplicantIncome         -0.013747       -0.007458  \n",
              "LoanAmount                 0.041486       -0.002361  \n",
              "Loan_Amount_Term           1.000000        0.015088  \n",
              "Credit_History             0.015088        1.000000  "
            ],
            "text/html": [
              "\n",
              "  <div id=\"df-8a622159-573c-4c93-99ef-1674d4688605\">\n",
              "    <div class=\"colab-df-container\">\n",
              "      <div>\n",
              "<style scoped>\n",
              "    .dataframe tbody tr th:only-of-type {\n",
              "        vertical-align: middle;\n",
              "    }\n",
              "\n",
              "    .dataframe tbody tr th {\n",
              "        vertical-align: top;\n",
              "    }\n",
              "\n",
              "    .dataframe thead th {\n",
              "        text-align: right;\n",
              "    }\n",
              "</style>\n",
              "<table border=\"1\" class=\"dataframe\">\n",
              "  <thead>\n",
              "    <tr style=\"text-align: right;\">\n",
              "      <th></th>\n",
              "      <th>ApplicantIncome</th>\n",
              "      <th>CoapplicantIncome</th>\n",
              "      <th>LoanAmount</th>\n",
              "      <th>Loan_Amount_Term</th>\n",
              "      <th>Credit_History</th>\n",
              "    </tr>\n",
              "  </thead>\n",
              "  <tbody>\n",
              "    <tr>\n",
              "      <th>ApplicantIncome</th>\n",
              "      <td>1.000000</td>\n",
              "      <td>-0.320056</td>\n",
              "      <td>0.515397</td>\n",
              "      <td>-0.040111</td>\n",
              "      <td>0.043241</td>\n",
              "    </tr>\n",
              "    <tr>\n",
              "      <th>CoapplicantIncome</th>\n",
              "      <td>-0.320056</td>\n",
              "      <td>1.000000</td>\n",
              "      <td>0.240719</td>\n",
              "      <td>-0.013747</td>\n",
              "      <td>-0.007458</td>\n",
              "    </tr>\n",
              "    <tr>\n",
              "      <th>LoanAmount</th>\n",
              "      <td>0.515397</td>\n",
              "      <td>0.240719</td>\n",
              "      <td>1.000000</td>\n",
              "      <td>0.041486</td>\n",
              "      <td>-0.002361</td>\n",
              "    </tr>\n",
              "    <tr>\n",
              "      <th>Loan_Amount_Term</th>\n",
              "      <td>-0.040111</td>\n",
              "      <td>-0.013747</td>\n",
              "      <td>0.041486</td>\n",
              "      <td>1.000000</td>\n",
              "      <td>0.015088</td>\n",
              "    </tr>\n",
              "    <tr>\n",
              "      <th>Credit_History</th>\n",
              "      <td>0.043241</td>\n",
              "      <td>-0.007458</td>\n",
              "      <td>-0.002361</td>\n",
              "      <td>0.015088</td>\n",
              "      <td>1.000000</td>\n",
              "    </tr>\n",
              "  </tbody>\n",
              "</table>\n",
              "</div>\n",
              "      <button class=\"colab-df-convert\" onclick=\"convertToInteractive('df-8a622159-573c-4c93-99ef-1674d4688605')\"\n",
              "              title=\"Convert this dataframe to an interactive table.\"\n",
              "              style=\"display:none;\">\n",
              "        \n",
              "  <svg xmlns=\"http://www.w3.org/2000/svg\" height=\"24px\"viewBox=\"0 0 24 24\"\n",
              "       width=\"24px\">\n",
              "    <path d=\"M0 0h24v24H0V0z\" fill=\"none\"/>\n",
              "    <path d=\"M18.56 5.44l.94 2.06.94-2.06 2.06-.94-2.06-.94-.94-2.06-.94 2.06-2.06.94zm-11 1L8.5 8.5l.94-2.06 2.06-.94-2.06-.94L8.5 2.5l-.94 2.06-2.06.94zm10 10l.94 2.06.94-2.06 2.06-.94-2.06-.94-.94-2.06-.94 2.06-2.06.94z\"/><path d=\"M17.41 7.96l-1.37-1.37c-.4-.4-.92-.59-1.43-.59-.52 0-1.04.2-1.43.59L10.3 9.45l-7.72 7.72c-.78.78-.78 2.05 0 2.83L4 21.41c.39.39.9.59 1.41.59.51 0 1.02-.2 1.41-.59l7.78-7.78 2.81-2.81c.8-.78.8-2.07 0-2.86zM5.41 20L4 18.59l7.72-7.72 1.47 1.35L5.41 20z\"/>\n",
              "  </svg>\n",
              "      </button>\n",
              "      \n",
              "  <style>\n",
              "    .colab-df-container {\n",
              "      display:flex;\n",
              "      flex-wrap:wrap;\n",
              "      gap: 12px;\n",
              "    }\n",
              "\n",
              "    .colab-df-convert {\n",
              "      background-color: #E8F0FE;\n",
              "      border: none;\n",
              "      border-radius: 50%;\n",
              "      cursor: pointer;\n",
              "      display: none;\n",
              "      fill: #1967D2;\n",
              "      height: 32px;\n",
              "      padding: 0 0 0 0;\n",
              "      width: 32px;\n",
              "    }\n",
              "\n",
              "    .colab-df-convert:hover {\n",
              "      background-color: #E2EBFA;\n",
              "      box-shadow: 0px 1px 2px rgba(60, 64, 67, 0.3), 0px 1px 3px 1px rgba(60, 64, 67, 0.15);\n",
              "      fill: #174EA6;\n",
              "    }\n",
              "\n",
              "    [theme=dark] .colab-df-convert {\n",
              "      background-color: #3B4455;\n",
              "      fill: #D2E3FC;\n",
              "    }\n",
              "\n",
              "    [theme=dark] .colab-df-convert:hover {\n",
              "      background-color: #434B5C;\n",
              "      box-shadow: 0px 1px 3px 1px rgba(0, 0, 0, 0.15);\n",
              "      filter: drop-shadow(0px 1px 2px rgba(0, 0, 0, 0.3));\n",
              "      fill: #FFFFFF;\n",
              "    }\n",
              "  </style>\n",
              "\n",
              "      <script>\n",
              "        const buttonEl =\n",
              "          document.querySelector('#df-8a622159-573c-4c93-99ef-1674d4688605 button.colab-df-convert');\n",
              "        buttonEl.style.display =\n",
              "          google.colab.kernel.accessAllowed ? 'block' : 'none';\n",
              "\n",
              "        async function convertToInteractive(key) {\n",
              "          const element = document.querySelector('#df-8a622159-573c-4c93-99ef-1674d4688605');\n",
              "          const dataTable =\n",
              "            await google.colab.kernel.invokeFunction('convertToInteractive',\n",
              "                                                     [key], {});\n",
              "          if (!dataTable) return;\n",
              "\n",
              "          const docLinkHtml = 'Like what you see? Visit the ' +\n",
              "            '<a target=\"_blank\" href=https://colab.research.google.com/notebooks/data_table.ipynb>data table notebook</a>'\n",
              "            + ' to learn more about interactive tables.';\n",
              "          element.innerHTML = '';\n",
              "          dataTable['output_type'] = 'display_data';\n",
              "          await google.colab.output.renderOutput(dataTable, element);\n",
              "          const docLink = document.createElement('div');\n",
              "          docLink.innerHTML = docLinkHtml;\n",
              "          element.appendChild(docLink);\n",
              "        }\n",
              "      </script>\n",
              "    </div>\n",
              "  </div>\n",
              "  "
            ]
          },
          "metadata": {},
          "execution_count": 68
        }
      ],
      "source": [
        "data.corr(method = 'spearman')"
      ]
    },
    {
      "cell_type": "code",
      "execution_count": 69,
      "id": "0052b832",
      "metadata": {
        "execution": {
          "iopub.execute_input": "2022-12-28T02:43:11.833973Z",
          "iopub.status.busy": "2022-12-28T02:43:11.833519Z",
          "iopub.status.idle": "2022-12-28T02:43:12.279940Z",
          "shell.execute_reply": "2022-12-28T02:43:12.278681Z"
        },
        "papermill": {
          "duration": 0.489452,
          "end_time": "2022-12-28T02:43:12.282547",
          "exception": false,
          "start_time": "2022-12-28T02:43:11.793095",
          "status": "completed"
        },
        "tags": [],
        "colab": {
          "base_uri": "https://localhost:8080/",
          "height": 910
        },
        "id": "0052b832",
        "outputId": "ea3fa0a8-4224-4e63-d58d-4a81357073bb"
      },
      "outputs": [
        {
          "output_type": "stream",
          "name": "stderr",
          "text": [
            "<ipython-input-69-acbf16fcc3e7>:3: FutureWarning: The default value of numeric_only in DataFrame.corr is deprecated. In a future version, it will default to False. Select only valid columns or specify the value of numeric_only to silence this warning.\n",
            "  sns.heatmap(data.corr(), annot=True, linewidths=.5, vmin = -1, vmax = 1, fmt = '.2g')\n"
          ]
        },
        {
          "output_type": "execute_result",
          "data": {
            "text/plain": [
              "<Axes: >"
            ]
          },
          "metadata": {},
          "execution_count": 69
        },
        {
          "output_type": "display_data",
          "data": {
            "text/plain": [
              "<Figure size 1500x1000 with 2 Axes>"
            ],
            "image/png": "[encoded data removed]"
          },
          "metadata": {}
        }
      ],
      "source": [
        "# Plot the Correlation matrix\n",
        "plt.figure(figsize=(15,10))\n",
        "sns.heatmap(data.corr(), annot=True, linewidths=.5, vmin = -1, vmax = 1, fmt = '.2g')"
      ]
    },
    {
      "cell_type": "code",
      "execution_count": 70,
      "id": "e605258a",
      "metadata": {
        "execution": {
          "iopub.execute_input": "2022-12-28T02:43:12.366261Z",
          "iopub.status.busy": "2022-12-28T02:43:12.365799Z",
          "iopub.status.idle": "2022-12-28T02:43:12.796334Z",
          "shell.execute_reply": "2022-12-28T02:43:12.795036Z"
        },
        "papermill": {
          "duration": 0.476815,
          "end_time": "2022-12-28T02:43:12.799098",
          "exception": false,
          "start_time": "2022-12-28T02:43:12.322283",
          "status": "completed"
        },
        "tags": [],
        "colab": {
          "base_uri": "https://localhost:8080/",
          "height": 910
        },
        "id": "e605258a",
        "outputId": "ba7cd2ab-06c0-4106-f021-812e796b2329"
      },
      "outputs": [
        {
          "output_type": "stream",
          "name": "stderr",
          "text": [
            "<ipython-input-70-395ac1e16be3>:2: FutureWarning: The default value of numeric_only in DataFrame.corr is deprecated. In a future version, it will default to False. Select only valid columns or specify the value of numeric_only to silence this warning.\n",
            "  sns.heatmap(data.corr(method = 'spearman'), annot=True, linewidths=.5, vmin = -1, vmax = 1, fmt = '.2g')\n"
          ]
        },
        {
          "output_type": "execute_result",
          "data": {
            "text/plain": [
              "<Axes: >"
            ]
          },
          "metadata": {},
          "execution_count": 70
        },
        {
          "output_type": "display_data",
          "data": {
            "text/plain": [
              "<Figure size 1500x1000 with 2 Axes>"
            ],
            "image/png": "[encoded data removed]"
          },
          "metadata": {}
        }
      ],
      "source": [
        "plt.figure(figsize=(15,10))\n",
        "sns.heatmap(data.corr(method = 'spearman'), annot=True, linewidths=.5, vmin = -1, vmax = 1, fmt = '.2g')"
      ]
    },
    {
      "cell_type": "markdown",
      "id": "0f1fad77",
      "metadata": {
        "papermill": {
          "duration": 0.041632,
          "end_time": "2022-12-28T02:43:12.880604",
          "exception": false,
          "start_time": "2022-12-28T02:43:12.838972",
          "status": "completed"
        },
        "tags": [],
        "id": "0f1fad77"
      },
      "source": [
        "### Given the strong correlation between \"ApplicantIncome\" and \"LoanAmount,\" one of them must be eliminated in order to avoid the multicollinearity of independent variables.\n",
        "\n",
        "### The VIF calculation below verifies this.\n"
      ]
    },
    {
      "cell_type": "code",
      "execution_count": 71,
      "id": "2b7709a6",
      "metadata": {
        "execution": {
          "iopub.execute_input": "2022-12-28T02:43:12.967815Z",
          "iopub.status.busy": "2022-12-28T02:43:12.967373Z",
          "iopub.status.idle": "2022-12-28T02:43:12.978056Z",
          "shell.execute_reply": "2022-12-28T02:43:12.976796Z"
        },
        "papermill": {
          "duration": 0.057723,
          "end_time": "2022-12-28T02:43:12.981218",
          "exception": false,
          "start_time": "2022-12-28T02:43:12.923495",
          "status": "completed"
        },
        "tags": [],
        "colab": {
          "base_uri": "https://localhost:8080/"
        },
        "id": "2b7709a6",
        "outputId": "df5270f8-90d3-4690-9dd4-6b1f71c78396"
      },
      "outputs": [
        {
          "output_type": "execute_result",
          "data": {
            "text/plain": [
              "Gender               13\n",
              "Married               3\n",
              "Dependents           15\n",
              "Education             0\n",
              "Self_Employed        32\n",
              "ApplicantIncome       0\n",
              "CoapplicantIncome     0\n",
              "LoanAmount           22\n",
              "Loan_Amount_Term     14\n",
              "Credit_History       50\n",
              "Property_Area         0\n",
              "Loan_Status           0\n",
              "dtype: int64"
            ]
          },
          "metadata": {},
          "execution_count": 71
        }
      ],
      "source": [
        "data.isnull().sum()"
      ]
    },
    {
      "cell_type": "markdown",
      "id": "84c7ae60",
      "metadata": {
        "papermill": {
          "duration": 0.045858,
          "end_time": "2022-12-28T02:43:13.078842",
          "exception": false,
          "start_time": "2022-12-28T02:43:13.032984",
          "status": "completed"
        },
        "tags": [],
        "id": "84c7ae60"
      },
      "source": [
        "# Data Preprocessing"
      ]
    },
    {
      "cell_type": "markdown",
      "id": "245e0649",
      "metadata": {
        "papermill": {
          "duration": 0.042751,
          "end_time": "2022-12-28T02:43:13.164438",
          "exception": false,
          "start_time": "2022-12-28T02:43:13.121687",
          "status": "completed"
        },
        "tags": [],
        "id": "245e0649"
      },
      "source": [
        "## Imputing null values"
      ]
    },
    {
      "cell_type": "code",
      "execution_count": 72,
      "id": "b795349e",
      "metadata": {
        "execution": {
          "iopub.execute_input": "2022-12-28T02:43:13.251405Z",
          "iopub.status.busy": "2022-12-28T02:43:13.250452Z",
          "iopub.status.idle": "2022-12-28T02:43:13.264457Z",
          "shell.execute_reply": "2022-12-28T02:43:13.263195Z"
        },
        "papermill": {
          "duration": 0.058459,
          "end_time": "2022-12-28T02:43:13.267408",
          "exception": false,
          "start_time": "2022-12-28T02:43:13.208949",
          "status": "completed"
        },
        "tags": [],
        "id": "b795349e"
      },
      "outputs": [],
      "source": [
        "# Imputing null for categorical variables with mode\n",
        "data['Dependents'] = data['Dependents'].fillna(data['Dependents'].mode()[0])\n",
        "data['Gender'] = data['Gender'].fillna(data['Gender'].mode()[0])\n",
        "data['Married'] = data['Married'].fillna(data['Married'].mode()[0])\n",
        "data['Education'] = data['Education'].fillna(data['Education'].mode()[0])\n",
        "data['Self_Employed'] = data['Self_Employed'].fillna(data['Self_Employed'].mode()[0])\n",
        "data['Credit_History'] = data['Credit_History'].fillna(data['Credit_History'].mode()[0])"
      ]
    },
    {
      "cell_type": "code",
      "execution_count": 73,
      "id": "2bd7d134",
      "metadata": {
        "execution": {
          "iopub.execute_input": "2022-12-28T02:43:13.366836Z",
          "iopub.status.busy": "2022-12-28T02:43:13.365989Z",
          "iopub.status.idle": "2022-12-28T02:43:13.374202Z",
          "shell.execute_reply": "2022-12-28T02:43:13.373233Z"
        },
        "papermill": {
          "duration": 0.066988,
          "end_time": "2022-12-28T02:43:13.376848",
          "exception": false,
          "start_time": "2022-12-28T02:43:13.309860",
          "status": "completed"
        },
        "tags": [],
        "id": "2bd7d134"
      },
      "outputs": [],
      "source": [
        "# Imputing null for numerical variables with median - mean was not chosen because of outliers in the data\n",
        "data['LoanAmount'].fillna(data['LoanAmount'].median(), inplace = True)\n",
        "data['Loan_Amount_Term'].fillna(data['Loan_Amount_Term'].median(), inplace = True)"
      ]
    },
    {
      "cell_type": "code",
      "execution_count": 74,
      "id": "61452448",
      "metadata": {
        "execution": {
          "iopub.execute_input": "2022-12-28T02:43:13.466707Z",
          "iopub.status.busy": "2022-12-28T02:43:13.466016Z",
          "iopub.status.idle": "2022-12-28T02:43:13.477907Z",
          "shell.execute_reply": "2022-12-28T02:43:13.476618Z"
        },
        "papermill": {
          "duration": 0.060994,
          "end_time": "2022-12-28T02:43:13.480936",
          "exception": false,
          "start_time": "2022-12-28T02:43:13.419942",
          "status": "completed"
        },
        "tags": [],
        "colab": {
          "base_uri": "https://localhost:8080/"
        },
        "id": "61452448",
        "outputId": "16da20d5-4452-47e2-c52b-566407ca6d74"
      },
      "outputs": [
        {
          "output_type": "execute_result",
          "data": {
            "text/plain": [
              "Gender               0\n",
              "Married              0\n",
              "Dependents           0\n",
              "Education            0\n",
              "Self_Employed        0\n",
              "ApplicantIncome      0\n",
              "CoapplicantIncome    0\n",
              "LoanAmount           0\n",
              "Loan_Amount_Term     0\n",
              "Credit_History       0\n",
              "Property_Area        0\n",
              "Loan_Status          0\n",
              "dtype: int64"
            ]
          },
          "metadata": {},
          "execution_count": 74
        }
      ],
      "source": [
        "data.isnull().sum()"
      ]
    },
    {
      "cell_type": "markdown",
      "id": "f85957f0",
      "metadata": {
        "papermill": {
          "duration": 0.043632,
          "end_time": "2022-12-28T02:43:13.569125",
          "exception": false,
          "start_time": "2022-12-28T02:43:13.525493",
          "status": "completed"
        },
        "tags": [],
        "id": "f85957f0"
      },
      "source": [
        "## Detecting multicollinearity"
      ]
    },
    {
      "cell_type": "code",
      "execution_count": 75,
      "id": "32c32c7b",
      "metadata": {
        "execution": {
          "iopub.execute_input": "2022-12-28T02:43:13.654864Z",
          "iopub.status.busy": "2022-12-28T02:43:13.654368Z",
          "iopub.status.idle": "2022-12-28T02:43:13.803845Z",
          "shell.execute_reply": "2022-12-28T02:43:13.802415Z"
        },
        "papermill": {
          "duration": 0.198018,
          "end_time": "2022-12-28T02:43:13.809053",
          "exception": false,
          "start_time": "2022-12-28T02:43:13.611035",
          "status": "completed"
        },
        "tags": [],
        "colab": {
          "base_uri": "https://localhost:8080/",
          "height": 175
        },
        "id": "32c32c7b",
        "outputId": "0b355c7e-d158-41a4-ef14-7245fc63d474"
      },
      "outputs": [
        {
          "output_type": "execute_result",
          "data": {
            "text/plain": [
              "            features  vif_Factor\n",
              "0    ApplicantIncome    2.845794\n",
              "1  CoapplicantIncome    1.458045\n",
              "2         LoanAmount    6.457683\n",
              "3   Loan_Amount_Term    3.753503"
            ],
            "text/html": [
              "\n",
              "  <div id=\"df-6fa7c2b0-b8d6-405f-94f4-4586b8061abc\">\n",
              "    <div class=\"colab-df-container\">\n",
              "      <div>\n",
              "<style scoped>\n",
              "    .dataframe tbody tr th:only-of-type {\n",
              "        vertical-align: middle;\n",
              "    }\n",
              "\n",
              "    .dataframe tbody tr th {\n",
              "        vertical-align: top;\n",
              "    }\n",
              "\n",
              "    .dataframe thead th {\n",
              "        text-align: right;\n",
              "    }\n",
              "</style>\n",
              "<table border=\"1\" class=\"dataframe\">\n",
              "  <thead>\n",
              "    <tr style=\"text-align: right;\">\n",
              "      <th></th>\n",
              "      <th>features</th>\n",
              "      <th>vif_Factor</th>\n",
              "    </tr>\n",
              "  </thead>\n",
              "  <tbody>\n",
              "    <tr>\n",
              "      <th>0</th>\n",
              "      <td>ApplicantIncome</td>\n",
              "      <td>2.845794</td>\n",
              "    </tr>\n",
              "    <tr>\n",
              "      <th>1</th>\n",
              "      <td>CoapplicantIncome</td>\n",
              "      <td>1.458045</td>\n",
              "    </tr>\n",
              "    <tr>\n",
              "      <th>2</th>\n",
              "      <td>LoanAmount</td>\n",
              "      <td>6.457683</td>\n",
              "    </tr>\n",
              "    <tr>\n",
              "      <th>3</th>\n",
              "      <td>Loan_Amount_Term</td>\n",
              "      <td>3.753503</td>\n",
              "    </tr>\n",
              "  </tbody>\n",
              "</table>\n",
              "</div>\n",
              "      <button class=\"colab-df-convert\" onclick=\"convertToInteractive('df-6fa7c2b0-b8d6-405f-94f4-4586b8061abc')\"\n",
              "              title=\"Convert this dataframe to an interactive table.\"\n",
              "              style=\"display:none;\">\n",
              "        \n",
              "  <svg xmlns=\"http://www.w3.org/2000/svg\" height=\"24px\"viewBox=\"0 0 24 24\"\n",
              "       width=\"24px\">\n",
              "    <path d=\"M0 0h24v24H0V0z\" fill=\"none\"/>\n",
              "    <path d=\"M18.56 5.44l.94 2.06.94-2.06 2.06-.94-2.06-.94-.94-2.06-.94 2.06-2.06.94zm-11 1L8.5 8.5l.94-2.06 2.06-.94-2.06-.94L8.5 2.5l-.94 2.06-2.06.94zm10 10l.94 2.06.94-2.06 2.06-.94-2.06-.94-.94-2.06-.94 2.06-2.06.94z\"/><path d=\"M17.41 7.96l-1.37-1.37c-.4-.4-.92-.59-1.43-.59-.52 0-1.04.2-1.43.59L10.3 9.45l-7.72 7.72c-.78.78-.78 2.05 0 2.83L4 21.41c.39.39.9.59 1.41.59.51 0 1.02-.2 1.41-.59l7.78-7.78 2.81-2.81c.8-.78.8-2.07 0-2.86zM5.41 20L4 18.59l7.72-7.72 1.47 1.35L5.41 20z\"/>\n",
              "  </svg>\n",
              "      </button>\n",
              "      \n",
              "  <style>\n",
              "    .colab-df-container {\n",
              "      display:flex;\n",
              "      flex-wrap:wrap;\n",
              "      gap: 12px;\n",
              "    }\n",
              "\n",
              "    .colab-df-convert {\n",
              "      background-color: #E8F0FE;\n",
              "      border: none;\n",
              "      border-radius: 50%;\n",
              "      cursor: pointer;\n",
              "      display: none;\n",
              "      fill: #1967D2;\n",
              "      height: 32px;\n",
              "      padding: 0 0 0 0;\n",
              "      width: 32px;\n",
              "    }\n",
              "\n",
              "    .colab-df-convert:hover {\n",
              "      background-color: #E2EBFA;\n",
              "      box-shadow: 0px 1px 2px rgba(60, 64, 67, 0.3), 0px 1px 3px 1px rgba(60, 64, 67, 0.15);\n",
              "      fill: #174EA6;\n",
              "    }\n",
              "\n",
              "    [theme=dark] .colab-df-convert {\n",
              "      background-color: #3B4455;\n",
              "      fill: #D2E3FC;\n",
              "    }\n",
              "\n",
              "    [theme=dark] .colab-df-convert:hover {\n",
              "      background-color: #434B5C;\n",
              "      box-shadow: 0px 1px 3px 1px rgba(0, 0, 0, 0.15);\n",
              "      filter: drop-shadow(0px 1px 2px rgba(0, 0, 0, 0.3));\n",
              "      fill: #FFFFFF;\n",
              "    }\n",
              "  </style>\n",
              "\n",
              "      <script>\n",
              "        const buttonEl =\n",
              "          document.querySelector('#df-6fa7c2b0-b8d6-405f-94f4-4586b8061abc button.colab-df-convert');\n",
              "        buttonEl.style.display =\n",
              "          google.colab.kernel.accessAllowed ? 'block' : 'none';\n",
              "\n",
              "        async function convertToInteractive(key) {\n",
              "          const element = document.querySelector('#df-6fa7c2b0-b8d6-405f-94f4-4586b8061abc');\n",
              "          const dataTable =\n",
              "            await google.colab.kernel.invokeFunction('convertToInteractive',\n",
              "                                                     [key], {});\n",
              "          if (!dataTable) return;\n",
              "\n",
              "          const docLinkHtml = 'Like what you see? Visit the ' +\n",
              "            '<a target=\"_blank\" href=https://colab.research.google.com/notebooks/data_table.ipynb>data table notebook</a>'\n",
              "            + ' to learn more about interactive tables.';\n",
              "          element.innerHTML = '';\n",
              "          dataTable['output_type'] = 'display_data';\n",
              "          await google.colab.output.renderOutput(dataTable, element);\n",
              "          const docLink = document.createElement('div');\n",
              "          docLink.innerHTML = docLinkHtml;\n",
              "          element.appendChild(docLink);\n",
              "        }\n",
              "      </script>\n",
              "    </div>\n",
              "  </div>\n",
              "  "
            ]
          },
          "metadata": {},
          "execution_count": 75
        }
      ],
      "source": [
        "# Calculating VIF for all numerical variables\n",
        "from statsmodels.stats.outliers_influence import variance_inflation_factor\n",
        "\n",
        "x = data[['ApplicantIncome', 'CoapplicantIncome', 'LoanAmount', 'Loan_Amount_Term']]\n",
        "\n",
        "vif = pd.DataFrame()\n",
        "vif[\"features\"] = x.columns\n",
        "vif[\"vif_Factor\"] = [variance_inflation_factor(x.values, i) for i in range(x.shape[1])]\n",
        "vif"
      ]
    },
    {
      "cell_type": "code",
      "execution_count": 76,
      "id": "dd331e67",
      "metadata": {
        "execution": {
          "iopub.execute_input": "2022-12-28T02:43:13.930782Z",
          "iopub.status.busy": "2022-12-28T02:43:13.930087Z",
          "iopub.status.idle": "2022-12-28T02:43:13.951266Z",
          "shell.execute_reply": "2022-12-28T02:43:13.949847Z"
        },
        "papermill": {
          "duration": 0.07645,
          "end_time": "2022-12-28T02:43:13.954060",
          "exception": false,
          "start_time": "2022-12-28T02:43:13.877610",
          "status": "completed"
        },
        "tags": [],
        "colab": {
          "base_uri": "https://localhost:8080/",
          "height": 143
        },
        "id": "dd331e67",
        "outputId": "68811c75-1b11-462d-d9d4-aafbb1c81ee2"
      },
      "outputs": [
        {
          "output_type": "execute_result",
          "data": {
            "text/plain": [
              "            features  vif_Factor\n",
              "0    ApplicantIncome    1.724216\n",
              "1  CoapplicantIncome    1.287776\n",
              "2   Loan_Amount_Term    2.072653"
            ],
            "text/html": [
              "\n",
              "  <div id=\"df-c83f5914-3c22-4e06-a10e-1ddcb741fc96\">\n",
              "    <div class=\"colab-df-container\">\n",
              "      <div>\n",
              "<style scoped>\n",
              "    .dataframe tbody tr th:only-of-type {\n",
              "        vertical-align: middle;\n",
              "    }\n",
              "\n",
              "    .dataframe tbody tr th {\n",
              "        vertical-align: top;\n",
              "    }\n",
              "\n",
              "    .dataframe thead th {\n",
              "        text-align: right;\n",
              "    }\n",
              "</style>\n",
              "<table border=\"1\" class=\"dataframe\">\n",
              "  <thead>\n",
              "    <tr style=\"text-align: right;\">\n",
              "      <th></th>\n",
              "      <th>features</th>\n",
              "      <th>vif_Factor</th>\n",
              "    </tr>\n",
              "  </thead>\n",
              "  <tbody>\n",
              "    <tr>\n",
              "      <th>0</th>\n",
              "      <td>ApplicantIncome</td>\n",
              "      <td>1.724216</td>\n",
              "    </tr>\n",
              "    <tr>\n",
              "      <th>1</th>\n",
              "      <td>CoapplicantIncome</td>\n",
              "      <td>1.287776</td>\n",
              "    </tr>\n",
              "    <tr>\n",
              "      <th>2</th>\n",
              "      <td>Loan_Amount_Term</td>\n",
              "      <td>2.072653</td>\n",
              "    </tr>\n",
              "  </tbody>\n",
              "</table>\n",
              "</div>\n",
              "      <button class=\"colab-df-convert\" onclick=\"convertToInteractive('df-c83f5914-3c22-4e06-a10e-1ddcb741fc96')\"\n",
              "              title=\"Convert this dataframe to an interactive table.\"\n",
              "              style=\"display:none;\">\n",
              "        \n",
              "  <svg xmlns=\"http://www.w3.org/2000/svg\" height=\"24px\"viewBox=\"0 0 24 24\"\n",
              "       width=\"24px\">\n",
              "    <path d=\"M0 0h24v24H0V0z\" fill=\"none\"/>\n",
              "    <path d=\"M18.56 5.44l.94 2.06.94-2.06 2.06-.94-2.06-.94-.94-2.06-.94 2.06-2.06.94zm-11 1L8.5 8.5l.94-2.06 2.06-.94-2.06-.94L8.5 2.5l-.94 2.06-2.06.94zm10 10l.94 2.06.94-2.06 2.06-.94-2.06-.94-.94-2.06-.94 2.06-2.06.94z\"/><path d=\"M17.41 7.96l-1.37-1.37c-.4-.4-.92-.59-1.43-.59-.52 0-1.04.2-1.43.59L10.3 9.45l-7.72 7.72c-.78.78-.78 2.05 0 2.83L4 21.41c.39.39.9.59 1.41.59.51 0 1.02-.2 1.41-.59l7.78-7.78 2.81-2.81c.8-.78.8-2.07 0-2.86zM5.41 20L4 18.59l7.72-7.72 1.47 1.35L5.41 20z\"/>\n",
              "  </svg>\n",
              "      </button>\n",
              "      \n",
              "  <style>\n",
              "    .colab-df-container {\n",
              "      display:flex;\n",
              "      flex-wrap:wrap;\n",
              "      gap: 12px;\n",
              "    }\n",
              "\n",
              "    .colab-df-convert {\n",
              "      background-color: #E8F0FE;\n",
              "      border: none;\n",
              "      border-radius: 50%;\n",
              "      cursor: pointer;\n",
              "      display: none;\n",
              "      fill: #1967D2;\n",
              "      height: 32px;\n",
              "      padding: 0 0 0 0;\n",
              "      width: 32px;\n",
              "    }\n",
              "\n",
              "    .colab-df-convert:hover {\n",
              "      background-color: #E2EBFA;\n",
              "      box-shadow: 0px 1px 2px rgba(60, 64, 67, 0.3), 0px 1px 3px 1px rgba(60, 64, 67, 0.15);\n",
              "      fill: #174EA6;\n",
              "    }\n",
              "\n",
              "    [theme=dark] .colab-df-convert {\n",
              "      background-color: #3B4455;\n",
              "      fill: #D2E3FC;\n",
              "    }\n",
              "\n",
              "    [theme=dark] .colab-df-convert:hover {\n",
              "      background-color: #434B5C;\n",
              "      box-shadow: 0px 1px 3px 1px rgba(0, 0, 0, 0.15);\n",
              "      filter: drop-shadow(0px 1px 2px rgba(0, 0, 0, 0.3));\n",
              "      fill: #FFFFFF;\n",
              "    }\n",
              "  </style>\n",
              "\n",
              "      <script>\n",
              "        const buttonEl =\n",
              "          document.querySelector('#df-c83f5914-3c22-4e06-a10e-1ddcb741fc96 button.colab-df-convert');\n",
              "        buttonEl.style.display =\n",
              "          google.colab.kernel.accessAllowed ? 'block' : 'none';\n",
              "\n",
              "        async function convertToInteractive(key) {\n",
              "          const element = document.querySelector('#df-c83f5914-3c22-4e06-a10e-1ddcb741fc96');\n",
              "          const dataTable =\n",
              "            await google.colab.kernel.invokeFunction('convertToInteractive',\n",
              "                                                     [key], {});\n",
              "          if (!dataTable) return;\n",
              "\n",
              "          const docLinkHtml = 'Like what you see? Visit the ' +\n",
              "            '<a target=\"_blank\" href=https://colab.research.google.com/notebooks/data_table.ipynb>data table notebook</a>'\n",
              "            + ' to learn more about interactive tables.';\n",
              "          element.innerHTML = '';\n",
              "          dataTable['output_type'] = 'display_data';\n",
              "          await google.colab.output.renderOutput(dataTable, element);\n",
              "          const docLink = document.createElement('div');\n",
              "          docLink.innerHTML = docLinkHtml;\n",
              "          element.appendChild(docLink);\n",
              "        }\n",
              "      </script>\n",
              "    </div>\n",
              "  </div>\n",
              "  "
            ]
          },
          "metadata": {},
          "execution_count": 76
        }
      ],
      "source": [
        "# Calculating VIF for all numerical variables except LoanAmount\n",
        "from statsmodels.stats.outliers_influence import variance_inflation_factor\n",
        "\n",
        "x = data[['ApplicantIncome', 'CoapplicantIncome', 'Loan_Amount_Term']]\n",
        "\n",
        "vif = pd.DataFrame()\n",
        "vif[\"features\"] = x.columns\n",
        "vif[\"vif_Factor\"] = [variance_inflation_factor(x.values, i) for i in range(x.shape[1])]\n",
        "vif"
      ]
    },
    {
      "cell_type": "markdown",
      "id": "2060badc",
      "metadata": {
        "papermill": {
          "duration": 0.045645,
          "end_time": "2022-12-28T02:43:14.043760",
          "exception": false,
          "start_time": "2022-12-28T02:43:13.998115",
          "status": "completed"
        },
        "tags": [],
        "id": "2060badc"
      },
      "source": [
        "### The best course of action is to remove LoanAmount from the collection of independent variables because VIF fector has drastically decreased."
      ]
    },
    {
      "cell_type": "code",
      "execution_count": 77,
      "id": "31bb6362",
      "metadata": {
        "execution": {
          "iopub.execute_input": "2022-12-28T02:43:14.134816Z",
          "iopub.status.busy": "2022-12-28T02:43:14.134255Z",
          "iopub.status.idle": "2022-12-28T02:43:14.142469Z",
          "shell.execute_reply": "2022-12-28T02:43:14.141242Z"
        },
        "papermill": {
          "duration": 0.057339,
          "end_time": "2022-12-28T02:43:14.144840",
          "exception": false,
          "start_time": "2022-12-28T02:43:14.087501",
          "status": "completed"
        },
        "tags": [],
        "id": "31bb6362"
      },
      "outputs": [],
      "source": [
        "# Drop LoanAmount from data set\n",
        "data.drop(columns = ['LoanAmount'], inplace = True)"
      ]
    },
    {
      "cell_type": "markdown",
      "id": "e97a7821",
      "metadata": {
        "papermill": {
          "duration": 0.044617,
          "end_time": "2022-12-28T02:43:14.231059",
          "exception": false,
          "start_time": "2022-12-28T02:43:14.186442",
          "status": "completed"
        },
        "tags": [],
        "id": "e97a7821"
      },
      "source": [
        "### Balancing Dataset"
      ]
    },
    {
      "cell_type": "code",
      "execution_count": 78,
      "id": "4bcbb7e3",
      "metadata": {
        "execution": {
          "iopub.execute_input": "2022-12-28T02:43:14.320852Z",
          "iopub.status.busy": "2022-12-28T02:43:14.320395Z",
          "iopub.status.idle": "2022-12-28T02:43:28.415527Z",
          "shell.execute_reply": "2022-12-28T02:43:28.414105Z"
        },
        "id": "4bcbb7e3",
        "outputId": "1f3a3a64-df5c-4449-e886-62f7187b56dc",
        "papermill": {
          "duration": 14.142254,
          "end_time": "2022-12-28T02:43:28.418766",
          "exception": false,
          "start_time": "2022-12-28T02:43:14.276512",
          "status": "completed"
        },
        "tags": [],
        "colab": {
          "base_uri": "https://localhost:8080/"
        }
      },
      "outputs": [
        {
          "output_type": "stream",
          "name": "stdout",
          "text": [
            "Looking in indexes: https://pypi.org/simple, https://us-python.pkg.dev/colab-wheels/public/simple/\n",
            "Collecting imblearn\n",
            "  Downloading imblearn-0.0-py2.py3-none-any.whl (1.9 kB)\n",
            "Requirement already satisfied: imbalanced-learn in /usr/local/lib/python3.9/dist-packages (from imblearn) (0.10.1)\n",
            "Requirement already satisfied: scipy>=1.3.2 in /usr/local/lib/python3.9/dist-packages (from imbalanced-learn->imblearn) (1.10.1)\n",
            "Requirement already satisfied: numpy>=1.17.3 in /usr/local/lib/python3.9/dist-packages (from imbalanced-learn->imblearn) (1.22.4)\n",
            "Requirement already satisfied: threadpoolctl>=2.0.0 in /usr/local/lib/python3.9/dist-packages (from imbalanced-learn->imblearn) (3.1.0)\n",
            "Requirement already satisfied: joblib>=1.1.1 in /usr/local/lib/python3.9/dist-packages (from imbalanced-learn->imblearn) (1.2.0)\n",
            "Requirement already satisfied: scikit-learn>=1.0.2 in /usr/local/lib/python3.9/dist-packages (from imbalanced-learn->imblearn) (1.2.2)\n",
            "Installing collected packages: imblearn\n",
            "Successfully installed imblearn-0.0\n"
          ]
        }
      ],
      "source": [
        "pip install imblearn"
      ]
    },
    {
      "cell_type": "code",
      "execution_count": 80,
      "id": "bdc3ccf4",
      "metadata": {
        "execution": {
          "iopub.execute_input": "2022-12-28T02:43:28.502912Z",
          "iopub.status.busy": "2022-12-28T02:43:28.501951Z",
          "iopub.status.idle": "2022-12-28T02:43:28.656608Z",
          "shell.execute_reply": "2022-12-28T02:43:28.655356Z"
        },
        "id": "bdc3ccf4",
        "papermill": {
          "duration": 0.199609,
          "end_time": "2022-12-28T02:43:28.659651",
          "exception": false,
          "start_time": "2022-12-28T02:43:28.460042",
          "status": "completed"
        },
        "tags": []
      },
      "outputs": [],
      "source": [
        "import imblearn"
      ]
    },
    {
      "cell_type": "code",
      "execution_count": 81,
      "id": "47527672",
      "metadata": {
        "execution": {
          "iopub.execute_input": "2022-12-28T02:43:28.817328Z",
          "iopub.status.busy": "2022-12-28T02:43:28.816899Z",
          "iopub.status.idle": "2022-12-28T02:43:28.823792Z",
          "shell.execute_reply": "2022-12-28T02:43:28.822141Z"
        },
        "id": "47527672",
        "papermill": {
          "duration": 0.126322,
          "end_time": "2022-12-28T02:43:28.826791",
          "exception": false,
          "start_time": "2022-12-28T02:43:28.700469",
          "status": "completed"
        },
        "tags": []
      },
      "outputs": [],
      "source": [
        "from imblearn.over_sampling import RandomOverSampler"
      ]
    },
    {
      "cell_type": "code",
      "execution_count": 82,
      "id": "cbb446c2",
      "metadata": {
        "execution": {
          "iopub.execute_input": "2022-12-28T02:43:28.911198Z",
          "iopub.status.busy": "2022-12-28T02:43:28.910759Z",
          "iopub.status.idle": "2022-12-28T02:43:28.915369Z",
          "shell.execute_reply": "2022-12-28T02:43:28.914358Z"
        },
        "id": "cbb446c2",
        "papermill": {
          "duration": 0.049172,
          "end_time": "2022-12-28T02:43:28.917595",
          "exception": false,
          "start_time": "2022-12-28T02:43:28.868423",
          "status": "completed"
        },
        "tags": []
      },
      "outputs": [],
      "source": [
        "ros = RandomOverSampler(random_state=0)"
      ]
    },
    {
      "cell_type": "code",
      "execution_count": 83,
      "id": "cf2ea3f4",
      "metadata": {
        "execution": {
          "iopub.execute_input": "2022-12-28T02:43:29.002078Z",
          "iopub.status.busy": "2022-12-28T02:43:29.001312Z",
          "iopub.status.idle": "2022-12-28T02:43:29.008789Z",
          "shell.execute_reply": "2022-12-28T02:43:29.007846Z"
        },
        "papermill": {
          "duration": 0.052504,
          "end_time": "2022-12-28T02:43:29.011330",
          "exception": false,
          "start_time": "2022-12-28T02:43:28.958826",
          "status": "completed"
        },
        "tags": [],
        "id": "cf2ea3f4"
      },
      "outputs": [],
      "source": [
        "x = data.drop(columns = ['Loan_Status'])\n",
        "y = data['Loan_Status']"
      ]
    },
    {
      "cell_type": "code",
      "execution_count": 84,
      "id": "a9406319",
      "metadata": {
        "execution": {
          "iopub.execute_input": "2022-12-28T02:43:29.096203Z",
          "iopub.status.busy": "2022-12-28T02:43:29.094770Z",
          "iopub.status.idle": "2022-12-28T02:43:29.110502Z",
          "shell.execute_reply": "2022-12-28T02:43:29.109136Z"
        },
        "id": "a9406319",
        "papermill": {
          "duration": 0.06064,
          "end_time": "2022-12-28T02:43:29.113182",
          "exception": false,
          "start_time": "2022-12-28T02:43:29.052542",
          "status": "completed"
        },
        "tags": []
      },
      "outputs": [],
      "source": [
        "x, y = ros.fit_resample(x, y)"
      ]
    },
    {
      "cell_type": "code",
      "execution_count": 85,
      "id": "35563677",
      "metadata": {
        "execution": {
          "iopub.execute_input": "2022-12-28T02:43:29.196493Z",
          "iopub.status.busy": "2022-12-28T02:43:29.196081Z",
          "iopub.status.idle": "2022-12-28T02:43:29.399893Z",
          "shell.execute_reply": "2022-12-28T02:43:29.398625Z"
        },
        "id": "35563677",
        "outputId": "cb20780a-262e-483a-a568-b814a8fb3161",
        "papermill": {
          "duration": 0.248553,
          "end_time": "2022-12-28T02:43:29.402520",
          "exception": false,
          "start_time": "2022-12-28T02:43:29.153967",
          "status": "completed"
        },
        "tags": [],
        "colab": {
          "base_uri": "https://localhost:8080/",
          "height": 449
        }
      },
      "outputs": [
        {
          "output_type": "display_data",
          "data": {
            "text/plain": [
              "<Figure size 640x480 with 1 Axes>"
            ],
            "image/png": "[encoded data removed]"
          },
          "metadata": {}
        }
      ],
      "source": [
        "ax = sns.countplot(x=y)"
      ]
    },
    {
      "cell_type": "markdown",
      "id": "5f2a8a71",
      "metadata": {
        "id": "5f2a8a71"
      },
      "source": [
        "### Therefore, after performing the Under Sampling operation, the count of each class label is equal now"
      ]
    },
    {
      "cell_type": "code",
      "execution_count": 86,
      "id": "864493ed",
      "metadata": {
        "execution": {
          "iopub.execute_input": "2022-12-28T02:43:29.488236Z",
          "iopub.status.busy": "2022-12-28T02:43:29.487793Z",
          "iopub.status.idle": "2022-12-28T02:43:29.508947Z",
          "shell.execute_reply": "2022-12-28T02:43:29.507763Z"
        },
        "papermill": {
          "duration": 0.067816,
          "end_time": "2022-12-28T02:43:29.511188",
          "exception": false,
          "start_time": "2022-12-28T02:43:29.443372",
          "status": "completed"
        },
        "tags": [],
        "colab": {
          "base_uri": "https://localhost:8080/",
          "height": 250
        },
        "id": "864493ed",
        "outputId": "ce7ff0fe-a60c-4d01-8041-7a87e95e1a78"
      },
      "outputs": [
        {
          "output_type": "execute_result",
          "data": {
            "text/plain": [
              "  Gender Married Dependents     Education Self_Employed  ApplicantIncome  \\\n",
              "0   Male      No          0      Graduate            No             5849   \n",
              "1   Male     Yes          1      Graduate            No             4583   \n",
              "2   Male     Yes          0      Graduate           Yes             3000   \n",
              "3   Male     Yes          0  Not Graduate            No             2583   \n",
              "4   Male      No          0      Graduate            No             6000   \n",
              "\n",
              "   CoapplicantIncome  Loan_Amount_Term  Credit_History Property_Area  \\\n",
              "0                0.0             360.0             1.0         Urban   \n",
              "1             1508.0             360.0             1.0         Rural   \n",
              "2                0.0             360.0             1.0         Urban   \n",
              "3             2358.0             360.0             1.0         Urban   \n",
              "4                0.0             360.0             1.0         Urban   \n",
              "\n",
              "  Loan_Status  \n",
              "0           Y  \n",
              "1           N  \n",
              "2           Y  \n",
              "3           Y  \n",
              "4           Y  "
            ],
            "text/html": [
              "\n",
              "  <div id=\"df-5d7bda38-511c-42fa-8da1-1d610d6054ee\">\n",
              "    <div class=\"colab-df-container\">\n",
              "      <div>\n",
              "<style scoped>\n",
              "    .dataframe tbody tr th:only-of-type {\n",
              "        vertical-align: middle;\n",
              "    }\n",
              "\n",
              "    .dataframe tbody tr th {\n",
              "        vertical-align: top;\n",
              "    }\n",
              "\n",
              "    .dataframe thead th {\n",
              "        text-align: right;\n",
              "    }\n",
              "</style>\n",
              "<table border=\"1\" class=\"dataframe\">\n",
              "  <thead>\n",
              "    <tr style=\"text-align: right;\">\n",
              "      <th></th>\n",
              "      <th>Gender</th>\n",
              "      <th>Married</th>\n",
              "      <th>Dependents</th>\n",
              "      <th>Education</th>\n",
              "      <th>Self_Employed</th>\n",
              "      <th>ApplicantIncome</th>\n",
              "      <th>CoapplicantIncome</th>\n",
              "      <th>Loan_Amount_Term</th>\n",
              "      <th>Credit_History</th>\n",
              "      <th>Property_Area</th>\n",
              "      <th>Loan_Status</th>\n",
              "    </tr>\n",
              "  </thead>\n",
              "  <tbody>\n",
              "    <tr>\n",
              "      <th>0</th>\n",
              "      <td>Male</td>\n",
              "      <td>No</td>\n",
              "      <td>0</td>\n",
              "      <td>Graduate</td>\n",
              "      <td>No</td>\n",
              "      <td>5849</td>\n",
              "      <td>0.0</td>\n",
              "      <td>360.0</td>\n",
              "      <td>1.0</td>\n",
              "      <td>Urban</td>\n",
              "      <td>Y</td>\n",
              "    </tr>\n",
              "    <tr>\n",
              "      <th>1</th>\n",
              "      <td>Male</td>\n",
              "      <td>Yes</td>\n",
              "      <td>1</td>\n",
              "      <td>Graduate</td>\n",
              "      <td>No</td>\n",
              "      <td>4583</td>\n",
              "      <td>1508.0</td>\n",
              "      <td>360.0</td>\n",
              "      <td>1.0</td>\n",
              "      <td>Rural</td>\n",
              "      <td>N</td>\n",
              "    </tr>\n",
              "    <tr>\n",
              "      <th>2</th>\n",
              "      <td>Male</td>\n",
              "      <td>Yes</td>\n",
              "      <td>0</td>\n",
              "      <td>Graduate</td>\n",
              "      <td>Yes</td>\n",
              "      <td>3000</td>\n",
              "      <td>0.0</td>\n",
              "      <td>360.0</td>\n",
              "      <td>1.0</td>\n",
              "      <td>Urban</td>\n",
              "      <td>Y</td>\n",
              "    </tr>\n",
              "    <tr>\n",
              "      <th>3</th>\n",
              "      <td>Male</td>\n",
              "      <td>Yes</td>\n",
              "      <td>0</td>\n",
              "      <td>Not Graduate</td>\n",
              "      <td>No</td>\n",
              "      <td>2583</td>\n",
              "      <td>2358.0</td>\n",
              "      <td>360.0</td>\n",
              "      <td>1.0</td>\n",
              "      <td>Urban</td>\n",
              "      <td>Y</td>\n",
              "    </tr>\n",
              "    <tr>\n",
              "      <th>4</th>\n",
              "      <td>Male</td>\n",
              "      <td>No</td>\n",
              "      <td>0</td>\n",
              "      <td>Graduate</td>\n",
              "      <td>No</td>\n",
              "      <td>6000</td>\n",
              "      <td>0.0</td>\n",
              "      <td>360.0</td>\n",
              "      <td>1.0</td>\n",
              "      <td>Urban</td>\n",
              "      <td>Y</td>\n",
              "    </tr>\n",
              "  </tbody>\n",
              "</table>\n",
              "</div>\n",
              "      <button class=\"colab-df-convert\" onclick=\"convertToInteractive('df-5d7bda38-511c-42fa-8da1-1d610d6054ee')\"\n",
              "              title=\"Convert this dataframe to an interactive table.\"\n",
              "              style=\"display:none;\">\n",
              "        \n",
              "  <svg xmlns=\"http://www.w3.org/2000/svg\" height=\"24px\"viewBox=\"0 0 24 24\"\n",
              "       width=\"24px\">\n",
              "    <path d=\"M0 0h24v24H0V0z\" fill=\"none\"/>\n",
              "    <path d=\"M18.56 5.44l.94 2.06.94-2.06 2.06-.94-2.06-.94-.94-2.06-.94 2.06-2.06.94zm-11 1L8.5 8.5l.94-2.06 2.06-.94-2.06-.94L8.5 2.5l-.94 2.06-2.06.94zm10 10l.94 2.06.94-2.06 2.06-.94-2.06-.94-.94-2.06-.94 2.06-2.06.94z\"/><path d=\"M17.41 7.96l-1.37-1.37c-.4-.4-.92-.59-1.43-.59-.52 0-1.04.2-1.43.59L10.3 9.45l-7.72 7.72c-.78.78-.78 2.05 0 2.83L4 21.41c.39.39.9.59 1.41.59.51 0 1.02-.2 1.41-.59l7.78-7.78 2.81-2.81c.8-.78.8-2.07 0-2.86zM5.41 20L4 18.59l7.72-7.72 1.47 1.35L5.41 20z\"/>\n",
              "  </svg>\n",
              "      </button>\n",
              "      \n",
              "  <style>\n",
              "    .colab-df-container {\n",
              "      display:flex;\n",
              "      flex-wrap:wrap;\n",
              "      gap: 12px;\n",
              "    }\n",
              "\n",
              "    .colab-df-convert {\n",
              "      background-color: #E8F0FE;\n",
              "      border: none;\n",
              "      border-radius: 50%;\n",
              "      cursor: pointer;\n",
              "      display: none;\n",
              "      fill: #1967D2;\n",
              "      height: 32px;\n",
              "      padding: 0 0 0 0;\n",
              "      width: 32px;\n",
              "    }\n",
              "\n",
              "    .colab-df-convert:hover {\n",
              "      background-color: #E2EBFA;\n",
              "      box-shadow: 0px 1px 2px rgba(60, 64, 67, 0.3), 0px 1px 3px 1px rgba(60, 64, 67, 0.15);\n",
              "      fill: #174EA6;\n",
              "    }\n",
              "\n",
              "    [theme=dark] .colab-df-convert {\n",
              "      background-color: #3B4455;\n",
              "      fill: #D2E3FC;\n",
              "    }\n",
              "\n",
              "    [theme=dark] .colab-df-convert:hover {\n",
              "      background-color: #434B5C;\n",
              "      box-shadow: 0px 1px 3px 1px rgba(0, 0, 0, 0.15);\n",
              "      filter: drop-shadow(0px 1px 2px rgba(0, 0, 0, 0.3));\n",
              "      fill: #FFFFFF;\n",
              "    }\n",
              "  </style>\n",
              "\n",
              "      <script>\n",
              "        const buttonEl =\n",
              "          document.querySelector('#df-5d7bda38-511c-42fa-8da1-1d610d6054ee button.colab-df-convert');\n",
              "        buttonEl.style.display =\n",
              "          google.colab.kernel.accessAllowed ? 'block' : 'none';\n",
              "\n",
              "        async function convertToInteractive(key) {\n",
              "          const element = document.querySelector('#df-5d7bda38-511c-42fa-8da1-1d610d6054ee');\n",
              "          const dataTable =\n",
              "            await google.colab.kernel.invokeFunction('convertToInteractive',\n",
              "                                                     [key], {});\n",
              "          if (!dataTable) return;\n",
              "\n",
              "          const docLinkHtml = 'Like what you see? Visit the ' +\n",
              "            '<a target=\"_blank\" href=https://colab.research.google.com/notebooks/data_table.ipynb>data table notebook</a>'\n",
              "            + ' to learn more about interactive tables.';\n",
              "          element.innerHTML = '';\n",
              "          dataTable['output_type'] = 'display_data';\n",
              "          await google.colab.output.renderOutput(dataTable, element);\n",
              "          const docLink = document.createElement('div');\n",
              "          docLink.innerHTML = docLinkHtml;\n",
              "          element.appendChild(docLink);\n",
              "        }\n",
              "      </script>\n",
              "    </div>\n",
              "  </div>\n",
              "  "
            ]
          },
          "metadata": {},
          "execution_count": 86
        }
      ],
      "source": [
        "df1=pd.concat([x,y],axis=1)\n",
        "df1.head()"
      ]
    },
    {
      "cell_type": "markdown",
      "id": "d5c96469",
      "metadata": {
        "papermill": {
          "duration": 0.040444,
          "end_time": "2022-12-28T02:43:29.675147",
          "exception": false,
          "start_time": "2022-12-28T02:43:29.634703",
          "status": "completed"
        },
        "tags": [],
        "id": "d5c96469"
      },
      "source": [
        "### ApplicantIncome, CoapplicantIncome, and Loan_Amount_Term all have outliers. However, we would anticipate some outliers to show up in these variables in real life. Consequently, it's crucial to not treat them poorly."
      ]
    },
    {
      "cell_type": "markdown",
      "id": "3cbf4017",
      "metadata": {
        "papermill": {
          "duration": 0.041808,
          "end_time": "2022-12-28T02:43:29.758897",
          "exception": false,
          "start_time": "2022-12-28T02:43:29.717089",
          "status": "completed"
        },
        "tags": [],
        "id": "3cbf4017"
      },
      "source": [
        "## Preprocessing the data"
      ]
    },
    {
      "cell_type": "code",
      "execution_count": 87,
      "id": "d8a6c77c",
      "metadata": {
        "execution": {
          "iopub.execute_input": "2022-12-28T02:43:29.845019Z",
          "iopub.status.busy": "2022-12-28T02:43:29.844556Z",
          "iopub.status.idle": "2022-12-28T02:43:29.877636Z",
          "shell.execute_reply": "2022-12-28T02:43:29.876517Z"
        },
        "papermill": {
          "duration": 0.0791,
          "end_time": "2022-12-28T02:43:29.879874",
          "exception": false,
          "start_time": "2022-12-28T02:43:29.800774",
          "status": "completed"
        },
        "tags": [],
        "colab": {
          "base_uri": "https://localhost:8080/",
          "height": 505
        },
        "id": "d8a6c77c",
        "outputId": "c5441e8f-5c84-4cd6-e03b-39f0f7ad26e5"
      },
      "outputs": [
        {
          "output_type": "execute_result",
          "data": {
            "text/plain": [
              "     Credit_History  Dependents_0  Dependents_1  Dependents_2  Dependents_3+  \\\n",
              "0               1.0             1             0             0              0   \n",
              "1               1.0             0             1             0              0   \n",
              "2               1.0             1             0             0              0   \n",
              "3               1.0             1             0             0              0   \n",
              "4               1.0             1             0             0              0   \n",
              "..              ...           ...           ...           ...            ...   \n",
              "839             0.0             0             0             0              1   \n",
              "840             1.0             0             1             0              0   \n",
              "841             1.0             0             0             0              1   \n",
              "842             0.0             0             0             1              0   \n",
              "843             1.0             0             1             0              0   \n",
              "\n",
              "     Gender_Female  Gender_Male  Married_No  Married_Yes  Education_Graduate  \\\n",
              "0                0            1           1            0                   1   \n",
              "1                0            1           0            1                   1   \n",
              "2                0            1           0            1                   1   \n",
              "3                0            1           0            1                   0   \n",
              "4                0            1           1            0                   1   \n",
              "..             ...          ...         ...          ...                 ...   \n",
              "839              0            1           0            1                   1   \n",
              "840              0            1           0            1                   1   \n",
              "841              0            1           0            1                   0   \n",
              "842              0            1           0            1                   1   \n",
              "843              0            1           0            1                   1   \n",
              "\n",
              "     Education_Not Graduate  Self_Employed_No  Self_Employed_Yes  \\\n",
              "0                         0                 1                  0   \n",
              "1                         0                 1                  0   \n",
              "2                         0                 0                  1   \n",
              "3                         1                 1                  0   \n",
              "4                         0                 1                  0   \n",
              "..                      ...               ...                ...   \n",
              "839                       0                 1                  0   \n",
              "840                       0                 1                  0   \n",
              "841                       1                 1                  0   \n",
              "842                       0                 1                  0   \n",
              "843                       0                 1                  0   \n",
              "\n",
              "     Property_Area_Rural  Property_Area_Semiurban  Property_Area_Urban  \n",
              "0                      0                        0                    1  \n",
              "1                      1                        0                    0  \n",
              "2                      0                        0                    1  \n",
              "3                      0                        0                    1  \n",
              "4                      0                        0                    1  \n",
              "..                   ...                      ...                  ...  \n",
              "839                    0                        1                    0  \n",
              "840                    0                        0                    1  \n",
              "841                    1                        0                    0  \n",
              "842                    1                        0                    0  \n",
              "843                    1                        0                    0  \n",
              "\n",
              "[844 rows x 16 columns]"
            ],
            "text/html": [
              "\n",
              "  <div id=\"df-1fad9983-aa97-41f2-9b9c-ec557dc658ac\">\n",
              "    <div class=\"colab-df-container\">\n",
              "      <div>\n",
              "<style scoped>\n",
              "    .dataframe tbody tr th:only-of-type {\n",
              "        vertical-align: middle;\n",
              "    }\n",
              "\n",
              "    .dataframe tbody tr th {\n",
              "        vertical-align: top;\n",
              "    }\n",
              "\n",
              "    .dataframe thead th {\n",
              "        text-align: right;\n",
              "    }\n",
              "</style>\n",
              "<table border=\"1\" class=\"dataframe\">\n",
              "  <thead>\n",
              "    <tr style=\"text-align: right;\">\n",
              "      <th></th>\n",
              "      <th>Credit_History</th>\n",
              "      <th>Dependents_0</th>\n",
              "      <th>Dependents_1</th>\n",
              "      <th>Dependents_2</th>\n",
              "      <th>Dependents_3+</th>\n",
              "      <th>Gender_Female</th>\n",
              "      <th>Gender_Male</th>\n",
              "      <th>Married_No</th>\n",
              "      <th>Married_Yes</th>\n",
              "      <th>Education_Graduate</th>\n",
              "      <th>Education_Not Graduate</th>\n",
              "      <th>Self_Employed_No</th>\n",
              "      <th>Self_Employed_Yes</th>\n",
              "      <th>Property_Area_Rural</th>\n",
              "      <th>Property_Area_Semiurban</th>\n",
              "      <th>Property_Area_Urban</th>\n",
              "    </tr>\n",
              "  </thead>\n",
              "  <tbody>\n",
              "    <tr>\n",
              "      <th>0</th>\n",
              "      <td>1.0</td>\n",
              "      <td>1</td>\n",
              "      <td>0</td>\n",
              "      <td>0</td>\n",
              "      <td>0</td>\n",
              "      <td>0</td>\n",
              "      <td>1</td>\n",
              "      <td>1</td>\n",
              "      <td>0</td>\n",
              "      <td>1</td>\n",
              "      <td>0</td>\n",
              "      <td>1</td>\n",
              "      <td>0</td>\n",
              "      <td>0</td>\n",
              "      <td>0</td>\n",
              "      <td>1</td>\n",
              "    </tr>\n",
              "    <tr>\n",
              "      <th>1</th>\n",
              "      <td>1.0</td>\n",
              "      <td>0</td>\n",
              "      <td>1</td>\n",
              "      <td>0</td>\n",
              "      <td>0</td>\n",
              "      <td>0</td>\n",
              "      <td>1</td>\n",
              "      <td>0</td>\n",
              "      <td>1</td>\n",
              "      <td>1</td>\n",
              "      <td>0</td>\n",
              "      <td>1</td>\n",
              "      <td>0</td>\n",
              "      <td>1</td>\n",
              "      <td>0</td>\n",
              "      <td>0</td>\n",
              "    </tr>\n",
              "    <tr>\n",
              "      <th>2</th>\n",
              "      <td>1.0</td>\n",
              "      <td>1</td>\n",
              "      <td>0</td>\n",
              "      <td>0</td>\n",
              "      <td>0</td>\n",
              "      <td>0</td>\n",
              "      <td>1</td>\n",
              "      <td>0</td>\n",
              "      <td>1</td>\n",
              "      <td>1</td>\n",
              "      <td>0</td>\n",
              "      <td>0</td>\n",
              "      <td>1</td>\n",
              "      <td>0</td>\n",
              "      <td>0</td>\n",
              "      <td>1</td>\n",
              "    </tr>\n",
              "    <tr>\n",
              "      <th>3</th>\n",
              "      <td>1.0</td>\n",
              "      <td>1</td>\n",
              "      <td>0</td>\n",
              "      <td>0</td>\n",
              "      <td>0</td>\n",
              "      <td>0</td>\n",
              "      <td>1</td>\n",
              "      <td>0</td>\n",
              "      <td>1</td>\n",
              "      <td>0</td>\n",
              "      <td>1</td>\n",
              "      <td>1</td>\n",
              "      <td>0</td>\n",
              "      <td>0</td>\n",
              "      <td>0</td>\n",
              "      <td>1</td>\n",
              "    </tr>\n",
              "    <tr>\n",
              "      <th>4</th>\n",
              "      <td>1.0</td>\n",
              "      <td>1</td>\n",
              "      <td>0</td>\n",
              "      <td>0</td>\n",
              "      <td>0</td>\n",
              "      <td>0</td>\n",
              "      <td>1</td>\n",
              "      <td>1</td>\n",
              "      <td>0</td>\n",
              "      <td>1</td>\n",
              "      <td>0</td>\n",
              "      <td>1</td>\n",
              "      <td>0</td>\n",
              "      <td>0</td>\n",
              "      <td>0</td>\n",
              "      <td>1</td>\n",
              "    </tr>\n",
              "    <tr>\n",
              "      <th>...</th>\n",
              "      <td>...</td>\n",
              "      <td>...</td>\n",
              "      <td>...</td>\n",
              "      <td>...</td>\n",
              "      <td>...</td>\n",
              "      <td>...</td>\n",
              "      <td>...</td>\n",
              "      <td>...</td>\n",
              "      <td>...</td>\n",
              "      <td>...</td>\n",
              "      <td>...</td>\n",
              "      <td>...</td>\n",
              "      <td>...</td>\n",
              "      <td>...</td>\n",
              "      <td>...</td>\n",
              "      <td>...</td>\n",
              "    </tr>\n",
              "    <tr>\n",
              "      <th>839</th>\n",
              "      <td>0.0</td>\n",
              "      <td>0</td>\n",
              "      <td>0</td>\n",
              "      <td>0</td>\n",
              "      <td>1</td>\n",
              "      <td>0</td>\n",
              "      <td>1</td>\n",
              "      <td>0</td>\n",
              "      <td>1</td>\n",
              "      <td>1</td>\n",
              "      <td>0</td>\n",
              "      <td>1</td>\n",
              "      <td>0</td>\n",
              "      <td>0</td>\n",
              "      <td>1</td>\n",
              "      <td>0</td>\n",
              "    </tr>\n",
              "    <tr>\n",
              "      <th>840</th>\n",
              "      <td>1.0</td>\n",
              "      <td>0</td>\n",
              "      <td>1</td>\n",
              "      <td>0</td>\n",
              "      <td>0</td>\n",
              "      <td>0</td>\n",
              "      <td>1</td>\n",
              "      <td>0</td>\n",
              "      <td>1</td>\n",
              "      <td>1</td>\n",
              "      <td>0</td>\n",
              "      <td>1</td>\n",
              "      <td>0</td>\n",
              "      <td>0</td>\n",
              "      <td>0</td>\n",
              "      <td>1</td>\n",
              "    </tr>\n",
              "    <tr>\n",
              "      <th>841</th>\n",
              "      <td>1.0</td>\n",
              "      <td>0</td>\n",
              "      <td>0</td>\n",
              "      <td>0</td>\n",
              "      <td>1</td>\n",
              "      <td>0</td>\n",
              "      <td>1</td>\n",
              "      <td>0</td>\n",
              "      <td>1</td>\n",
              "      <td>0</td>\n",
              "      <td>1</td>\n",
              "      <td>1</td>\n",
              "      <td>0</td>\n",
              "      <td>1</td>\n",
              "      <td>0</td>\n",
              "      <td>0</td>\n",
              "    </tr>\n",
              "    <tr>\n",
              "      <th>842</th>\n",
              "      <td>0.0</td>\n",
              "      <td>0</td>\n",
              "      <td>0</td>\n",
              "      <td>1</td>\n",
              "      <td>0</td>\n",
              "      <td>0</td>\n",
              "      <td>1</td>\n",
              "      <td>0</td>\n",
              "      <td>1</td>\n",
              "      <td>1</td>\n",
              "      <td>0</td>\n",
              "      <td>1</td>\n",
              "      <td>0</td>\n",
              "      <td>1</td>\n",
              "      <td>0</td>\n",
              "      <td>0</td>\n",
              "    </tr>\n",
              "    <tr>\n",
              "      <th>843</th>\n",
              "      <td>1.0</td>\n",
              "      <td>0</td>\n",
              "      <td>1</td>\n",
              "      <td>0</td>\n",
              "      <td>0</td>\n",
              "      <td>0</td>\n",
              "      <td>1</td>\n",
              "      <td>0</td>\n",
              "      <td>1</td>\n",
              "      <td>1</td>\n",
              "      <td>0</td>\n",
              "      <td>1</td>\n",
              "      <td>0</td>\n",
              "      <td>1</td>\n",
              "      <td>0</td>\n",
              "      <td>0</td>\n",
              "    </tr>\n",
              "  </tbody>\n",
              "</table>\n",
              "<p>844 rows × 16 columns</p>\n",
              "</div>\n",
              "      <button class=\"colab-df-convert\" onclick=\"convertToInteractive('df-1fad9983-aa97-41f2-9b9c-ec557dc658ac')\"\n",
              "              title=\"Convert this dataframe to an interactive table.\"\n",
              "              style=\"display:none;\">\n",
              "        \n",
              "  <svg xmlns=\"http://www.w3.org/2000/svg\" height=\"24px\"viewBox=\"0 0 24 24\"\n",
              "       width=\"24px\">\n",
              "    <path d=\"M0 0h24v24H0V0z\" fill=\"none\"/>\n",
              "    <path d=\"M18.56 5.44l.94 2.06.94-2.06 2.06-.94-2.06-.94-.94-2.06-.94 2.06-2.06.94zm-11 1L8.5 8.5l.94-2.06 2.06-.94-2.06-.94L8.5 2.5l-.94 2.06-2.06.94zm10 10l.94 2.06.94-2.06 2.06-.94-2.06-.94-.94-2.06-.94 2.06-2.06.94z\"/><path d=\"M17.41 7.96l-1.37-1.37c-.4-.4-.92-.59-1.43-.59-.52 0-1.04.2-1.43.59L10.3 9.45l-7.72 7.72c-.78.78-.78 2.05 0 2.83L4 21.41c.39.39.9.59 1.41.59.51 0 1.02-.2 1.41-.59l7.78-7.78 2.81-2.81c.8-.78.8-2.07 0-2.86zM5.41 20L4 18.59l7.72-7.72 1.47 1.35L5.41 20z\"/>\n",
              "  </svg>\n",
              "      </button>\n",
              "      \n",
              "  <style>\n",
              "    .colab-df-container {\n",
              "      display:flex;\n",
              "      flex-wrap:wrap;\n",
              "      gap: 12px;\n",
              "    }\n",
              "\n",
              "    .colab-df-convert {\n",
              "      background-color: #E8F0FE;\n",
              "      border: none;\n",
              "      border-radius: 50%;\n",
              "      cursor: pointer;\n",
              "      display: none;\n",
              "      fill: #1967D2;\n",
              "      height: 32px;\n",
              "      padding: 0 0 0 0;\n",
              "      width: 32px;\n",
              "    }\n",
              "\n",
              "    .colab-df-convert:hover {\n",
              "      background-color: #E2EBFA;\n",
              "      box-shadow: 0px 1px 2px rgba(60, 64, 67, 0.3), 0px 1px 3px 1px rgba(60, 64, 67, 0.15);\n",
              "      fill: #174EA6;\n",
              "    }\n",
              "\n",
              "    [theme=dark] .colab-df-convert {\n",
              "      background-color: #3B4455;\n",
              "      fill: #D2E3FC;\n",
              "    }\n",
              "\n",
              "    [theme=dark] .colab-df-convert:hover {\n",
              "      background-color: #434B5C;\n",
              "      box-shadow: 0px 1px 3px 1px rgba(0, 0, 0, 0.15);\n",
              "      filter: drop-shadow(0px 1px 2px rgba(0, 0, 0, 0.3));\n",
              "      fill: #FFFFFF;\n",
              "    }\n",
              "  </style>\n",
              "\n",
              "      <script>\n",
              "        const buttonEl =\n",
              "          document.querySelector('#df-1fad9983-aa97-41f2-9b9c-ec557dc658ac button.colab-df-convert');\n",
              "        buttonEl.style.display =\n",
              "          google.colab.kernel.accessAllowed ? 'block' : 'none';\n",
              "\n",
              "        async function convertToInteractive(key) {\n",
              "          const element = document.querySelector('#df-1fad9983-aa97-41f2-9b9c-ec557dc658ac');\n",
              "          const dataTable =\n",
              "            await google.colab.kernel.invokeFunction('convertToInteractive',\n",
              "                                                     [key], {});\n",
              "          if (!dataTable) return;\n",
              "\n",
              "          const docLinkHtml = 'Like what you see? Visit the ' +\n",
              "            '<a target=\"_blank\" href=https://colab.research.google.com/notebooks/data_table.ipynb>data table notebook</a>'\n",
              "            + ' to learn more about interactive tables.';\n",
              "          element.innerHTML = '';\n",
              "          dataTable['output_type'] = 'display_data';\n",
              "          await google.colab.output.renderOutput(dataTable, element);\n",
              "          const docLink = document.createElement('div');\n",
              "          docLink.innerHTML = docLinkHtml;\n",
              "          element.appendChild(docLink);\n",
              "        }\n",
              "      </script>\n",
              "    </div>\n",
              "  </div>\n",
              "  "
            ]
          },
          "metadata": {},
          "execution_count": 87
        }
      ],
      "source": [
        "# OneHotEncoding of object dtype columns\n",
        "cat_cols = ['Dependents','Gender','Married','Education','Self_Employed','Credit_History','Property_Area']\n",
        "dummies = pd.get_dummies(df1[cat_cols])\n",
        "dummies"
      ]
    },
    {
      "cell_type": "code",
      "execution_count": 88,
      "id": "82f8b4b5",
      "metadata": {
        "execution": {
          "iopub.execute_input": "2022-12-28T02:43:29.965549Z",
          "iopub.status.busy": "2022-12-28T02:43:29.965125Z",
          "iopub.status.idle": "2022-12-28T02:43:29.971029Z",
          "shell.execute_reply": "2022-12-28T02:43:29.970200Z"
        },
        "papermill": {
          "duration": 0.051536,
          "end_time": "2022-12-28T02:43:29.973189",
          "exception": false,
          "start_time": "2022-12-28T02:43:29.921653",
          "status": "completed"
        },
        "tags": [],
        "id": "82f8b4b5"
      },
      "outputs": [],
      "source": [
        "#Concat dummmies into data frame\n",
        "df1 = pd.concat([df1, dummies], axis = 1)"
      ]
    },
    {
      "cell_type": "code",
      "execution_count": 89,
      "id": "64189f01",
      "metadata": {
        "execution": {
          "iopub.execute_input": "2022-12-28T02:43:30.058541Z",
          "iopub.status.busy": "2022-12-28T02:43:30.058161Z",
          "iopub.status.idle": "2022-12-28T02:43:30.064950Z",
          "shell.execute_reply": "2022-12-28T02:43:30.063756Z"
        },
        "papermill": {
          "duration": 0.052424,
          "end_time": "2022-12-28T02:43:30.067348",
          "exception": false,
          "start_time": "2022-12-28T02:43:30.014924",
          "status": "completed"
        },
        "tags": [],
        "colab": {
          "base_uri": "https://localhost:8080/"
        },
        "id": "64189f01",
        "outputId": "8ab26daa-5b17-47cd-a71f-298313aaf4a4"
      },
      "outputs": [
        {
          "output_type": "execute_result",
          "data": {
            "text/plain": [
              "(844, 27)"
            ]
          },
          "metadata": {},
          "execution_count": 89
        }
      ],
      "source": [
        "df1.shape"
      ]
    },
    {
      "cell_type": "code",
      "execution_count": 90,
      "id": "e91dd93d",
      "metadata": {
        "execution": {
          "iopub.execute_input": "2022-12-28T02:43:30.152595Z",
          "iopub.status.busy": "2022-12-28T02:43:30.152193Z",
          "iopub.status.idle": "2022-12-28T02:43:30.160712Z",
          "shell.execute_reply": "2022-12-28T02:43:30.159754Z"
        },
        "papermill": {
          "duration": 0.054311,
          "end_time": "2022-12-28T02:43:30.163131",
          "exception": false,
          "start_time": "2022-12-28T02:43:30.108820",
          "status": "completed"
        },
        "tags": [],
        "id": "e91dd93d"
      },
      "outputs": [],
      "source": [
        "# Drop original categorical columns from data frame\n",
        "df1 = df1.drop(cat_cols, axis = 1)"
      ]
    },
    {
      "cell_type": "code",
      "execution_count": 91,
      "id": "bc50d61b",
      "metadata": {
        "execution": {
          "iopub.execute_input": "2022-12-28T02:43:30.248466Z",
          "iopub.status.busy": "2022-12-28T02:43:30.247601Z",
          "iopub.status.idle": "2022-12-28T02:43:30.254981Z",
          "shell.execute_reply": "2022-12-28T02:43:30.253776Z"
        },
        "papermill": {
          "duration": 0.052595,
          "end_time": "2022-12-28T02:43:30.257381",
          "exception": false,
          "start_time": "2022-12-28T02:43:30.204786",
          "status": "completed"
        },
        "tags": [],
        "colab": {
          "base_uri": "https://localhost:8080/"
        },
        "id": "bc50d61b",
        "outputId": "a56fdfbb-c140-47ce-e1d2-6ff67a068413"
      },
      "outputs": [
        {
          "output_type": "execute_result",
          "data": {
            "text/plain": [
              "(844, 19)"
            ]
          },
          "metadata": {},
          "execution_count": 91
        }
      ],
      "source": [
        "df1.shape"
      ]
    },
    {
      "cell_type": "code",
      "execution_count": 92,
      "id": "c728617c",
      "metadata": {
        "execution": {
          "iopub.execute_input": "2022-12-28T02:43:30.343361Z",
          "iopub.status.busy": "2022-12-28T02:43:30.342881Z",
          "iopub.status.idle": "2022-12-28T02:43:30.352153Z",
          "shell.execute_reply": "2022-12-28T02:43:30.350899Z"
        },
        "papermill": {
          "duration": 0.05517,
          "end_time": "2022-12-28T02:43:30.354318",
          "exception": false,
          "start_time": "2022-12-28T02:43:30.299148",
          "status": "completed"
        },
        "tags": [],
        "colab": {
          "base_uri": "https://localhost:8080/"
        },
        "id": "c728617c",
        "outputId": "f6220677-dc52-4a88-ebe5-68fa6ba260a5"
      },
      "outputs": [
        {
          "output_type": "execute_result",
          "data": {
            "text/plain": [
              "Y    422\n",
              "N    422\n",
              "Name: Loan_Status, dtype: int64"
            ]
          },
          "metadata": {},
          "execution_count": 92
        }
      ],
      "source": [
        "# determine whether tha target column is balanced or not\n",
        "y.value_counts()"
      ]
    },
    {
      "cell_type": "code",
      "execution_count": 93,
      "id": "68c2b551",
      "metadata": {
        "execution": {
          "iopub.execute_input": "2022-12-28T02:43:30.440232Z",
          "iopub.status.busy": "2022-12-28T02:43:30.439091Z",
          "iopub.status.idle": "2022-12-28T02:43:30.443724Z",
          "shell.execute_reply": "2022-12-28T02:43:30.442928Z"
        },
        "papermill": {
          "duration": 0.049922,
          "end_time": "2022-12-28T02:43:30.445901",
          "exception": false,
          "start_time": "2022-12-28T02:43:30.395979",
          "status": "completed"
        },
        "tags": [],
        "id": "68c2b551"
      },
      "outputs": [],
      "source": [
        "from sklearn.preprocessing import LabelEncoder"
      ]
    },
    {
      "cell_type": "code",
      "execution_count": 94,
      "id": "f5d764ac",
      "metadata": {
        "execution": {
          "iopub.execute_input": "2022-12-28T02:43:30.533785Z",
          "iopub.status.busy": "2022-12-28T02:43:30.532918Z",
          "iopub.status.idle": "2022-12-28T02:43:30.542140Z",
          "shell.execute_reply": "2022-12-28T02:43:30.541270Z"
        },
        "papermill": {
          "duration": 0.056198,
          "end_time": "2022-12-28T02:43:30.544351",
          "exception": false,
          "start_time": "2022-12-28T02:43:30.488153",
          "status": "completed"
        },
        "tags": [],
        "colab": {
          "base_uri": "https://localhost:8080/"
        },
        "id": "f5d764ac",
        "outputId": "542e4e35-2554-4588-b624-a40766ab2445"
      },
      "outputs": [
        {
          "output_type": "execute_result",
          "data": {
            "text/plain": [
              "0      Y\n",
              "1      N\n",
              "2      Y\n",
              "3      Y\n",
              "4      Y\n",
              "      ..\n",
              "839    N\n",
              "840    N\n",
              "841    N\n",
              "842    N\n",
              "843    N\n",
              "Name: Loan_Status, Length: 844, dtype: object"
            ]
          },
          "metadata": {},
          "execution_count": 94
        }
      ],
      "source": [
        "df1['Loan_Status']"
      ]
    },
    {
      "cell_type": "code",
      "execution_count": 95,
      "id": "ee93da3d",
      "metadata": {
        "execution": {
          "iopub.execute_input": "2022-12-28T02:43:30.630263Z",
          "iopub.status.busy": "2022-12-28T02:43:30.629570Z",
          "iopub.status.idle": "2022-12-28T02:43:30.633974Z",
          "shell.execute_reply": "2022-12-28T02:43:30.632983Z"
        },
        "papermill": {
          "duration": 0.049976,
          "end_time": "2022-12-28T02:43:30.636294",
          "exception": false,
          "start_time": "2022-12-28T02:43:30.586318",
          "status": "completed"
        },
        "tags": [],
        "id": "ee93da3d"
      },
      "outputs": [],
      "source": [
        "labelencoder = LabelEncoder()"
      ]
    },
    {
      "cell_type": "code",
      "execution_count": 96,
      "id": "c53ed1b4",
      "metadata": {
        "execution": {
          "iopub.execute_input": "2022-12-28T02:43:30.722261Z",
          "iopub.status.busy": "2022-12-28T02:43:30.721547Z",
          "iopub.status.idle": "2022-12-28T02:43:30.727502Z",
          "shell.execute_reply": "2022-12-28T02:43:30.726134Z"
        },
        "papermill": {
          "duration": 0.051846,
          "end_time": "2022-12-28T02:43:30.729980",
          "exception": false,
          "start_time": "2022-12-28T02:43:30.678134",
          "status": "completed"
        },
        "tags": [],
        "id": "c53ed1b4"
      },
      "outputs": [],
      "source": [
        "# Convert the target variable into binary format\n",
        "y = labelencoder.fit_transform(df1['Loan_Status'])"
      ]
    },
    {
      "cell_type": "code",
      "execution_count": 97,
      "id": "4b3e53a1",
      "metadata": {
        "execution": {
          "iopub.execute_input": "2022-12-28T02:43:30.821838Z",
          "iopub.status.busy": "2022-12-28T02:43:30.820894Z",
          "iopub.status.idle": "2022-12-28T02:43:30.831798Z",
          "shell.execute_reply": "2022-12-28T02:43:30.830459Z"
        },
        "papermill": {
          "duration": 0.060227,
          "end_time": "2022-12-28T02:43:30.834260",
          "exception": false,
          "start_time": "2022-12-28T02:43:30.774033",
          "status": "completed"
        },
        "tags": [],
        "colab": {
          "base_uri": "https://localhost:8080/"
        },
        "id": "4b3e53a1",
        "outputId": "63eee9c8-41ae-4bde-e301-9a6780d463df"
      },
      "outputs": [
        {
          "output_type": "execute_result",
          "data": {
            "text/plain": [
              "array([1, 0, 1, 1, 1, 1, 1, 0, 1, 0, 1, 1, 1, 0, 1, 1, 1, 0, 0, 1, 0, 1,\n",
              "       0, 0, 0, 1, 1, 1, 0, 1, 0, 0, 0, 1, 0, 1, 0, 1, 1, 1, 0, 1, 1, 1,\n",
              "       1, 1, 1, 1, 0, 1, 1, 1, 0, 0, 0, 1, 1, 0, 1, 1, 1, 1, 0, 0, 0, 0,\n",
              "       0, 1, 1, 0, 1, 1, 1, 0, 1, 0, 0, 0, 0, 1, 1, 1, 0, 0, 1, 1, 1, 1,\n",
              "       1, 1, 1, 1, 1, 1, 1, 0, 1, 1, 1, 1, 1, 1, 1, 1, 1, 1, 1, 0, 0, 1,\n",
              "       1, 1, 0, 1, 1, 1, 1, 1, 0, 1, 1, 1, 1, 1, 1, 1, 1, 1, 0, 0, 1, 1,\n",
              "       1, 1, 1, 0, 0, 1, 0, 0, 0, 1, 1, 1, 1, 1, 1, 1, 0, 1, 0, 1, 0, 0,\n",
              "       1, 1, 1, 1, 1, 1, 1, 0, 0, 1, 1, 1, 0, 1, 0, 1, 1, 1, 0, 1, 0, 1,\n",
              "       1, 0, 1, 0, 0, 0, 1, 0, 1, 1, 0, 1, 1, 1, 1, 0, 0, 1, 1, 0, 1, 1,\n",
              "       1, 0, 1, 1, 0, 1, 1, 1, 1, 1, 1, 0, 0, 0, 1, 1, 1, 1, 0, 1, 0, 1,\n",
              "       0, 1, 1, 1, 1, 0, 0, 1, 1, 1, 1, 1, 1, 1, 1, 1, 0, 1, 1, 1, 1, 0,\n",
              "       1, 1, 1, 0, 1, 1, 1, 1, 0, 0, 1, 1, 0, 1, 0, 0, 0, 0, 1, 1, 0, 1,\n",
              "       1, 1, 1, 1, 0, 1, 1, 1, 1, 1, 1, 1, 1, 1, 1, 1, 0, 1, 1, 1, 0, 1,\n",
              "       0, 1, 1, 1, 1, 0, 1, 0, 1, 1, 1, 1, 0, 0, 0, 1, 1, 1, 1, 0, 1, 0,\n",
              "       0, 1, 1, 1, 1, 1, 0, 1, 1, 1, 1, 0, 1, 1, 1, 1, 1, 0, 1, 1, 0, 1,\n",
              "       1, 1, 1, 1, 1, 1, 1, 1, 0, 1, 0, 0, 1, 1, 1, 1, 0, 1, 1, 1, 1, 0,\n",
              "       1, 0, 1, 1, 1, 0, 0, 1, 0, 1, 1, 1, 1, 0, 0, 0, 1, 0, 1, 1, 1, 0,\n",
              "       1, 1, 1, 1, 0, 1, 1, 1, 1, 1, 0, 1, 1, 0, 1, 1, 1, 1, 1, 1, 1, 1,\n",
              "       0, 1, 1, 0, 0, 0, 1, 1, 0, 1, 1, 1, 0, 0, 0, 1, 0, 1, 0, 1, 0, 0,\n",
              "       1, 1, 1, 0, 1, 0, 1, 1, 0, 1, 1, 1, 1, 0, 1, 1, 1, 1, 1, 1, 0, 1,\n",
              "       1, 1, 1, 1, 1, 1, 1, 0, 0, 0, 0, 1, 0, 1, 1, 1, 1, 0, 1, 0, 1, 1,\n",
              "       1, 1, 0, 1, 0, 1, 1, 0, 1, 0, 1, 1, 1, 1, 1, 0, 1, 0, 1, 1, 1, 1,\n",
              "       1, 1, 0, 0, 1, 0, 1, 1, 1, 1, 0, 1, 1, 1, 1, 0, 1, 1, 1, 0, 1, 1,\n",
              "       1, 0, 1, 1, 0, 1, 1, 0, 0, 1, 1, 0, 0, 0, 1, 1, 1, 1, 0, 1, 1, 1,\n",
              "       1, 1, 1, 1, 0, 0, 1, 1, 1, 1, 0, 1, 1, 0, 1, 1, 1, 1, 0, 1, 0, 1,\n",
              "       0, 1, 1, 0, 0, 1, 1, 1, 1, 1, 1, 1, 1, 1, 0, 1, 1, 0, 0, 0, 1, 0,\n",
              "       1, 0, 0, 1, 0, 1, 1, 1, 1, 0, 1, 0, 0, 0, 1, 1, 1, 0, 1, 0, 1, 1,\n",
              "       1, 1, 0, 0, 1, 1, 0, 1, 1, 1, 1, 0, 1, 1, 1, 1, 1, 1, 1, 0, 0, 0,\n",
              "       0, 0, 0, 0, 0, 0, 0, 0, 0, 0, 0, 0, 0, 0, 0, 0, 0, 0, 0, 0, 0, 0,\n",
              "       0, 0, 0, 0, 0, 0, 0, 0, 0, 0, 0, 0, 0, 0, 0, 0, 0, 0, 0, 0, 0, 0,\n",
              "       0, 0, 0, 0, 0, 0, 0, 0, 0, 0, 0, 0, 0, 0, 0, 0, 0, 0, 0, 0, 0, 0,\n",
              "       0, 0, 0, 0, 0, 0, 0, 0, 0, 0, 0, 0, 0, 0, 0, 0, 0, 0, 0, 0, 0, 0,\n",
              "       0, 0, 0, 0, 0, 0, 0, 0, 0, 0, 0, 0, 0, 0, 0, 0, 0, 0, 0, 0, 0, 0,\n",
              "       0, 0, 0, 0, 0, 0, 0, 0, 0, 0, 0, 0, 0, 0, 0, 0, 0, 0, 0, 0, 0, 0,\n",
              "       0, 0, 0, 0, 0, 0, 0, 0, 0, 0, 0, 0, 0, 0, 0, 0, 0, 0, 0, 0, 0, 0,\n",
              "       0, 0, 0, 0, 0, 0, 0, 0, 0, 0, 0, 0, 0, 0, 0, 0, 0, 0, 0, 0, 0, 0,\n",
              "       0, 0, 0, 0, 0, 0, 0, 0, 0, 0, 0, 0, 0, 0, 0, 0, 0, 0, 0, 0, 0, 0,\n",
              "       0, 0, 0, 0, 0, 0, 0, 0, 0, 0, 0, 0, 0, 0, 0, 0, 0, 0, 0, 0, 0, 0,\n",
              "       0, 0, 0, 0, 0, 0, 0, 0])"
            ]
          },
          "metadata": {},
          "execution_count": 97
        }
      ],
      "source": [
        "y"
      ]
    },
    {
      "cell_type": "code",
      "execution_count": 98,
      "id": "7a409dc3",
      "metadata": {
        "execution": {
          "iopub.execute_input": "2022-12-28T02:43:30.923119Z",
          "iopub.status.busy": "2022-12-28T02:43:30.922398Z",
          "iopub.status.idle": "2022-12-28T02:43:30.931901Z",
          "shell.execute_reply": "2022-12-28T02:43:30.930892Z"
        },
        "papermill": {
          "duration": 0.056793,
          "end_time": "2022-12-28T02:43:30.934492",
          "exception": false,
          "start_time": "2022-12-28T02:43:30.877699",
          "status": "completed"
        },
        "tags": [],
        "id": "7a409dc3"
      },
      "outputs": [],
      "source": [
        "# segregate the target variable\n",
        "x = df1.drop(columns = ['Loan_Status'])\n",
        "\n",
        "# splitting data into training and test set\n",
        "x_train, x_test, y_train, y_test = train_test_split(x, y, test_size = 0.25, random_state = 42, stratify = y)"
      ]
    },
    {
      "cell_type": "code",
      "execution_count": 99,
      "id": "25291597",
      "metadata": {
        "execution": {
          "iopub.execute_input": "2022-12-28T02:43:31.022495Z",
          "iopub.status.busy": "2022-12-28T02:43:31.022069Z",
          "iopub.status.idle": "2022-12-28T02:43:31.030287Z",
          "shell.execute_reply": "2022-12-28T02:43:31.029199Z"
        },
        "papermill": {
          "duration": 0.055856,
          "end_time": "2022-12-28T02:43:31.032685",
          "exception": false,
          "start_time": "2022-12-28T02:43:30.976829",
          "status": "completed"
        },
        "tags": [],
        "colab": {
          "base_uri": "https://localhost:8080/"
        },
        "id": "25291597",
        "outputId": "0951bb93-fbee-44a9-f64b-7a1976eafea4"
      },
      "outputs": [
        {
          "output_type": "execute_result",
          "data": {
            "text/plain": [
              "(633, 18)"
            ]
          },
          "metadata": {},
          "execution_count": 99
        }
      ],
      "source": [
        "x_train.shape"
      ]
    },
    {
      "cell_type": "code",
      "execution_count": 100,
      "id": "f92e408b",
      "metadata": {
        "execution": {
          "iopub.execute_input": "2022-12-28T02:43:31.121885Z",
          "iopub.status.busy": "2022-12-28T02:43:31.121111Z",
          "iopub.status.idle": "2022-12-28T02:43:31.127617Z",
          "shell.execute_reply": "2022-12-28T02:43:31.126726Z"
        },
        "papermill": {
          "duration": 0.054508,
          "end_time": "2022-12-28T02:43:31.129885",
          "exception": false,
          "start_time": "2022-12-28T02:43:31.075377",
          "status": "completed"
        },
        "tags": [],
        "colab": {
          "base_uri": "https://localhost:8080/"
        },
        "id": "f92e408b",
        "outputId": "e2b96342-65a9-4620-aebf-6dd811463fb6"
      },
      "outputs": [
        {
          "output_type": "execute_result",
          "data": {
            "text/plain": [
              "(211, 18)"
            ]
          },
          "metadata": {},
          "execution_count": 100
        }
      ],
      "source": [
        "x_test.shape"
      ]
    },
    {
      "cell_type": "code",
      "execution_count": 101,
      "id": "1833551a",
      "metadata": {
        "execution": {
          "iopub.execute_input": "2022-12-28T02:43:31.221397Z",
          "iopub.status.busy": "2022-12-28T02:43:31.220717Z",
          "iopub.status.idle": "2022-12-28T02:43:31.226727Z",
          "shell.execute_reply": "2022-12-28T02:43:31.225766Z"
        },
        "papermill": {
          "duration": 0.055054,
          "end_time": "2022-12-28T02:43:31.229049",
          "exception": false,
          "start_time": "2022-12-28T02:43:31.173995",
          "status": "completed"
        },
        "tags": [],
        "colab": {
          "base_uri": "https://localhost:8080/"
        },
        "id": "1833551a",
        "outputId": "607895af-e22c-4d56-9409-e5f49040a1bf"
      },
      "outputs": [
        {
          "output_type": "execute_result",
          "data": {
            "text/plain": [
              "(633,)"
            ]
          },
          "metadata": {},
          "execution_count": 101
        }
      ],
      "source": [
        "y_train.shape"
      ]
    },
    {
      "cell_type": "code",
      "execution_count": 102,
      "id": "585ba4d4",
      "metadata": {
        "execution": {
          "iopub.execute_input": "2022-12-28T02:43:31.319907Z",
          "iopub.status.busy": "2022-12-28T02:43:31.319425Z",
          "iopub.status.idle": "2022-12-28T02:43:31.326487Z",
          "shell.execute_reply": "2022-12-28T02:43:31.325320Z"
        },
        "papermill": {
          "duration": 0.054826,
          "end_time": "2022-12-28T02:43:31.329069",
          "exception": false,
          "start_time": "2022-12-28T02:43:31.274243",
          "status": "completed"
        },
        "tags": [],
        "colab": {
          "base_uri": "https://localhost:8080/"
        },
        "id": "585ba4d4",
        "outputId": "487e3da6-0fd8-4f96-e3c1-4fd694d0bf6c"
      },
      "outputs": [
        {
          "output_type": "execute_result",
          "data": {
            "text/plain": [
              "(211,)"
            ]
          },
          "metadata": {},
          "execution_count": 102
        }
      ],
      "source": [
        "y_test.shape"
      ]
    },
    {
      "cell_type": "markdown",
      "id": "e6513ccd",
      "metadata": {
        "papermill": {
          "duration": 0.0438,
          "end_time": "2022-12-28T02:43:31.419585",
          "exception": false,
          "start_time": "2022-12-28T02:43:31.375785",
          "status": "completed"
        },
        "tags": [],
        "id": "e6513ccd"
      },
      "source": [
        "### Building the classifiers"
      ]
    },
    {
      "cell_type": "code",
      "execution_count": 103,
      "id": "62783378",
      "metadata": {
        "execution": {
          "iopub.execute_input": "2022-12-28T02:43:32.121064Z",
          "iopub.status.busy": "2022-12-28T02:43:32.120593Z",
          "iopub.status.idle": "2022-12-28T02:43:32.127231Z",
          "shell.execute_reply": "2022-12-28T02:43:32.126097Z"
        },
        "papermill": {
          "duration": 0.054044,
          "end_time": "2022-12-28T02:43:32.129331",
          "exception": false,
          "start_time": "2022-12-28T02:43:32.075287",
          "status": "completed"
        },
        "tags": [],
        "id": "62783378"
      },
      "outputs": [],
      "source": [
        "def confusion_matrix_vizualiser(actual,predicted):\n",
        "    cm = confusion_matrix(actual,predicted)\n",
        "    sns.heatmap(cm,annot=True, fmt='.2f', xticklabels=[0,1], yticklabels=[0,1])\n",
        "    plt.ylabel('observed')\n",
        "    plt.xlabel('Predicted')\n",
        "    plt.show()"
      ]
    },
    {
      "cell_type": "markdown",
      "id": "23de9806",
      "metadata": {
        "papermill": {
          "duration": 0.043419,
          "end_time": "2022-12-28T02:43:35.987829",
          "exception": false,
          "start_time": "2022-12-28T02:43:35.944410",
          "status": "completed"
        },
        "tags": [],
        "id": "23de9806"
      },
      "source": [
        "# Logistic Regression Classifier"
      ]
    },
    {
      "cell_type": "code",
      "execution_count": 104,
      "id": "6fc5a70a",
      "metadata": {
        "execution": {
          "iopub.execute_input": "2022-12-28T02:43:36.078648Z",
          "iopub.status.busy": "2022-12-28T02:43:36.077878Z",
          "iopub.status.idle": "2022-12-28T02:43:36.126072Z",
          "shell.execute_reply": "2022-12-28T02:43:36.124218Z"
        },
        "papermill": {
          "duration": 0.098729,
          "end_time": "2022-12-28T02:43:36.130653",
          "exception": false,
          "start_time": "2022-12-28T02:43:36.031924",
          "status": "completed"
        },
        "tags": [],
        "id": "6fc5a70a"
      },
      "outputs": [],
      "source": [
        "lr = LogisticRegression(random_state = 42, class_weight = None)\n",
        "lr.fit(x_train, y_train)\n",
        "predictions_lr = lr.predict(x_test)"
      ]
    },
    {
      "cell_type": "code",
      "execution_count": 105,
      "id": "962aeec0",
      "metadata": {
        "execution": {
          "iopub.execute_input": "2022-12-28T02:43:36.290245Z",
          "iopub.status.busy": "2022-12-28T02:43:36.289855Z",
          "iopub.status.idle": "2022-12-28T02:43:36.296928Z",
          "shell.execute_reply": "2022-12-28T02:43:36.295748Z"
        },
        "papermill": {
          "duration": 0.055102,
          "end_time": "2022-12-28T02:43:36.299180",
          "exception": false,
          "start_time": "2022-12-28T02:43:36.244078",
          "status": "completed"
        },
        "tags": [],
        "colab": {
          "base_uri": "https://localhost:8080/"
        },
        "id": "962aeec0",
        "outputId": "743a4104-bf08-4e77-ada1-ef791dbd204d"
      },
      "outputs": [
        {
          "output_type": "execute_result",
          "data": {
            "text/plain": [
              "(211,)"
            ]
          },
          "metadata": {},
          "execution_count": 105
        }
      ],
      "source": [
        "predictions_lr.shape"
      ]
    },
    {
      "cell_type": "code",
      "execution_count": 106,
      "id": "eaacd4cb",
      "metadata": {
        "colab": {
          "base_uri": "https://localhost:8080/"
        },
        "id": "eaacd4cb",
        "outputId": "f2fa22d4-dc0e-4d4b-972a-89e9f3a09fe9"
      },
      "outputs": [
        {
          "output_type": "stream",
          "name": "stdout",
          "text": [
            "Model accuracy score with default hyperparameters: 0.5829\n"
          ]
        }
      ],
      "source": [
        "print('Model accuracy score with default hyperparameters: {0:0.4f}'. format(accuracy_score(y_test, predictions_lr)))"
      ]
    },
    {
      "cell_type": "code",
      "execution_count": 107,
      "id": "b1a27498",
      "metadata": {
        "execution": {
          "iopub.execute_input": "2022-12-28T02:43:36.389024Z",
          "iopub.status.busy": "2022-12-28T02:43:36.388580Z",
          "iopub.status.idle": "2022-12-28T02:43:36.647010Z",
          "shell.execute_reply": "2022-12-28T02:43:36.645728Z"
        },
        "papermill": {
          "duration": 0.30672,
          "end_time": "2022-12-28T02:43:36.649615",
          "exception": false,
          "start_time": "2022-12-28T02:43:36.342895",
          "status": "completed"
        },
        "tags": [],
        "colab": {
          "base_uri": "https://localhost:8080/",
          "height": 455
        },
        "id": "b1a27498",
        "outputId": "8a114c79-7f3e-4252-a2ea-3045f3884ddf"
      },
      "outputs": [
        {
          "output_type": "display_data",
          "data": {
            "text/plain": [
              "<Figure size 640x480 with 2 Axes>"
            ],
            "image/png": "[encoded data removed]"
          },
          "metadata": {}
        }
      ],
      "source": [
        "confusion_matrix_vizualiser(y_test, predictions_lr)"
      ]
    },
    {
      "cell_type": "code",
      "execution_count": 108,
      "id": "4d1e97e3",
      "metadata": {
        "execution": {
          "iopub.execute_input": "2022-12-28T02:43:36.743229Z",
          "iopub.status.busy": "2022-12-28T02:43:36.742820Z",
          "iopub.status.idle": "2022-12-28T02:43:36.753149Z",
          "shell.execute_reply": "2022-12-28T02:43:36.751669Z"
        },
        "papermill": {
          "duration": 0.061852,
          "end_time": "2022-12-28T02:43:36.755820",
          "exception": false,
          "start_time": "2022-12-28T02:43:36.693968",
          "status": "completed"
        },
        "tags": [],
        "colab": {
          "base_uri": "https://localhost:8080/"
        },
        "id": "4d1e97e3",
        "outputId": "61413098-3fcb-4c02-c67b-0e351ec5424e"
      },
      "outputs": [
        {
          "output_type": "stream",
          "name": "stdout",
          "text": [
            "              precision    recall  f1-score   support\n",
            "\n",
            "           0       0.58      0.58      0.58       106\n",
            "           1       0.58      0.58      0.58       105\n",
            "\n",
            "    accuracy                           0.58       211\n",
            "   macro avg       0.58      0.58      0.58       211\n",
            "weighted avg       0.58      0.58      0.58       211\n",
            "\n"
          ]
        }
      ],
      "source": [
        "print(classification_report(y_test, predictions_lr))"
      ]
    },
    {
      "cell_type": "markdown",
      "id": "b3250240",
      "metadata": {
        "papermill": {
          "duration": 0.049746,
          "end_time": "2022-12-28T02:43:37.054519",
          "exception": false,
          "start_time": "2022-12-28T02:43:37.004773",
          "status": "completed"
        },
        "tags": [],
        "id": "b3250240"
      },
      "source": [
        "# KNN Classifier"
      ]
    },
    {
      "cell_type": "code",
      "execution_count": 109,
      "id": "dc0bb9c6",
      "metadata": {
        "execution": {
          "iopub.execute_input": "2022-12-28T02:43:37.144568Z",
          "iopub.status.busy": "2022-12-28T02:43:37.144143Z",
          "iopub.status.idle": "2022-12-28T02:43:37.149625Z",
          "shell.execute_reply": "2022-12-28T02:43:37.148358Z"
        },
        "papermill": {
          "duration": 0.053562,
          "end_time": "2022-12-28T02:43:37.152312",
          "exception": false,
          "start_time": "2022-12-28T02:43:37.098750",
          "status": "completed"
        },
        "tags": [],
        "id": "dc0bb9c6"
      },
      "outputs": [],
      "source": [
        "from sklearn.neighbors import KNeighborsClassifier"
      ]
    },
    {
      "cell_type": "code",
      "execution_count": 110,
      "id": "5852f31b",
      "metadata": {
        "execution": {
          "iopub.execute_input": "2022-12-28T02:43:37.243248Z",
          "iopub.status.busy": "2022-12-28T02:43:37.242801Z",
          "iopub.status.idle": "2022-12-28T02:43:37.248071Z",
          "shell.execute_reply": "2022-12-28T02:43:37.246774Z"
        },
        "papermill": {
          "duration": 0.054599,
          "end_time": "2022-12-28T02:43:37.250889",
          "exception": false,
          "start_time": "2022-12-28T02:43:37.196290",
          "status": "completed"
        },
        "tags": [],
        "id": "5852f31b"
      },
      "outputs": [],
      "source": [
        "knn = KNeighborsClassifier(n_neighbors = 10, algorithm = 'kd_tree')"
      ]
    },
    {
      "cell_type": "code",
      "execution_count": 111,
      "id": "06c92ea2",
      "metadata": {
        "execution": {
          "iopub.execute_input": "2022-12-28T02:43:37.341185Z",
          "iopub.status.busy": "2022-12-28T02:43:37.340746Z",
          "iopub.status.idle": "2022-12-28T02:43:37.359149Z",
          "shell.execute_reply": "2022-12-28T02:43:37.357884Z"
        },
        "papermill": {
          "duration": 0.066522,
          "end_time": "2022-12-28T02:43:37.362087",
          "exception": false,
          "start_time": "2022-12-28T02:43:37.295565",
          "status": "completed"
        },
        "tags": [],
        "id": "06c92ea2"
      },
      "outputs": [],
      "source": [
        "knn.fit(x_train, y_train)\n",
        "predictions_knn = knn.predict(x_test)"
      ]
    },
    {
      "cell_type": "code",
      "execution_count": 112,
      "id": "6864a051",
      "metadata": {
        "execution": {
          "iopub.execute_input": "2022-12-28T02:43:37.455012Z",
          "iopub.status.busy": "2022-12-28T02:43:37.453853Z",
          "iopub.status.idle": "2022-12-28T02:43:37.461461Z",
          "shell.execute_reply": "2022-12-28T02:43:37.460438Z"
        },
        "papermill": {
          "duration": 0.05528,
          "end_time": "2022-12-28T02:43:37.463640",
          "exception": false,
          "start_time": "2022-12-28T02:43:37.408360",
          "status": "completed"
        },
        "tags": [],
        "colab": {
          "base_uri": "https://localhost:8080/"
        },
        "id": "6864a051",
        "outputId": "44de4d79-db5f-4859-b73d-c7de7b6be913"
      },
      "outputs": [
        {
          "output_type": "execute_result",
          "data": {
            "text/plain": [
              "(211,)"
            ]
          },
          "metadata": {},
          "execution_count": 112
        }
      ],
      "source": [
        "predictions_knn.shape"
      ]
    },
    {
      "cell_type": "code",
      "execution_count": 113,
      "id": "a2f26746",
      "metadata": {
        "colab": {
          "base_uri": "https://localhost:8080/"
        },
        "id": "a2f26746",
        "outputId": "ace0e3f3-5ca4-4afd-93f4-1136b360dc47"
      },
      "outputs": [
        {
          "output_type": "stream",
          "name": "stdout",
          "text": [
            "Model accuracy score with default hyperparameters: 0.6256\n"
          ]
        }
      ],
      "source": [
        "print('Model accuracy score with default hyperparameters: {0:0.4f}'. format(accuracy_score(y_test, predictions_knn)))"
      ]
    },
    {
      "cell_type": "code",
      "execution_count": 114,
      "id": "aa7788cb",
      "metadata": {
        "execution": {
          "iopub.execute_input": "2022-12-28T02:43:37.554820Z",
          "iopub.status.busy": "2022-12-28T02:43:37.554051Z",
          "iopub.status.idle": "2022-12-28T02:43:37.726217Z",
          "shell.execute_reply": "2022-12-28T02:43:37.725198Z"
        },
        "papermill": {
          "duration": 0.22344,
          "end_time": "2022-12-28T02:43:37.731954",
          "exception": false,
          "start_time": "2022-12-28T02:43:37.508514",
          "status": "completed"
        },
        "scrolled": true,
        "tags": [],
        "colab": {
          "base_uri": "https://localhost:8080/",
          "height": 449
        },
        "id": "aa7788cb",
        "outputId": "563e2a0b-a0a5-4222-e9c3-1aa5f6b55b25"
      },
      "outputs": [
        {
          "output_type": "display_data",
          "data": {
            "text/plain": [
              "<Figure size 640x480 with 2 Axes>"
            ],
            "image/png": "[encoded data removed]"
          },
          "metadata": {}
        }
      ],
      "source": [
        "confusion_matrix_vizualiser(y_test, predictions_knn)"
      ]
    },
    {
      "cell_type": "code",
      "execution_count": 115,
      "id": "c6054179",
      "metadata": {
        "execution": {
          "iopub.execute_input": "2022-12-28T02:43:37.828010Z",
          "iopub.status.busy": "2022-12-28T02:43:37.827287Z",
          "iopub.status.idle": "2022-12-28T02:43:37.838939Z",
          "shell.execute_reply": "2022-12-28T02:43:37.836452Z"
        },
        "papermill": {
          "duration": 0.06109,
          "end_time": "2022-12-28T02:43:37.841445",
          "exception": false,
          "start_time": "2022-12-28T02:43:37.780355",
          "status": "completed"
        },
        "tags": [],
        "colab": {
          "base_uri": "https://localhost:8080/"
        },
        "id": "c6054179",
        "outputId": "fb386fb0-1097-4b8f-b846-fe2c9c157bf8"
      },
      "outputs": [
        {
          "output_type": "stream",
          "name": "stdout",
          "text": [
            "              precision    recall  f1-score   support\n",
            "\n",
            "           0       0.60      0.74      0.66       106\n",
            "           1       0.66      0.51      0.58       105\n",
            "\n",
            "    accuracy                           0.63       211\n",
            "   macro avg       0.63      0.63      0.62       211\n",
            "weighted avg       0.63      0.63      0.62       211\n",
            "\n"
          ]
        }
      ],
      "source": [
        "print(classification_report(y_test, predictions_knn))"
      ]
    },
    {
      "cell_type": "markdown",
      "id": "04ad33c8",
      "metadata": {
        "papermill": {
          "duration": 0.045443,
          "end_time": "2022-12-28T02:43:38.073508",
          "exception": false,
          "start_time": "2022-12-28T02:43:38.028065",
          "status": "completed"
        },
        "tags": [],
        "id": "04ad33c8"
      },
      "source": [
        "# Bagging Classifier on KNN"
      ]
    },
    {
      "cell_type": "code",
      "execution_count": 116,
      "id": "253d79a7",
      "metadata": {
        "execution": {
          "iopub.execute_input": "2022-12-28T02:43:38.165605Z",
          "iopub.status.busy": "2022-12-28T02:43:38.165179Z",
          "iopub.status.idle": "2022-12-28T02:43:38.219300Z",
          "shell.execute_reply": "2022-12-28T02:43:38.218414Z"
        },
        "papermill": {
          "duration": 0.103659,
          "end_time": "2022-12-28T02:43:38.221889",
          "exception": false,
          "start_time": "2022-12-28T02:43:38.118230",
          "status": "completed"
        },
        "tags": [],
        "id": "253d79a7"
      },
      "outputs": [],
      "source": [
        "baggingknn = BaggingClassifier(knn, random_state = 42)\n",
        "baggingknn.fit(x_train, y_train)\n",
        "predictions_bknn = baggingknn.predict(x_test)"
      ]
    },
    {
      "cell_type": "code",
      "execution_count": 117,
      "id": "9f45dfa3",
      "metadata": {
        "colab": {
          "base_uri": "https://localhost:8080/"
        },
        "id": "9f45dfa3",
        "outputId": "c4165f96-7efc-414c-e11e-32faf90e92e5"
      },
      "outputs": [
        {
          "output_type": "stream",
          "name": "stdout",
          "text": [
            "Model accuracy score with default hyperparameters: 0.6351\n"
          ]
        }
      ],
      "source": [
        "print('Model accuracy score with default hyperparameters: {0:0.4f}'. format(accuracy_score(y_test, predictions_bknn)))"
      ]
    },
    {
      "cell_type": "code",
      "execution_count": 118,
      "id": "a0dad5ac",
      "metadata": {
        "execution": {
          "iopub.execute_input": "2022-12-28T02:43:38.315366Z",
          "iopub.status.busy": "2022-12-28T02:43:38.314353Z",
          "iopub.status.idle": "2022-12-28T02:43:38.324710Z",
          "shell.execute_reply": "2022-12-28T02:43:38.323094Z"
        },
        "papermill": {
          "duration": 0.059581,
          "end_time": "2022-12-28T02:43:38.327582",
          "exception": false,
          "start_time": "2022-12-28T02:43:38.268001",
          "status": "completed"
        },
        "tags": [],
        "colab": {
          "base_uri": "https://localhost:8080/"
        },
        "id": "a0dad5ac",
        "outputId": "87950c5d-e5a5-475a-ddff-da31ce3e5fbd"
      },
      "outputs": [
        {
          "output_type": "stream",
          "name": "stdout",
          "text": [
            "              precision    recall  f1-score   support\n",
            "\n",
            "           0       0.62      0.72      0.66       106\n",
            "           1       0.66      0.55      0.60       105\n",
            "\n",
            "    accuracy                           0.64       211\n",
            "   macro avg       0.64      0.63      0.63       211\n",
            "weighted avg       0.64      0.64      0.63       211\n",
            "\n"
          ]
        }
      ],
      "source": [
        "print(classification_report(y_test, predictions_bknn))"
      ]
    },
    {
      "cell_type": "code",
      "execution_count": 119,
      "id": "18e42dc2",
      "metadata": {
        "execution": {
          "iopub.execute_input": "2022-12-28T02:43:38.606955Z",
          "iopub.status.busy": "2022-12-28T02:43:38.606116Z",
          "iopub.status.idle": "2022-12-28T02:43:38.847142Z",
          "shell.execute_reply": "2022-12-28T02:43:38.845928Z"
        },
        "papermill": {
          "duration": 0.291,
          "end_time": "2022-12-28T02:43:38.849900",
          "exception": false,
          "start_time": "2022-12-28T02:43:38.558900",
          "status": "completed"
        },
        "scrolled": true,
        "tags": [],
        "colab": {
          "base_uri": "https://localhost:8080/",
          "height": 449
        },
        "id": "18e42dc2",
        "outputId": "6b78d69f-3e57-4c5b-a202-7cefddb2188c"
      },
      "outputs": [
        {
          "output_type": "display_data",
          "data": {
            "text/plain": [
              "<Figure size 640x480 with 2 Axes>"
            ],
            "image/png": "[encoded data removed]"
          },
          "metadata": {}
        }
      ],
      "source": [
        "confusion_matrix_vizualiser(y_test, predictions_bknn)"
      ]
    },
    {
      "cell_type": "markdown",
      "id": "361956bc",
      "metadata": {
        "id": "361956bc"
      },
      "source": [
        "# SVM Model"
      ]
    },
    {
      "cell_type": "code",
      "execution_count": 120,
      "id": "e25e8cd3",
      "metadata": {
        "id": "e25e8cd3"
      },
      "outputs": [],
      "source": [
        "from sklearn.svm import SVC"
      ]
    },
    {
      "cell_type": "code",
      "execution_count": 121,
      "id": "9a4e49d1",
      "metadata": {
        "id": "9a4e49d1"
      },
      "outputs": [],
      "source": [
        "svc = SVC()"
      ]
    },
    {
      "cell_type": "code",
      "execution_count": 122,
      "id": "791fd730",
      "metadata": {
        "execution": {
          "iopub.execute_input": "2022-12-28T02:43:37.341185Z",
          "iopub.status.busy": "2022-12-28T02:43:37.340746Z",
          "iopub.status.idle": "2022-12-28T02:43:37.359149Z",
          "shell.execute_reply": "2022-12-28T02:43:37.357884Z"
        },
        "papermill": {
          "duration": 0.066522,
          "end_time": "2022-12-28T02:43:37.362087",
          "exception": false,
          "start_time": "2022-12-28T02:43:37.295565",
          "status": "completed"
        },
        "tags": [],
        "id": "791fd730"
      },
      "outputs": [],
      "source": [
        "svc.fit(x_train, y_train)\n",
        "predictions_svc = knn.predict(x_test)"
      ]
    },
    {
      "cell_type": "code",
      "execution_count": 123,
      "metadata": {
        "execution": {
          "iopub.execute_input": "2022-12-28T02:43:37.455012Z",
          "iopub.status.busy": "2022-12-28T02:43:37.453853Z",
          "iopub.status.idle": "2022-12-28T02:43:37.461461Z",
          "shell.execute_reply": "2022-12-28T02:43:37.460438Z"
        },
        "papermill": {
          "duration": 0.05528,
          "end_time": "2022-12-28T02:43:37.463640",
          "exception": false,
          "start_time": "2022-12-28T02:43:37.408360",
          "status": "completed"
        },
        "tags": [],
        "colab": {
          "base_uri": "https://localhost:8080/"
        },
        "id": "HKhE5ckOhK0C",
        "outputId": "371c99fa-0658-4352-93b0-2e0aaf7ab378"
      },
      "outputs": [
        {
          "output_type": "execute_result",
          "data": {
            "text/plain": [
              "(211,)"
            ]
          },
          "metadata": {},
          "execution_count": 123
        }
      ],
      "source": [
        "predictions_svc.shape"
      ],
      "id": "HKhE5ckOhK0C"
    },
    {
      "cell_type": "code",
      "execution_count": 124,
      "id": "f790a6fe",
      "metadata": {
        "colab": {
          "base_uri": "https://localhost:8080/"
        },
        "id": "f790a6fe",
        "outputId": "248e9fe3-f823-4598-f5c1-eced871f0fd9"
      },
      "outputs": [
        {
          "output_type": "stream",
          "name": "stdout",
          "text": [
            "Model accuracy score with default hyperparameters: 0.6256\n"
          ]
        }
      ],
      "source": [
        "print('Model accuracy score with default hyperparameters: {0:0.4f}'. format(accuracy_score(y_test, predictions_svc)))"
      ]
    },
    {
      "cell_type": "code",
      "execution_count": 125,
      "metadata": {
        "execution": {
          "iopub.execute_input": "2022-12-28T02:43:37.554820Z",
          "iopub.status.busy": "2022-12-28T02:43:37.554051Z",
          "iopub.status.idle": "2022-12-28T02:43:37.726217Z",
          "shell.execute_reply": "2022-12-28T02:43:37.725198Z"
        },
        "papermill": {
          "duration": 0.22344,
          "end_time": "2022-12-28T02:43:37.731954",
          "exception": false,
          "start_time": "2022-12-28T02:43:37.508514",
          "status": "completed"
        },
        "scrolled": false,
        "tags": [],
        "colab": {
          "base_uri": "https://localhost:8080/",
          "height": 449
        },
        "id": "tFLhs1hIhK0D",
        "outputId": "023eb9c4-3b1d-4c5e-d481-b70d8ca92840"
      },
      "outputs": [
        {
          "output_type": "display_data",
          "data": {
            "text/plain": [
              "<Figure size 640x480 with 2 Axes>"
            ],
            "image/png": "[encoded data removed]"
          },
          "metadata": {}
        }
      ],
      "source": [
        "confusion_matrix_vizualiser(y_test, predictions_svc)"
      ],
      "id": "tFLhs1hIhK0D"
    },
    {
      "cell_type": "code",
      "execution_count": 126,
      "metadata": {
        "execution": {
          "iopub.execute_input": "2022-12-28T02:43:37.828010Z",
          "iopub.status.busy": "2022-12-28T02:43:37.827287Z",
          "iopub.status.idle": "2022-12-28T02:43:37.838939Z",
          "shell.execute_reply": "2022-12-28T02:43:37.836452Z"
        },
        "papermill": {
          "duration": 0.06109,
          "end_time": "2022-12-28T02:43:37.841445",
          "exception": false,
          "start_time": "2022-12-28T02:43:37.780355",
          "status": "completed"
        },
        "scrolled": true,
        "tags": [],
        "colab": {
          "base_uri": "https://localhost:8080/"
        },
        "id": "IRCskeoAhK0D",
        "outputId": "b12ce2f4-48b0-4b97-c490-aa0f0a5908e4"
      },
      "outputs": [
        {
          "output_type": "stream",
          "name": "stdout",
          "text": [
            "              precision    recall  f1-score   support\n",
            "\n",
            "           0       0.60      0.74      0.66       106\n",
            "           1       0.66      0.51      0.58       105\n",
            "\n",
            "    accuracy                           0.63       211\n",
            "   macro avg       0.63      0.63      0.62       211\n",
            "weighted avg       0.63      0.63      0.62       211\n",
            "\n"
          ]
        }
      ],
      "source": [
        "print(classification_report(y_test, predictions_svc))"
      ],
      "id": "IRCskeoAhK0D"
    },
    {
      "cell_type": "markdown",
      "id": "7a3afff8",
      "metadata": {
        "id": "7a3afff8"
      },
      "source": []
    },
    {
      "cell_type": "markdown",
      "id": "d885a189",
      "metadata": {
        "id": "d885a189"
      },
      "source": [
        "## Neural Networks"
      ]
    },
    {
      "cell_type": "code",
      "execution_count": 127,
      "id": "7b4e9e18",
      "metadata": {
        "id": "7b4e9e18"
      },
      "outputs": [],
      "source": [
        "import tensorflow as tf\n",
        "from tensorflow import keras\n",
        "from keras.models import Sequential\n",
        "from keras.layers import Dense"
      ]
    },
    {
      "cell_type": "code",
      "execution_count": 128,
      "id": "0dcba37e",
      "metadata": {
        "colab": {
          "base_uri": "https://localhost:8080/"
        },
        "id": "0dcba37e",
        "outputId": "4827391a-47fe-4470-d526-295f70ed9615"
      },
      "outputs": [
        {
          "output_type": "stream",
          "name": "stdout",
          "text": [
            "Model: \"sequential\"\n",
            "_________________________________________________________________\n",
            " Layer (type)                Output Shape              Param #   \n",
            "=================================================================\n",
            " dense (Dense)               (None, 32)                608       \n",
            "                                                                 \n",
            " dense_1 (Dense)             (None, 16)                528       \n",
            "                                                                 \n",
            " dense_2 (Dense)             (None, 8)                 136       \n",
            "                                                                 \n",
            " dense_3 (Dense)             (None, 1)                 9         \n",
            "                                                                 \n",
            "=================================================================\n",
            "Total params: 1,281\n",
            "Trainable params: 1,281\n",
            "Non-trainable params: 0\n",
            "_________________________________________________________________\n"
          ]
        }
      ],
      "source": [
        "# Defining our sequential model\n",
        "nn = Sequential()\n",
        "nn.add(Dense(32, input_shape=(x_train.shape[1],), activation='relu',kernel_regularizer=keras.regularizers.l2(0.01)))\n",
        "nn.add(Dense(16, activation='relu'))\n",
        "nn.add(Dense(8, activation='sigmoid'))\n",
        "nn.add(Dense(1))\n",
        "\n",
        "nn.summary()"
      ]
    },
    {
      "cell_type": "code",
      "execution_count": 129,
      "id": "5e09cd95",
      "metadata": {
        "id": "5e09cd95"
      },
      "outputs": [],
      "source": [
        "nn.compile(optimizer='adam',loss = tf.keras.losses.BinaryCrossentropy(from_logits=True), metrics=['accuracy'])"
      ]
    },
    {
      "cell_type": "code",
      "execution_count": null,
      "id": "e310671b",
      "metadata": {
        "id": "e310671b"
      },
      "outputs": [],
      "source": []
    },
    {
      "cell_type": "code",
      "execution_count": 130,
      "id": "62f80598",
      "metadata": {
        "id": "62f80598"
      },
      "outputs": [],
      "source": [
        "import time"
      ]
    },
    {
      "cell_type": "code",
      "execution_count": 131,
      "id": "8cd5d9d7",
      "metadata": {
        "colab": {
          "base_uri": "https://localhost:8080/"
        },
        "id": "8cd5d9d7",
        "outputId": "31a0c4b9-8ef0-4468-96d2-cea1dbb692b0"
      },
      "outputs": [
        {
          "output_type": "stream",
          "name": "stdout",
          "text": [
            "Epoch 1/10\n",
            "64/64 [==============================] - 2s 6ms/step - loss: 0.9933 - accuracy: 0.4992 - val_loss: 0.9219 - val_accuracy: 0.5024\n",
            "Epoch 2/10\n",
            "64/64 [==============================] - 0s 3ms/step - loss: 0.8769 - accuracy: 0.4992 - val_loss: 0.8993 - val_accuracy: 0.5024\n",
            "Epoch 3/10\n",
            "64/64 [==============================] - 0s 3ms/step - loss: 0.8124 - accuracy: 0.4992 - val_loss: 0.7625 - val_accuracy: 0.5024\n",
            "Epoch 4/10\n",
            "64/64 [==============================] - 0s 3ms/step - loss: 0.7493 - accuracy: 0.4992 - val_loss: 0.7352 - val_accuracy: 0.5024\n",
            "Epoch 5/10\n",
            "64/64 [==============================] - 0s 3ms/step - loss: 0.7289 - accuracy: 0.4992 - val_loss: 0.7206 - val_accuracy: 0.5024\n",
            "Epoch 6/10\n",
            "64/64 [==============================] - 0s 3ms/step - loss: 0.7178 - accuracy: 0.4992 - val_loss: 0.7136 - val_accuracy: 0.5024\n",
            "Epoch 7/10\n",
            "64/64 [==============================] - 0s 3ms/step - loss: 0.7124 - accuracy: 0.4992 - val_loss: 0.7102 - val_accuracy: 0.5024\n",
            "Epoch 8/10\n",
            "64/64 [==============================] - 0s 3ms/step - loss: 0.7097 - accuracy: 0.4992 - val_loss: 0.7082 - val_accuracy: 0.5024\n",
            "Epoch 9/10\n",
            "64/64 [==============================] - 0s 3ms/step - loss: 0.7083 - accuracy: 0.4992 - val_loss: 0.7071 - val_accuracy: 0.5024\n",
            "Epoch 10/10\n",
            "64/64 [==============================] - 0s 3ms/step - loss: 0.7075 - accuracy: 0.4992 - val_loss: 0.7064 - val_accuracy: 0.5024\n",
            "Execution Completed in: 3.7903661959999226\n"
          ]
        }
      ],
      "source": [
        "startnn = time.perf_counter()\n",
        "\n",
        "EPOCHS = 10\n",
        "BATCH_SIZE = 10\n",
        "history = nn.fit(x_train, y_train, validation_data=(x_test, y_test), epochs=EPOCHS, batch_size=BATCH_SIZE)\n",
        "\n",
        "\n",
        "\n",
        "endnn = time.perf_counter()\n",
        "\n",
        "print('Execution Completed in:', endnn - startnn)\n",
        "\n",
        "nn_timer = endnn - startnn"
      ]
    },
    {
      "cell_type": "code",
      "execution_count": 132,
      "id": "4180d952",
      "metadata": {
        "colab": {
          "base_uri": "https://localhost:8080/"
        },
        "id": "4180d952",
        "outputId": "061be3cf-2afd-4922-d9ec-468e707a2298"
      },
      "outputs": [
        {
          "output_type": "stream",
          "name": "stdout",
          "text": [
            "Test loss: 0.7064450979232788\n",
            "Test accuracy: 0.5023696422576904\n"
          ]
        }
      ],
      "source": [
        "score = nn.evaluate(x_test, y_test, verbose=0)\n",
        "print('Test loss:', score[0])\n",
        "print('Test accuracy:', score[1])"
      ]
    },
    {
      "cell_type": "code",
      "execution_count": 133,
      "id": "5dbf8b68",
      "metadata": {
        "colab": {
          "base_uri": "https://localhost:8080/",
          "height": 927
        },
        "id": "5dbf8b68",
        "outputId": "69beefeb-6571-4361-b0e3-6f4ffc043695"
      },
      "outputs": [
        {
          "output_type": "display_data",
          "data": {
            "text/plain": [
              "<Figure size 640x480 with 1 Axes>"
            ],
            "image/png": "[encoded data removed]"
          },
          "metadata": {}
        },
        {
          "output_type": "display_data",
          "data": {
            "text/plain": [
              "<Figure size 640x480 with 1 Axes>"
            ],
            "image/png": "[encoded data removed]"
          },
          "metadata": {}
        }
      ],
      "source": [
        "plt.plot(history.history['accuracy'])\n",
        "plt.plot(history.history['val_accuracy'])\n",
        "plt.title('Model Accuracy')\n",
        "plt.ylabel('Accuracy')\n",
        "plt.xlabel('epochs')\n",
        "plt.legend(['train', 'test'], loc='upper left')\n",
        "plt.show()\n",
        "\n",
        "plt.plot(history.history['loss'])\n",
        "plt.plot(history.history['val_loss'])\n",
        "plt.title('Model Loss')\n",
        "plt.ylabel('loss')\n",
        "plt.xlabel('epochs')\n",
        "plt.legend(['train', 'test'], loc='upper right')\n",
        "plt.show()"
      ]
    },
    {
      "cell_type": "markdown",
      "id": "5329d1f0",
      "metadata": {
        "id": "5329d1f0"
      },
      "source": [
        "### Applying Neural Networks on a smaller data set with smaller number of features and with only 18 features, may result in inaccurate network training. Therefore, in the above graph, we see that both training and testing accruacy stay constant throuh out the training proecss\n",
        "\n",
        "### But the training and the testing losses decreased over a period of time"
      ]
    },
    {
      "cell_type": "code",
      "execution_count": null,
      "id": "f74604c9",
      "metadata": {
        "id": "f74604c9"
      },
      "outputs": [],
      "source": []
    }
  ],
  "metadata": {
    "kernelspec": {
      "display_name": "Python 3 (ipykernel)",
      "language": "python",
      "name": "python3"
    },
    "language_info": {
      "codemirror_mode": {
        "name": "ipython",
        "version": 3
      },
      "file_extension": ".py",
      "mimetype": "text/x-python",
      "name": "python",
      "nbconvert_exporter": "python",
      "pygments_lexer": "ipython3",
      "version": "3.7.9"
    },
    "papermill": {
      "default_parameters": {},
      "duration": 65.080019,
      "end_time": "2022-12-28T02:43:48.957600",
      "environment_variables": {},
      "exception": null,
      "input_path": "__notebook__.ipynb",
      "output_path": "__notebook__.ipynb",
      "parameters": {},
      "start_time": "2022-12-28T02:42:43.877581",
      "version": "2.3.4"
    },
    "colab": {
      "provenance": [],
      "collapsed_sections": [
        "7e71b1cc"
      ]
    }
  },
  "nbformat": 4,
  "nbformat_minor": 5
}